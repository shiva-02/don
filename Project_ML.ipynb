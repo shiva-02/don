{
  "nbformat": 4,
  "nbformat_minor": 0,
  "metadata": {
    "kernelspec": {
      "display_name": "Python 3",
      "language": "python",
      "name": "python3"
    },
    "language_info": {
      "codemirror_mode": {
        "name": "ipython",
        "version": 3
      },
      "file_extension": ".py",
      "mimetype": "text/x-python",
      "name": "python",
      "nbconvert_exporter": "python",
      "pygments_lexer": "ipython3",
      "version": "3.7.4"
    },
    "colab": {
      "name": "Project_ML.ipynb",
      "provenance": [],
      "collapsed_sections": [
        "PtVZlAFuyYNT"
      ],
      "include_colab_link": true
    }
  },
  "cells": [
    {
      "cell_type": "markdown",
      "metadata": {
        "id": "view-in-github",
        "colab_type": "text"
      },
      "source": [
        "<a href=\"https://colab.research.google.com/github/shiva-02/don/blob/master/Project_ML.ipynb\" target=\"_parent\"><img src=\"https://colab.research.google.com/assets/colab-badge.svg\" alt=\"Open In Colab\"/></a>"
      ]
    },
    {
      "cell_type": "markdown",
      "metadata": {
        "id": "9NwNhpWPyC4P",
        "colab_type": "text"
      },
      "source": [
        "## MACHINE LEARNING PROJECT (MANB2153 2019/2020 - SEM2)\n",
        "BY: Aizat, Lohini, Pauline and Shivapriya\n",
        "Question\n",
        "\n",
        "> Your team has been approached by a client to solve their business problem. You are required to propose several solutions (at least 3 variations of solutions) to the client using different machine learning techniques.\n",
        "\n",
        "> The different solutions need to be developed, using Python or R, and the results need to be compared.\n",
        "\n",
        "\n",
        "> Our business problem is on predicting the turnover of employee in Hola Logistics using Machine Learning Techniques.\n",
        "\n",
        "\n",
        "\n"
      ]
    },
    {
      "cell_type": "markdown",
      "metadata": {
        "id": "XvHx6fzIjncl",
        "colab_type": "text"
      },
      "source": [
        "### DESCRIBE DATA"
      ]
    },
    {
      "cell_type": "code",
      "metadata": {
        "id": "0FoJhSTLjncr",
        "colab_type": "code",
        "colab": {}
      },
      "source": [
        "import pandas as pd\n",
        "import numpy as np\n",
        "import matplotlib.pyplot as plt\n",
        "import plotly.express as px"
      ],
      "execution_count": null,
      "outputs": []
    },
    {
      "cell_type": "code",
      "metadata": {
        "id": "r62qO85pjncx",
        "colab_type": "code",
        "colab": {
          "base_uri": "https://localhost:8080/",
          "height": 194
        },
        "outputId": "37711573-f75e-40a3-fb8e-c8b813716d1b"
      },
      "source": [
        "df=pd.read_excel('/content/Employee Data.csv' , delimiter=',')\n",
        "df.head()"
      ],
      "execution_count": null,
      "outputs": [
        {
          "output_type": "execute_result",
          "data": {
            "text/html": [
              "<div>\n",
              "<style scoped>\n",
              "    .dataframe tbody tr th:only-of-type {\n",
              "        vertical-align: middle;\n",
              "    }\n",
              "\n",
              "    .dataframe tbody tr th {\n",
              "        vertical-align: top;\n",
              "    }\n",
              "\n",
              "    .dataframe thead th {\n",
              "        text-align: right;\n",
              "    }\n",
              "</style>\n",
              "<table border=\"1\" class=\"dataframe\">\n",
              "  <thead>\n",
              "    <tr style=\"text-align: right;\">\n",
              "      <th></th>\n",
              "      <th>Class</th>\n",
              "      <th>Gender</th>\n",
              "      <th>YOS</th>\n",
              "      <th>Age</th>\n",
              "      <th>Category</th>\n",
              "      <th>Race</th>\n",
              "      <th>Qualification</th>\n",
              "      <th>Dept</th>\n",
              "      <th>RecordType</th>\n",
              "    </tr>\n",
              "  </thead>\n",
              "  <tbody>\n",
              "    <tr>\n",
              "      <th>0</th>\n",
              "      <td>NSL</td>\n",
              "      <td>F</td>\n",
              "      <td>30.89</td>\n",
              "      <td>51.34</td>\n",
              "      <td>Manager</td>\n",
              "      <td>Indian</td>\n",
              "      <td>Degree &amp; Diploma</td>\n",
              "      <td>Dept 91</td>\n",
              "      <td>A</td>\n",
              "    </tr>\n",
              "    <tr>\n",
              "      <th>1</th>\n",
              "      <td>NSL</td>\n",
              "      <td>F</td>\n",
              "      <td>27.69</td>\n",
              "      <td>52.50</td>\n",
              "      <td>Non Executive</td>\n",
              "      <td>Indian</td>\n",
              "      <td>High School</td>\n",
              "      <td>Dept 73</td>\n",
              "      <td>A</td>\n",
              "    </tr>\n",
              "    <tr>\n",
              "      <th>2</th>\n",
              "      <td>NSL</td>\n",
              "      <td>F</td>\n",
              "      <td>26.92</td>\n",
              "      <td>55.45</td>\n",
              "      <td>Non Executive</td>\n",
              "      <td>Bumiputra</td>\n",
              "      <td>High School</td>\n",
              "      <td>Dept 46</td>\n",
              "      <td>A</td>\n",
              "    </tr>\n",
              "    <tr>\n",
              "      <th>3</th>\n",
              "      <td>NSL</td>\n",
              "      <td>M</td>\n",
              "      <td>27.07</td>\n",
              "      <td>57.08</td>\n",
              "      <td>Executive</td>\n",
              "      <td>Bumiputra</td>\n",
              "      <td>High School</td>\n",
              "      <td>Dept 103</td>\n",
              "      <td>A</td>\n",
              "    </tr>\n",
              "    <tr>\n",
              "      <th>4</th>\n",
              "      <td>NSL</td>\n",
              "      <td>M</td>\n",
              "      <td>27.52</td>\n",
              "      <td>52.09</td>\n",
              "      <td>Executive</td>\n",
              "      <td>Indian</td>\n",
              "      <td>Degree &amp; Diploma</td>\n",
              "      <td>Dept 37</td>\n",
              "      <td>A</td>\n",
              "    </tr>\n",
              "  </tbody>\n",
              "</table>\n",
              "</div>"
            ],
            "text/plain": [
              "  Class Gender    YOS    Age  ...       Race     Qualification      Dept RecordType\n",
              "0   NSL      F  30.89  51.34  ...     Indian  Degree & Diploma   Dept 91          A\n",
              "1   NSL      F  27.69  52.50  ...     Indian       High School   Dept 73          A\n",
              "2   NSL      F  26.92  55.45  ...  Bumiputra       High School   Dept 46          A\n",
              "3   NSL      M  27.07  57.08  ...  Bumiputra       High School  Dept 103          A\n",
              "4   NSL      M  27.52  52.09  ...     Indian  Degree & Diploma   Dept 37          A\n",
              "\n",
              "[5 rows x 9 columns]"
            ]
          },
          "metadata": {
            "tags": []
          },
          "execution_count": 292
        }
      ]
    },
    {
      "cell_type": "code",
      "metadata": {
        "id": "uIODjB4NlJfV",
        "colab_type": "code",
        "colab": {}
      },
      "source": [
        "#from google.colab import drive\n",
        "#drive.mount('/content/drive')"
      ],
      "execution_count": null,
      "outputs": []
    },
    {
      "cell_type": "code",
      "metadata": {
        "id": "0jSJUxJejnc7",
        "colab_type": "code",
        "colab": {
          "base_uri": "https://localhost:8080/",
          "height": 70
        },
        "outputId": "b1f9c121-30f9-45a5-93c4-48038d22582e"
      },
      "source": [
        "df.columns"
      ],
      "execution_count": null,
      "outputs": [
        {
          "output_type": "execute_result",
          "data": {
            "text/plain": [
              "Index(['Class', 'Gender', 'YOS', 'Age', 'Category', 'Race', 'Qualification',\n",
              "       'Dept', 'RecordType'],\n",
              "      dtype='object')"
            ]
          },
          "metadata": {
            "tags": []
          },
          "execution_count": 7
        }
      ]
    },
    {
      "cell_type": "code",
      "metadata": {
        "scrolled": true,
        "id": "fvc4YGeBjnc-",
        "colab_type": "code",
        "colab": {
          "base_uri": "https://localhost:8080/",
          "height": 195
        },
        "outputId": "6c21c27f-ed9c-46cd-9c97-ef5ad67ba22c"
      },
      "source": [
        "df.dtypes"
      ],
      "execution_count": null,
      "outputs": [
        {
          "output_type": "execute_result",
          "data": {
            "text/plain": [
              "Class             object\n",
              "Gender            object\n",
              "YOS              float64\n",
              "Age              float64\n",
              "Category          object\n",
              "Race              object\n",
              "Qualification     object\n",
              "Dept              object\n",
              "RecordType        object\n",
              "dtype: object"
            ]
          },
          "metadata": {
            "tags": []
          },
          "execution_count": 8
        }
      ]
    },
    {
      "cell_type": "code",
      "metadata": {
        "id": "PQsJse81BNrw",
        "colab_type": "code",
        "colab": {
          "base_uri": "https://localhost:8080/",
          "height": 35
        },
        "outputId": "d5a5d26c-cf4e-4dfc-90d5-fba8549e2a66"
      },
      "source": [
        "df.shape"
      ],
      "execution_count": null,
      "outputs": [
        {
          "output_type": "execute_result",
          "data": {
            "text/plain": [
              "(2314, 9)"
            ]
          },
          "metadata": {
            "tags": []
          },
          "execution_count": 9
        }
      ]
    },
    {
      "cell_type": "code",
      "metadata": {
        "id": "JnSe4LwxjndB",
        "colab_type": "code",
        "colab": {
          "base_uri": "https://localhost:8080/",
          "height": 194
        },
        "outputId": "d7d55207-872b-444f-f0b5-ac549042c4df"
      },
      "source": [
        "df=df.dropna()\n",
        "df.head()"
      ],
      "execution_count": null,
      "outputs": [
        {
          "output_type": "execute_result",
          "data": {
            "text/html": [
              "<div>\n",
              "<style scoped>\n",
              "    .dataframe tbody tr th:only-of-type {\n",
              "        vertical-align: middle;\n",
              "    }\n",
              "\n",
              "    .dataframe tbody tr th {\n",
              "        vertical-align: top;\n",
              "    }\n",
              "\n",
              "    .dataframe thead th {\n",
              "        text-align: right;\n",
              "    }\n",
              "</style>\n",
              "<table border=\"1\" class=\"dataframe\">\n",
              "  <thead>\n",
              "    <tr style=\"text-align: right;\">\n",
              "      <th></th>\n",
              "      <th>Class</th>\n",
              "      <th>Gender</th>\n",
              "      <th>YOS</th>\n",
              "      <th>Age</th>\n",
              "      <th>Category</th>\n",
              "      <th>Race</th>\n",
              "      <th>Qualification</th>\n",
              "      <th>Dept</th>\n",
              "      <th>RecordType</th>\n",
              "    </tr>\n",
              "  </thead>\n",
              "  <tbody>\n",
              "    <tr>\n",
              "      <th>0</th>\n",
              "      <td>NSL</td>\n",
              "      <td>F</td>\n",
              "      <td>30.89</td>\n",
              "      <td>51.34</td>\n",
              "      <td>Manager</td>\n",
              "      <td>Indian</td>\n",
              "      <td>Degree &amp; Diploma</td>\n",
              "      <td>Dept 91</td>\n",
              "      <td>A</td>\n",
              "    </tr>\n",
              "    <tr>\n",
              "      <th>1</th>\n",
              "      <td>NSL</td>\n",
              "      <td>F</td>\n",
              "      <td>27.69</td>\n",
              "      <td>52.50</td>\n",
              "      <td>Non Executive</td>\n",
              "      <td>Indian</td>\n",
              "      <td>High School</td>\n",
              "      <td>Dept 73</td>\n",
              "      <td>A</td>\n",
              "    </tr>\n",
              "    <tr>\n",
              "      <th>2</th>\n",
              "      <td>NSL</td>\n",
              "      <td>F</td>\n",
              "      <td>26.92</td>\n",
              "      <td>55.45</td>\n",
              "      <td>Non Executive</td>\n",
              "      <td>Bumiputra</td>\n",
              "      <td>High School</td>\n",
              "      <td>Dept 46</td>\n",
              "      <td>A</td>\n",
              "    </tr>\n",
              "    <tr>\n",
              "      <th>3</th>\n",
              "      <td>NSL</td>\n",
              "      <td>M</td>\n",
              "      <td>27.07</td>\n",
              "      <td>57.08</td>\n",
              "      <td>Executive</td>\n",
              "      <td>Bumiputra</td>\n",
              "      <td>High School</td>\n",
              "      <td>Dept 103</td>\n",
              "      <td>A</td>\n",
              "    </tr>\n",
              "    <tr>\n",
              "      <th>4</th>\n",
              "      <td>NSL</td>\n",
              "      <td>M</td>\n",
              "      <td>27.52</td>\n",
              "      <td>52.09</td>\n",
              "      <td>Executive</td>\n",
              "      <td>Indian</td>\n",
              "      <td>Degree &amp; Diploma</td>\n",
              "      <td>Dept 37</td>\n",
              "      <td>A</td>\n",
              "    </tr>\n",
              "  </tbody>\n",
              "</table>\n",
              "</div>"
            ],
            "text/plain": [
              "  Class Gender    YOS    Age  ...       Race     Qualification      Dept RecordType\n",
              "0   NSL      F  30.89  51.34  ...     Indian  Degree & Diploma   Dept 91          A\n",
              "1   NSL      F  27.69  52.50  ...     Indian       High School   Dept 73          A\n",
              "2   NSL      F  26.92  55.45  ...  Bumiputra       High School   Dept 46          A\n",
              "3   NSL      M  27.07  57.08  ...  Bumiputra       High School  Dept 103          A\n",
              "4   NSL      M  27.52  52.09  ...     Indian  Degree & Diploma   Dept 37          A\n",
              "\n",
              "[5 rows x 9 columns]"
            ]
          },
          "metadata": {
            "tags": []
          },
          "execution_count": 293
        }
      ]
    },
    {
      "cell_type": "code",
      "metadata": {
        "id": "RddHaI1XBVyW",
        "colab_type": "code",
        "colab": {
          "base_uri": "https://localhost:8080/",
          "height": 35
        },
        "outputId": "9329bfe5-ea2f-454b-82b3-657500cd088a"
      },
      "source": [
        "df.shape"
      ],
      "execution_count": null,
      "outputs": [
        {
          "output_type": "execute_result",
          "data": {
            "text/plain": [
              "(2293, 9)"
            ]
          },
          "metadata": {
            "tags": []
          },
          "execution_count": 95
        }
      ]
    },
    {
      "cell_type": "markdown",
      "metadata": {
        "id": "dvC6YwGtZGfH",
        "colab_type": "text"
      },
      "source": [
        "\n",
        "\n",
        "*   After removing null values, there has been a reduction in the rows of data. This shows rows with null variables has been removed from the dataset as a process of DATA CLEANING.\n",
        "\n"
      ]
    },
    {
      "cell_type": "code",
      "metadata": {
        "id": "_qZOUPSxRHpQ",
        "colab_type": "code",
        "colab": {
          "base_uri": "https://localhost:8080/",
          "height": 319
        },
        "outputId": "c3b3525b-1e2b-4b57-f38c-610bcf87c487"
      },
      "source": [
        "df.info()"
      ],
      "execution_count": null,
      "outputs": [
        {
          "output_type": "stream",
          "text": [
            "<class 'pandas.core.frame.DataFrame'>\n",
            "Int64Index: 2293 entries, 0 to 2313\n",
            "Data columns (total 10 columns):\n",
            " #   Column         Non-Null Count  Dtype   \n",
            "---  ------         --------------  -----   \n",
            " 0   Class          2293 non-null   object  \n",
            " 1   Gender         2293 non-null   object  \n",
            " 2   YOS            2293 non-null   float64 \n",
            " 3   Age            2293 non-null   float64 \n",
            " 4   AgeGroup       2293 non-null   category\n",
            " 5   Category       2293 non-null   object  \n",
            " 6   Race           2293 non-null   object  \n",
            " 7   Qualification  2293 non-null   object  \n",
            " 8   Dept           2293 non-null   object  \n",
            " 9   RecordType     2293 non-null   object  \n",
            "dtypes: category(1), float64(2), object(7)\n",
            "memory usage: 181.6+ KB\n"
          ],
          "name": "stdout"
        }
      ]
    },
    {
      "cell_type": "code",
      "metadata": {
        "id": "AQPM5iVSjndI",
        "colab_type": "code",
        "colab": {}
      },
      "source": [
        "categorical_features = [\"Class\", \"Category\", \"Gender\", \"Race\", \"Qualification\", \"Dept\" , \"AgeGroup\"] \n",
        "                        \n",
        "numerical_features = [\"YOS\", \"Age\"]\n",
        "\n",
        "target = [\"RecordType\"]"
      ],
      "execution_count": null,
      "outputs": []
    },
    {
      "cell_type": "code",
      "metadata": {
        "id": "5LE9C8RqjndL",
        "colab_type": "code",
        "colab": {
          "base_uri": "https://localhost:8080/",
          "height": 282
        },
        "outputId": "5ced60e3-3b9a-4069-d6d2-43c8d06f3d9a"
      },
      "source": [
        "df[numerical_features].describe()"
      ],
      "execution_count": null,
      "outputs": [
        {
          "output_type": "execute_result",
          "data": {
            "text/html": [
              "<div>\n",
              "<style scoped>\n",
              "    .dataframe tbody tr th:only-of-type {\n",
              "        vertical-align: middle;\n",
              "    }\n",
              "\n",
              "    .dataframe tbody tr th {\n",
              "        vertical-align: top;\n",
              "    }\n",
              "\n",
              "    .dataframe thead th {\n",
              "        text-align: right;\n",
              "    }\n",
              "</style>\n",
              "<table border=\"1\" class=\"dataframe\">\n",
              "  <thead>\n",
              "    <tr style=\"text-align: right;\">\n",
              "      <th></th>\n",
              "      <th>YOS</th>\n",
              "      <th>Age</th>\n",
              "    </tr>\n",
              "  </thead>\n",
              "  <tbody>\n",
              "    <tr>\n",
              "      <th>count</th>\n",
              "      <td>2293.000000</td>\n",
              "      <td>2293.000000</td>\n",
              "    </tr>\n",
              "    <tr>\n",
              "      <th>mean</th>\n",
              "      <td>9.330497</td>\n",
              "      <td>38.043908</td>\n",
              "    </tr>\n",
              "    <tr>\n",
              "      <th>std</th>\n",
              "      <td>8.715325</td>\n",
              "      <td>9.634033</td>\n",
              "    </tr>\n",
              "    <tr>\n",
              "      <th>min</th>\n",
              "      <td>0.030000</td>\n",
              "      <td>21.540000</td>\n",
              "    </tr>\n",
              "    <tr>\n",
              "      <th>25%</th>\n",
              "      <td>2.250000</td>\n",
              "      <td>30.620000</td>\n",
              "    </tr>\n",
              "    <tr>\n",
              "      <th>50%</th>\n",
              "      <td>6.630000</td>\n",
              "      <td>36.330000</td>\n",
              "    </tr>\n",
              "    <tr>\n",
              "      <th>75%</th>\n",
              "      <td>13.800000</td>\n",
              "      <td>44.190000</td>\n",
              "    </tr>\n",
              "    <tr>\n",
              "      <th>max</th>\n",
              "      <td>45.870000</td>\n",
              "      <td>67.450000</td>\n",
              "    </tr>\n",
              "  </tbody>\n",
              "</table>\n",
              "</div>"
            ],
            "text/plain": [
              "               YOS          Age\n",
              "count  2293.000000  2293.000000\n",
              "mean      9.330497    38.043908\n",
              "std       8.715325     9.634033\n",
              "min       0.030000    21.540000\n",
              "25%       2.250000    30.620000\n",
              "50%       6.630000    36.330000\n",
              "75%      13.800000    44.190000\n",
              "max      45.870000    67.450000"
            ]
          },
          "metadata": {
            "tags": []
          },
          "execution_count": 13
        }
      ]
    },
    {
      "cell_type": "code",
      "metadata": {
        "id": "MfZaiARNSqkp",
        "colab_type": "code",
        "colab": {}
      },
      "source": [
        "df.describe()"
      ],
      "execution_count": null,
      "outputs": []
    },
    {
      "cell_type": "code",
      "metadata": {
        "id": "K6XTKBhfRbM6",
        "colab_type": "code",
        "colab": {
          "base_uri": "https://localhost:8080/",
          "height": 164
        },
        "outputId": "aaf4c325-8bdb-48a5-f4e1-6d0ca845d21b"
      },
      "source": [
        "df.describe(include=np.object)"
      ],
      "execution_count": null,
      "outputs": [
        {
          "output_type": "execute_result",
          "data": {
            "text/html": [
              "<div>\n",
              "<style scoped>\n",
              "    .dataframe tbody tr th:only-of-type {\n",
              "        vertical-align: middle;\n",
              "    }\n",
              "\n",
              "    .dataframe tbody tr th {\n",
              "        vertical-align: top;\n",
              "    }\n",
              "\n",
              "    .dataframe thead th {\n",
              "        text-align: right;\n",
              "    }\n",
              "</style>\n",
              "<table border=\"1\" class=\"dataframe\">\n",
              "  <thead>\n",
              "    <tr style=\"text-align: right;\">\n",
              "      <th></th>\n",
              "      <th>Class</th>\n",
              "      <th>Gender</th>\n",
              "      <th>Category</th>\n",
              "      <th>Race</th>\n",
              "      <th>Qualification</th>\n",
              "      <th>Dept</th>\n",
              "      <th>RecordType</th>\n",
              "    </tr>\n",
              "  </thead>\n",
              "  <tbody>\n",
              "    <tr>\n",
              "      <th>count</th>\n",
              "      <td>2293</td>\n",
              "      <td>2293</td>\n",
              "      <td>2293</td>\n",
              "      <td>2293</td>\n",
              "      <td>2293</td>\n",
              "      <td>2293</td>\n",
              "      <td>2293</td>\n",
              "    </tr>\n",
              "    <tr>\n",
              "      <th>unique</th>\n",
              "      <td>2</td>\n",
              "      <td>2</td>\n",
              "      <td>4</td>\n",
              "      <td>4</td>\n",
              "      <td>4</td>\n",
              "      <td>131</td>\n",
              "      <td>2</td>\n",
              "    </tr>\n",
              "    <tr>\n",
              "      <th>top</th>\n",
              "      <td>NSL</td>\n",
              "      <td>F</td>\n",
              "      <td>Executive</td>\n",
              "      <td>Chinese</td>\n",
              "      <td>Degree &amp; Diploma</td>\n",
              "      <td>Dept 36</td>\n",
              "      <td>A</td>\n",
              "    </tr>\n",
              "    <tr>\n",
              "      <th>freq</th>\n",
              "      <td>1723</td>\n",
              "      <td>1531</td>\n",
              "      <td>1409</td>\n",
              "      <td>1223</td>\n",
              "      <td>1545</td>\n",
              "      <td>120</td>\n",
              "      <td>2137</td>\n",
              "    </tr>\n",
              "  </tbody>\n",
              "</table>\n",
              "</div>"
            ],
            "text/plain": [
              "       Class Gender   Category     Race     Qualification     Dept RecordType\n",
              "count   2293   2293       2293     2293              2293     2293       2293\n",
              "unique     2      2          4        4                 4      131          2\n",
              "top      NSL      F  Executive  Chinese  Degree & Diploma  Dept 36          A\n",
              "freq    1723   1531       1409     1223              1545      120       2137"
            ]
          },
          "metadata": {
            "tags": []
          },
          "execution_count": 22
        }
      ]
    },
    {
      "cell_type": "markdown",
      "metadata": {
        "id": "RFvdBUJHZVsj",
        "colab_type": "text"
      },
      "source": [
        "\n",
        "\n",
        "*   With this information, we can figure out easily the highest value in each variable. For instance, our data has more female than male and more from non sales class. Employees who hold executive position is the most too.\n",
        "\n"
      ]
    },
    {
      "cell_type": "code",
      "metadata": {
        "id": "7DrVc876jndP",
        "colab_type": "code",
        "colab": {
          "base_uri": "https://localhost:8080/",
          "height": 124
        },
        "outputId": "536d752d-11c0-49a6-de35-aabcfd71984e"
      },
      "source": [
        "pd.set_option('display.max_rows', None)\n",
        "df_ages = df['Age']\n",
        "df_ages.head()"
      ],
      "execution_count": null,
      "outputs": [
        {
          "output_type": "execute_result",
          "data": {
            "text/plain": [
              "0    51.34\n",
              "1    52.50\n",
              "2    55.45\n",
              "3    57.08\n",
              "4    52.09\n",
              "Name: Age, dtype: float64"
            ]
          },
          "metadata": {
            "tags": []
          },
          "execution_count": 14
        }
      ]
    },
    {
      "cell_type": "code",
      "metadata": {
        "id": "mm05NM2mjndT",
        "colab_type": "code",
        "colab": {}
      },
      "source": [
        "df=df.drop(columns=\"AgeGroup\")"
      ],
      "execution_count": null,
      "outputs": []
    },
    {
      "cell_type": "code",
      "metadata": {
        "id": "dweYZ8OfjndV",
        "colab_type": "code",
        "colab": {}
      },
      "source": [
        "category = pd.cut(df.Age,bins=[20,29,39,49,59,69],labels=['20s','30s','40s','50s','60s'])\n",
        "df.insert(4,'AgeGroup',category)"
      ],
      "execution_count": null,
      "outputs": []
    },
    {
      "cell_type": "code",
      "metadata": {
        "id": "rDJCgE61jndZ",
        "colab_type": "code",
        "colab": {
          "base_uri": "https://localhost:8080/",
          "height": 194
        },
        "outputId": "da0aec30-a15b-487b-edff-99050d0de0e6"
      },
      "source": [
        "df.head()"
      ],
      "execution_count": null,
      "outputs": [
        {
          "output_type": "execute_result",
          "data": {
            "text/html": [
              "<div>\n",
              "<style scoped>\n",
              "    .dataframe tbody tr th:only-of-type {\n",
              "        vertical-align: middle;\n",
              "    }\n",
              "\n",
              "    .dataframe tbody tr th {\n",
              "        vertical-align: top;\n",
              "    }\n",
              "\n",
              "    .dataframe thead th {\n",
              "        text-align: right;\n",
              "    }\n",
              "</style>\n",
              "<table border=\"1\" class=\"dataframe\">\n",
              "  <thead>\n",
              "    <tr style=\"text-align: right;\">\n",
              "      <th></th>\n",
              "      <th>Class</th>\n",
              "      <th>Gender</th>\n",
              "      <th>YOS</th>\n",
              "      <th>Age</th>\n",
              "      <th>AgeGroup</th>\n",
              "      <th>Category</th>\n",
              "      <th>Race</th>\n",
              "      <th>Qualification</th>\n",
              "      <th>Dept</th>\n",
              "      <th>RecordType</th>\n",
              "    </tr>\n",
              "  </thead>\n",
              "  <tbody>\n",
              "    <tr>\n",
              "      <th>0</th>\n",
              "      <td>NSL</td>\n",
              "      <td>F</td>\n",
              "      <td>30.89</td>\n",
              "      <td>51.34</td>\n",
              "      <td>50s</td>\n",
              "      <td>Manager</td>\n",
              "      <td>Indian</td>\n",
              "      <td>Degree &amp; Diploma</td>\n",
              "      <td>Dept 91</td>\n",
              "      <td>A</td>\n",
              "    </tr>\n",
              "    <tr>\n",
              "      <th>1</th>\n",
              "      <td>NSL</td>\n",
              "      <td>F</td>\n",
              "      <td>27.69</td>\n",
              "      <td>52.50</td>\n",
              "      <td>50s</td>\n",
              "      <td>Non Executive</td>\n",
              "      <td>Indian</td>\n",
              "      <td>High School</td>\n",
              "      <td>Dept 73</td>\n",
              "      <td>A</td>\n",
              "    </tr>\n",
              "    <tr>\n",
              "      <th>2</th>\n",
              "      <td>NSL</td>\n",
              "      <td>F</td>\n",
              "      <td>26.92</td>\n",
              "      <td>55.45</td>\n",
              "      <td>50s</td>\n",
              "      <td>Non Executive</td>\n",
              "      <td>Bumiputra</td>\n",
              "      <td>High School</td>\n",
              "      <td>Dept 46</td>\n",
              "      <td>A</td>\n",
              "    </tr>\n",
              "    <tr>\n",
              "      <th>3</th>\n",
              "      <td>NSL</td>\n",
              "      <td>M</td>\n",
              "      <td>27.07</td>\n",
              "      <td>57.08</td>\n",
              "      <td>50s</td>\n",
              "      <td>Executive</td>\n",
              "      <td>Bumiputra</td>\n",
              "      <td>High School</td>\n",
              "      <td>Dept 103</td>\n",
              "      <td>A</td>\n",
              "    </tr>\n",
              "    <tr>\n",
              "      <th>4</th>\n",
              "      <td>NSL</td>\n",
              "      <td>M</td>\n",
              "      <td>27.52</td>\n",
              "      <td>52.09</td>\n",
              "      <td>50s</td>\n",
              "      <td>Executive</td>\n",
              "      <td>Indian</td>\n",
              "      <td>Degree &amp; Diploma</td>\n",
              "      <td>Dept 37</td>\n",
              "      <td>A</td>\n",
              "    </tr>\n",
              "  </tbody>\n",
              "</table>\n",
              "</div>"
            ],
            "text/plain": [
              "  Class Gender    YOS    Age  ...       Race     Qualification      Dept RecordType\n",
              "0   NSL      F  30.89  51.34  ...     Indian  Degree & Diploma   Dept 91          A\n",
              "1   NSL      F  27.69  52.50  ...     Indian       High School   Dept 73          A\n",
              "2   NSL      F  26.92  55.45  ...  Bumiputra       High School   Dept 46          A\n",
              "3   NSL      M  27.07  57.08  ...  Bumiputra       High School  Dept 103          A\n",
              "4   NSL      M  27.52  52.09  ...     Indian  Degree & Diploma   Dept 37          A\n",
              "\n",
              "[5 rows x 10 columns]"
            ]
          },
          "metadata": {
            "tags": []
          },
          "execution_count": 190
        }
      ]
    },
    {
      "cell_type": "markdown",
      "metadata": {
        "id": "ItYpRU5_Z6iT",
        "colab_type": "text"
      },
      "source": [
        "\n",
        "\n",
        "*   Since the age were in continuous form, this code has grouped them to categorical data for easier visualisation.\n",
        "\n"
      ]
    },
    {
      "cell_type": "code",
      "metadata": {
        "scrolled": true,
        "id": "6L5lkNKqjnde",
        "colab_type": "code",
        "colab": {
          "base_uri": "https://localhost:8080/",
          "height": 223
        },
        "outputId": "2dfcb137-c6fb-490d-96dc-770bd4363201"
      },
      "source": [
        "df.groupby('AgeGroup').count()"
      ],
      "execution_count": null,
      "outputs": [
        {
          "output_type": "execute_result",
          "data": {
            "text/html": [
              "<div>\n",
              "<style scoped>\n",
              "    .dataframe tbody tr th:only-of-type {\n",
              "        vertical-align: middle;\n",
              "    }\n",
              "\n",
              "    .dataframe tbody tr th {\n",
              "        vertical-align: top;\n",
              "    }\n",
              "\n",
              "    .dataframe thead th {\n",
              "        text-align: right;\n",
              "    }\n",
              "</style>\n",
              "<table border=\"1\" class=\"dataframe\">\n",
              "  <thead>\n",
              "    <tr style=\"text-align: right;\">\n",
              "      <th></th>\n",
              "      <th>Class</th>\n",
              "      <th>Gender</th>\n",
              "      <th>YOS</th>\n",
              "      <th>Age</th>\n",
              "      <th>Category</th>\n",
              "      <th>Race</th>\n",
              "      <th>Qualification</th>\n",
              "      <th>Dept</th>\n",
              "      <th>RecordType</th>\n",
              "    </tr>\n",
              "    <tr>\n",
              "      <th>AgeGroup</th>\n",
              "      <th></th>\n",
              "      <th></th>\n",
              "      <th></th>\n",
              "      <th></th>\n",
              "      <th></th>\n",
              "      <th></th>\n",
              "      <th></th>\n",
              "      <th></th>\n",
              "      <th></th>\n",
              "    </tr>\n",
              "  </thead>\n",
              "  <tbody>\n",
              "    <tr>\n",
              "      <th>20s</th>\n",
              "      <td>438</td>\n",
              "      <td>438</td>\n",
              "      <td>438</td>\n",
              "      <td>438</td>\n",
              "      <td>438</td>\n",
              "      <td>438</td>\n",
              "      <td>438</td>\n",
              "      <td>438</td>\n",
              "      <td>438</td>\n",
              "    </tr>\n",
              "    <tr>\n",
              "      <th>30s</th>\n",
              "      <td>882</td>\n",
              "      <td>882</td>\n",
              "      <td>882</td>\n",
              "      <td>882</td>\n",
              "      <td>882</td>\n",
              "      <td>882</td>\n",
              "      <td>882</td>\n",
              "      <td>882</td>\n",
              "      <td>882</td>\n",
              "    </tr>\n",
              "    <tr>\n",
              "      <th>40s</th>\n",
              "      <td>629</td>\n",
              "      <td>629</td>\n",
              "      <td>629</td>\n",
              "      <td>629</td>\n",
              "      <td>629</td>\n",
              "      <td>629</td>\n",
              "      <td>629</td>\n",
              "      <td>629</td>\n",
              "      <td>629</td>\n",
              "    </tr>\n",
              "    <tr>\n",
              "      <th>50s</th>\n",
              "      <td>274</td>\n",
              "      <td>274</td>\n",
              "      <td>274</td>\n",
              "      <td>274</td>\n",
              "      <td>274</td>\n",
              "      <td>274</td>\n",
              "      <td>274</td>\n",
              "      <td>274</td>\n",
              "      <td>274</td>\n",
              "    </tr>\n",
              "    <tr>\n",
              "      <th>60s</th>\n",
              "      <td>70</td>\n",
              "      <td>70</td>\n",
              "      <td>70</td>\n",
              "      <td>70</td>\n",
              "      <td>70</td>\n",
              "      <td>70</td>\n",
              "      <td>70</td>\n",
              "      <td>70</td>\n",
              "      <td>70</td>\n",
              "    </tr>\n",
              "  </tbody>\n",
              "</table>\n",
              "</div>"
            ],
            "text/plain": [
              "          Class  Gender  YOS  Age  ...  Race  Qualification  Dept  RecordType\n",
              "AgeGroup                           ...                                       \n",
              "20s         438     438  438  438  ...   438            438   438         438\n",
              "30s         882     882  882  882  ...   882            882   882         882\n",
              "40s         629     629  629  629  ...   629            629   629         629\n",
              "50s         274     274  274  274  ...   274            274   274         274\n",
              "60s          70      70   70   70  ...    70             70    70          70\n",
              "\n",
              "[5 rows x 9 columns]"
            ]
          },
          "metadata": {
            "tags": []
          },
          "execution_count": 17
        }
      ]
    },
    {
      "cell_type": "code",
      "metadata": {
        "id": "byjebQnFjndi",
        "colab_type": "code",
        "colab": {
          "base_uri": "https://localhost:8080/",
          "height": 135
        },
        "outputId": "35002d9a-5677-4242-fbcf-575cd2db574f"
      },
      "source": [
        "df.groupby('RecordType').count()"
      ],
      "execution_count": null,
      "outputs": [
        {
          "output_type": "execute_result",
          "data": {
            "text/html": [
              "<div>\n",
              "<style scoped>\n",
              "    .dataframe tbody tr th:only-of-type {\n",
              "        vertical-align: middle;\n",
              "    }\n",
              "\n",
              "    .dataframe tbody tr th {\n",
              "        vertical-align: top;\n",
              "    }\n",
              "\n",
              "    .dataframe thead th {\n",
              "        text-align: right;\n",
              "    }\n",
              "</style>\n",
              "<table border=\"1\" class=\"dataframe\">\n",
              "  <thead>\n",
              "    <tr style=\"text-align: right;\">\n",
              "      <th></th>\n",
              "      <th>Class</th>\n",
              "      <th>Gender</th>\n",
              "      <th>YOS</th>\n",
              "      <th>Age</th>\n",
              "      <th>AgeGroup</th>\n",
              "      <th>Category</th>\n",
              "      <th>Race</th>\n",
              "      <th>Qualification</th>\n",
              "      <th>Dept</th>\n",
              "    </tr>\n",
              "    <tr>\n",
              "      <th>RecordType</th>\n",
              "      <th></th>\n",
              "      <th></th>\n",
              "      <th></th>\n",
              "      <th></th>\n",
              "      <th></th>\n",
              "      <th></th>\n",
              "      <th></th>\n",
              "      <th></th>\n",
              "      <th></th>\n",
              "    </tr>\n",
              "  </thead>\n",
              "  <tbody>\n",
              "    <tr>\n",
              "      <th>A</th>\n",
              "      <td>2137</td>\n",
              "      <td>2137</td>\n",
              "      <td>2137</td>\n",
              "      <td>2137</td>\n",
              "      <td>2137</td>\n",
              "      <td>2137</td>\n",
              "      <td>2137</td>\n",
              "      <td>2137</td>\n",
              "      <td>2137</td>\n",
              "    </tr>\n",
              "    <tr>\n",
              "      <th>R</th>\n",
              "      <td>156</td>\n",
              "      <td>156</td>\n",
              "      <td>156</td>\n",
              "      <td>156</td>\n",
              "      <td>156</td>\n",
              "      <td>156</td>\n",
              "      <td>156</td>\n",
              "      <td>156</td>\n",
              "      <td>156</td>\n",
              "    </tr>\n",
              "  </tbody>\n",
              "</table>\n",
              "</div>"
            ],
            "text/plain": [
              "            Class  Gender   YOS   Age  ...  Category  Race  Qualification  Dept\n",
              "RecordType                             ...                                     \n",
              "A            2137    2137  2137  2137  ...      2137  2137           2137  2137\n",
              "R             156     156   156   156  ...       156   156            156   156\n",
              "\n",
              "[2 rows x 9 columns]"
            ]
          },
          "metadata": {
            "tags": []
          },
          "execution_count": 18
        }
      ]
    },
    {
      "cell_type": "code",
      "metadata": {
        "id": "zS0kQKlPSe-r",
        "colab_type": "code",
        "colab": {
          "base_uri": "https://localhost:8080/",
          "height": 319
        },
        "outputId": "96cb89f5-de7e-4f8f-c23b-61fd9b497609"
      },
      "source": [
        "#Group of employee in Sales\n",
        "df[\n",
        "...     (df[\"Class\"] == \"SL\") &\n",
        "...     (df[\"Age\"] > 20.1)\n",
        "... ].groupby([\"AgeGroup\", \"Category\"])['RecordType'].count()"
      ],
      "execution_count": null,
      "outputs": [
        {
          "output_type": "execute_result",
          "data": {
            "text/plain": [
              "AgeGroup  Category      \n",
              "20s       Executive          83\n",
              "          Manager             3\n",
              "          Senior Manager      0\n",
              "30s       Executive         147\n",
              "          Manager            75\n",
              "          Senior Manager      1\n",
              "40s       Executive          54\n",
              "          Manager           100\n",
              "          Senior Manager     13\n",
              "50s       Executive          10\n",
              "          Manager            43\n",
              "          Senior Manager     13\n",
              "60s       Executive           4\n",
              "          Manager            17\n",
              "          Senior Manager      7\n",
              "Name: RecordType, dtype: int64"
            ]
          },
          "metadata": {
            "tags": []
          },
          "execution_count": 29
        }
      ]
    },
    {
      "cell_type": "code",
      "metadata": {
        "id": "ap6QcPIFVqYX",
        "colab_type": "code",
        "colab": {
          "base_uri": "https://localhost:8080/",
          "height": 408
        },
        "outputId": "89fb94ae-a485-4207-c773-d673ed58483a"
      },
      "source": [
        "#Group of employee in Non-Sales\n",
        "df[\n",
        "...     (df[\"Class\"] == \"NSL\") &\n",
        "...     (df[\"Age\"] > 20.1)\n",
        "... ].groupby([\"AgeGroup\", \"Category\"])['RecordType'].count()"
      ],
      "execution_count": null,
      "outputs": [
        {
          "output_type": "execute_result",
          "data": {
            "text/plain": [
              "AgeGroup  Category      \n",
              "20s       Executive         329\n",
              "          Manager            10\n",
              "          Non Executive      13\n",
              "          Senior Manager      0\n",
              "30s       Executive         433\n",
              "          Manager           191\n",
              "          Non Executive      31\n",
              "          Senior Manager      4\n",
              "40s       Executive         243\n",
              "          Manager           174\n",
              "          Non Executive      31\n",
              "          Senior Manager     14\n",
              "50s       Executive          88\n",
              "          Manager            89\n",
              "          Non Executive      13\n",
              "          Senior Manager     18\n",
              "60s       Executive          18\n",
              "          Manager            15\n",
              "          Non Executive       4\n",
              "          Senior Manager      5\n",
              "Name: RecordType, dtype: int64"
            ]
          },
          "metadata": {
            "tags": []
          },
          "execution_count": 30
        }
      ]
    },
    {
      "cell_type": "markdown",
      "metadata": {
        "id": "2ymLkT-qV8zu",
        "colab_type": "text"
      },
      "source": [
        "Grouping based on the Sales and Non Sales class of employee"
      ]
    },
    {
      "cell_type": "markdown",
      "metadata": {
        "id": "jjUvtCePzDOi",
        "colab_type": "text"
      },
      "source": [
        "### VISUALIZATION"
      ]
    },
    {
      "cell_type": "code",
      "metadata": {
        "id": "CUOUHB8Wjndl",
        "colab_type": "code",
        "colab": {
          "base_uri": "https://localhost:8080/",
          "height": 552
        },
        "outputId": "7f16762c-9f4c-46d3-e393-31bc10a639c3"
      },
      "source": [
        "df[numerical_features].hist(bins=10, color=\"red\" , figsize=(10, 8))"
      ],
      "execution_count": null,
      "outputs": [
        {
          "output_type": "execute_result",
          "data": {
            "text/plain": [
              "array([[<matplotlib.axes._subplots.AxesSubplot object at 0x7ff7283a3c88>,\n",
              "        <matplotlib.axes._subplots.AxesSubplot object at 0x7ff728355898>]],\n",
              "      dtype=object)"
            ]
          },
          "metadata": {
            "tags": []
          },
          "execution_count": 44
        },
        {
          "output_type": "display_data",
          "data": {
            "image/png": "[encoded data removed]",
            "text/plain": [
              "<Figure size 720x576 with 2 Axes>"
            ]
          },
          "metadata": {
            "tags": [],
            "needs_background": "light"
          }
        }
      ]
    },
    {
      "cell_type": "markdown",
      "metadata": {
        "id": "vWsGyVgAW0ep",
        "colab_type": "text"
      },
      "source": [
        "*   We can see that the majority of the employee are between age 30-35 and very few employees are above 60 years old.\n",
        "*   The years of experience on the other hand is skewed to the left with a majority with only maximum of 5 years with Hola Logistics.\n",
        "\n"
      ]
    },
    {
      "cell_type": "code",
      "metadata": {
        "id": "9nte3iaY4yHs",
        "colab_type": "code",
        "colab": {
          "base_uri": "https://localhost:8080/",
          "height": 283
        },
        "outputId": "11b9d81d-a3fa-48e5-85a5-545d86e56b54"
      },
      "source": [
        "df['AgeGroup'].hist(bins=30, color=\"blue\" , figsize=(6, 4))"
      ],
      "execution_count": null,
      "outputs": [
        {
          "output_type": "execute_result",
          "data": {
            "text/plain": [
              "<matplotlib.axes._subplots.AxesSubplot at 0x7ff72a447358>"
            ]
          },
          "metadata": {
            "tags": []
          },
          "execution_count": 56
        },
        {
          "output_type": "display_data",
          "data": {
            "image/png": "[encoded data removed]",
            "text/plain": [
              "<Figure size 432x288 with 1 Axes>"
            ]
          },
          "metadata": {
            "tags": [],
            "needs_background": "light"
          }
        }
      ]
    },
    {
      "cell_type": "code",
      "metadata": {
        "id": "L4gwk_bdjndq",
        "colab_type": "code",
        "colab": {
          "base_uri": "https://localhost:8080/",
          "height": 347
        },
        "outputId": "a8614bff-4744-4f36-b305-f1617d7a142d"
      },
      "source": [
        "fig, ax = plt.subplots(1, 2, figsize=(14, 4))\n",
        "df[df.RecordType == \"A\"][numerical_features].hist(bins=30, color=\"green\",\n",
        "alpha=0.5, ax=ax)\n",
        "df[df.RecordType == \"R\"][numerical_features].hist(bins=30, color=\"black\",\n",
        "alpha=0.5, ax=ax)"
      ],
      "execution_count": null,
      "outputs": [
        {
          "output_type": "execute_result",
          "data": {
            "text/plain": [
              "array([<matplotlib.axes._subplots.AxesSubplot object at 0x7f8277a71208>,\n",
              "       <matplotlib.axes._subplots.AxesSubplot object at 0x7f8277a8aeb8>],\n",
              "      dtype=object)"
            ]
          },
          "metadata": {
            "tags": []
          },
          "execution_count": 126
        },
        {
          "output_type": "display_data",
          "data": {
            "image/png": "[encoded data removed]",
            "text/plain": [
              "<Figure size 1008x288 with 2 Axes>"
            ]
          },
          "metadata": {
            "tags": [],
            "needs_background": "light"
          }
        }
      ]
    },
    {
      "cell_type": "markdown",
      "metadata": {
        "id": "RuzZP6hcYK_H",
        "colab_type": "text"
      },
      "source": [
        "*   The highest age group that tend to resign is the 20s-30s group. That age group has a normal distributed bell shaped curve. The older age group are less likely to resign.\n",
        "*   The plot shows only the employee with less than 10 years of service is resigning whereas after 15years of experience, nobody has resigned from Hola Logistics."
      ]
    },
    {
      "cell_type": "code",
      "metadata": {
        "id": "7L3U0z7Vjnds",
        "colab_type": "code",
        "colab": {
          "base_uri": "https://localhost:8080/",
          "height": 88
        },
        "outputId": "0775c0ec-0461-4255-a352-c75cbb5f6222"
      },
      "source": [
        "import seaborn as sns"
      ],
      "execution_count": null,
      "outputs": [
        {
          "output_type": "stream",
          "text": [
            "/usr/local/lib/python3.6/dist-packages/statsmodels/tools/_testing.py:19: FutureWarning:\n",
            "\n",
            "pandas.util.testing is deprecated. Use the functions in the public API at pandas.testing instead.\n",
            "\n"
          ],
          "name": "stderr"
        }
      ]
    },
    {
      "cell_type": "code",
      "metadata": {
        "id": "BANu_tsqjndv",
        "colab_type": "code",
        "colab": {
          "base_uri": "https://localhost:8080/",
          "height": 672
        },
        "outputId": "f3c80776-2037-4f37-ec61-85333c378b97"
      },
      "source": [
        "features=['AgeGroup', 'Gender', 'Category', 'Race', 'Qualification', 'RecordType']\n",
        "fig=plt.subplots(figsize=(20,25))\n",
        "for i, j in enumerate(features):\n",
        "    plt.subplot(6, 2, i+7)\n",
        "    plt.subplots_adjust(hspace = 2.0)\n",
        "    sns.countplot(x=j,data = df)\n",
        "    plt.xticks(rotation=360)\n",
        "    plt.title(\"Respondents\")"
      ],
      "execution_count": null,
      "outputs": [
        {
          "output_type": "display_data",
          "data": {
            "image/png": "[encoded data removed]",
            "text/plain": [
              "<Figure size 1440x1800 with 6 Axes>"
            ]
          },
          "metadata": {
            "tags": [],
            "needs_background": "light"
          }
        }
      ]
    },
    {
      "cell_type": "markdown",
      "metadata": {
        "id": "we_VuLfru6Ax",
        "colab_type": "text"
      },
      "source": [
        "\n",
        "\n",
        "*   The above are the visuals of bar chart of all the categorical data. This easily shows us the group with highest numbers too. \n",
        "\n"
      ]
    },
    {
      "cell_type": "code",
      "metadata": {
        "scrolled": false,
        "id": "GD1vhrZ0jnd1",
        "colab_type": "code",
        "colab": {
          "base_uri": "https://localhost:8080/",
          "height": 542
        },
        "outputId": "b1ce6bed-6787-42b8-ac51-ec91d3cc3766"
      },
      "source": [
        "count_unique=df['RecordType'].value_counts()\n",
        "df_count_unique = count_unique.rename_axis('RecordType').reset_index(name='Number')\n",
        "colors = ['lightslategray',] * 2\n",
        "fig = px.bar(df_count_unique, x='RecordType', y='Number' , color='Number') \n",
        "fig.show()"
      ],
      "execution_count": null,
      "outputs": [
        {
          "output_type": "display_data",
          "data": {
            "text/html": [
              "<html>\n",
              "<head><meta charset=\"utf-8\" /></head>\n",
              "<body>\n",
              "    <div>\n",
              "            <script src=\"https://cdnjs.cloudflare.com/ajax/libs/mathjax/2.7.5/MathJax.js?config=TeX-AMS-MML_SVG\"></script><script type=\"text/javascript\">if (window.MathJax) {MathJax.Hub.Config({SVG: {font: \"STIX-Web\"}});}</script>\n",
              "                <script type=\"text/javascript\">window.PlotlyConfig = {MathJaxConfig: 'local'};</script>\n",
              "        <script src=\"https://cdn.plot.ly/plotly-latest.min.js\"></script>    \n",
              "            <div id=\"db40d79a-8037-42ad-9e1d-6d8a4839ef5e\" class=\"plotly-graph-div\" style=\"height:525px; width:100%;\"></div>\n",
              "            <script type=\"text/javascript\">\n",
              "                \n",
              "                    window.PLOTLYENV=window.PLOTLYENV || {};\n",
              "                    \n",
              "                if (document.getElementById(\"db40d79a-8037-42ad-9e1d-6d8a4839ef5e\")) {\n",
              "                    Plotly.newPlot(\n",
              "                        'db40d79a-8037-42ad-9e1d-6d8a4839ef5e',\n",
              "                        [{\"alignmentgroup\": \"True\", \"hoverlabel\": {\"namelength\": 0}, \"hovertemplate\": \"RecordType=%{x}<br>Number=%{marker.color}\", \"legendgroup\": \"\", \"marker\": {\"color\": [2137, 156], \"coloraxis\": \"coloraxis\"}, \"name\": \"\", \"offsetgroup\": \"\", \"orientation\": \"v\", \"showlegend\": false, \"textposition\": \"auto\", \"type\": \"bar\", \"x\": [\"A\", \"R\"], \"xaxis\": \"x\", \"y\": [2137, 156], \"yaxis\": \"y\"}],\n",
              "                        {\"barmode\": \"relative\", \"coloraxis\": {\"colorbar\": {\"title\": {\"text\": \"Number\"}}, \"colorscale\": [[0.0, \"#0d0887\"], [0.1111111111111111, \"#46039f\"], [0.2222222222222222, \"#7201a8\"], [0.3333333333333333, \"#9c179e\"], [0.4444444444444444, \"#bd3786\"], [0.5555555555555556, \"#d8576b\"], [0.6666666666666666, \"#ed7953\"], [0.7777777777777778, \"#fb9f3a\"], [0.8888888888888888, \"#fdca26\"], [1.0, \"#f0f921\"]]}, \"legend\": {\"tracegroupgap\": 0}, \"margin\": {\"t\": 60}, \"template\": {\"data\": {\"bar\": [{\"error_x\": {\"color\": \"#2a3f5f\"}, \"error_y\": {\"color\": \"#2a3f5f\"}, \"marker\": {\"line\": {\"color\": \"#E5ECF6\", \"width\": 0.5}}, \"type\": \"bar\"}], \"barpolar\": [{\"marker\": {\"line\": {\"color\": \"#E5ECF6\", \"width\": 0.5}}, \"type\": \"barpolar\"}], \"carpet\": [{\"aaxis\": {\"endlinecolor\": \"#2a3f5f\", \"gridcolor\": \"white\", \"linecolor\": \"white\", \"minorgridcolor\": \"white\", \"startlinecolor\": \"#2a3f5f\"}, \"baxis\": {\"endlinecolor\": \"#2a3f5f\", \"gridcolor\": \"white\", \"linecolor\": \"white\", \"minorgridcolor\": \"white\", \"startlinecolor\": \"#2a3f5f\"}, \"type\": \"carpet\"}], \"choropleth\": [{\"colorbar\": {\"outlinewidth\": 0, \"ticks\": \"\"}, \"type\": \"choropleth\"}], \"contour\": [{\"colorbar\": {\"outlinewidth\": 0, \"ticks\": \"\"}, \"colorscale\": [[0.0, \"#0d0887\"], [0.1111111111111111, \"#46039f\"], [0.2222222222222222, \"#7201a8\"], [0.3333333333333333, \"#9c179e\"], [0.4444444444444444, \"#bd3786\"], [0.5555555555555556, \"#d8576b\"], [0.6666666666666666, \"#ed7953\"], [0.7777777777777778, \"#fb9f3a\"], [0.8888888888888888, \"#fdca26\"], [1.0, \"#f0f921\"]], \"type\": \"contour\"}], \"contourcarpet\": [{\"colorbar\": {\"outlinewidth\": 0, \"ticks\": \"\"}, \"type\": \"contourcarpet\"}], \"heatmap\": [{\"colorbar\": {\"outlinewidth\": 0, \"ticks\": \"\"}, \"colorscale\": [[0.0, \"#0d0887\"], [0.1111111111111111, \"#46039f\"], [0.2222222222222222, \"#7201a8\"], [0.3333333333333333, \"#9c179e\"], [0.4444444444444444, \"#bd3786\"], [0.5555555555555556, \"#d8576b\"], [0.6666666666666666, \"#ed7953\"], [0.7777777777777778, \"#fb9f3a\"], [0.8888888888888888, \"#fdca26\"], [1.0, \"#f0f921\"]], \"type\": \"heatmap\"}], \"heatmapgl\": [{\"colorbar\": {\"outlinewidth\": 0, \"ticks\": \"\"}, \"colorscale\": [[0.0, \"#0d0887\"], [0.1111111111111111, \"#46039f\"], [0.2222222222222222, \"#7201a8\"], [0.3333333333333333, \"#9c179e\"], [0.4444444444444444, \"#bd3786\"], [0.5555555555555556, \"#d8576b\"], [0.6666666666666666, \"#ed7953\"], [0.7777777777777778, \"#fb9f3a\"], [0.8888888888888888, \"#fdca26\"], [1.0, \"#f0f921\"]], \"type\": \"heatmapgl\"}], \"histogram\": [{\"marker\": {\"colorbar\": {\"outlinewidth\": 0, \"ticks\": \"\"}}, \"type\": \"histogram\"}], \"histogram2d\": [{\"colorbar\": {\"outlinewidth\": 0, \"ticks\": \"\"}, \"colorscale\": [[0.0, \"#0d0887\"], [0.1111111111111111, \"#46039f\"], [0.2222222222222222, \"#7201a8\"], [0.3333333333333333, \"#9c179e\"], [0.4444444444444444, \"#bd3786\"], [0.5555555555555556, \"#d8576b\"], [0.6666666666666666, \"#ed7953\"], [0.7777777777777778, \"#fb9f3a\"], [0.8888888888888888, \"#fdca26\"], [1.0, \"#f0f921\"]], \"type\": \"histogram2d\"}], \"histogram2dcontour\": [{\"colorbar\": {\"outlinewidth\": 0, \"ticks\": \"\"}, \"colorscale\": [[0.0, \"#0d0887\"], [0.1111111111111111, \"#46039f\"], [0.2222222222222222, \"#7201a8\"], [0.3333333333333333, \"#9c179e\"], [0.4444444444444444, \"#bd3786\"], [0.5555555555555556, \"#d8576b\"], [0.6666666666666666, \"#ed7953\"], [0.7777777777777778, \"#fb9f3a\"], [0.8888888888888888, \"#fdca26\"], [1.0, \"#f0f921\"]], \"type\": \"histogram2dcontour\"}], \"mesh3d\": [{\"colorbar\": {\"outlinewidth\": 0, \"ticks\": \"\"}, \"type\": \"mesh3d\"}], \"parcoords\": [{\"line\": {\"colorbar\": {\"outlinewidth\": 0, \"ticks\": \"\"}}, \"type\": \"parcoords\"}], \"pie\": [{\"automargin\": true, \"type\": \"pie\"}], \"scatter\": [{\"marker\": {\"colorbar\": {\"outlinewidth\": 0, \"ticks\": \"\"}}, \"type\": \"scatter\"}], \"scatter3d\": [{\"line\": {\"colorbar\": {\"outlinewidth\": 0, \"ticks\": \"\"}}, \"marker\": {\"colorbar\": {\"outlinewidth\": 0, \"ticks\": \"\"}}, \"type\": \"scatter3d\"}], \"scattercarpet\": [{\"marker\": {\"colorbar\": {\"outlinewidth\": 0, \"ticks\": \"\"}}, \"type\": \"scattercarpet\"}], \"scattergeo\": [{\"marker\": {\"colorbar\": {\"outlinewidth\": 0, \"ticks\": \"\"}}, \"type\": \"scattergeo\"}], \"scattergl\": [{\"marker\": {\"colorbar\": {\"outlinewidth\": 0, \"ticks\": \"\"}}, \"type\": \"scattergl\"}], \"scattermapbox\": [{\"marker\": {\"colorbar\": {\"outlinewidth\": 0, \"ticks\": \"\"}}, \"type\": \"scattermapbox\"}], \"scatterpolar\": [{\"marker\": {\"colorbar\": {\"outlinewidth\": 0, \"ticks\": \"\"}}, \"type\": \"scatterpolar\"}], \"scatterpolargl\": [{\"marker\": {\"colorbar\": {\"outlinewidth\": 0, \"ticks\": \"\"}}, \"type\": \"scatterpolargl\"}], \"scatterternary\": [{\"marker\": {\"colorbar\": {\"outlinewidth\": 0, \"ticks\": \"\"}}, \"type\": \"scatterternary\"}], \"surface\": [{\"colorbar\": {\"outlinewidth\": 0, \"ticks\": \"\"}, \"colorscale\": [[0.0, \"#0d0887\"], [0.1111111111111111, \"#46039f\"], [0.2222222222222222, \"#7201a8\"], [0.3333333333333333, \"#9c179e\"], [0.4444444444444444, \"#bd3786\"], [0.5555555555555556, \"#d8576b\"], [0.6666666666666666, \"#ed7953\"], [0.7777777777777778, \"#fb9f3a\"], [0.8888888888888888, \"#fdca26\"], [1.0, \"#f0f921\"]], \"type\": \"surface\"}], \"table\": [{\"cells\": {\"fill\": {\"color\": \"#EBF0F8\"}, \"line\": {\"color\": \"white\"}}, \"header\": {\"fill\": {\"color\": \"#C8D4E3\"}, \"line\": {\"color\": \"white\"}}, \"type\": \"table\"}]}, \"layout\": {\"annotationdefaults\": {\"arrowcolor\": \"#2a3f5f\", \"arrowhead\": 0, \"arrowwidth\": 1}, \"coloraxis\": {\"colorbar\": {\"outlinewidth\": 0, \"ticks\": \"\"}}, \"colorscale\": {\"diverging\": [[0, \"#8e0152\"], [0.1, \"#c51b7d\"], [0.2, \"#de77ae\"], [0.3, \"#f1b6da\"], [0.4, \"#fde0ef\"], [0.5, \"#f7f7f7\"], [0.6, \"#e6f5d0\"], [0.7, \"#b8e186\"], [0.8, \"#7fbc41\"], [0.9, \"#4d9221\"], [1, \"#276419\"]], \"sequential\": [[0.0, \"#0d0887\"], [0.1111111111111111, \"#46039f\"], [0.2222222222222222, \"#7201a8\"], [0.3333333333333333, \"#9c179e\"], [0.4444444444444444, \"#bd3786\"], [0.5555555555555556, \"#d8576b\"], [0.6666666666666666, \"#ed7953\"], [0.7777777777777778, \"#fb9f3a\"], [0.8888888888888888, \"#fdca26\"], [1.0, \"#f0f921\"]], \"sequentialminus\": [[0.0, \"#0d0887\"], [0.1111111111111111, \"#46039f\"], [0.2222222222222222, \"#7201a8\"], [0.3333333333333333, \"#9c179e\"], [0.4444444444444444, \"#bd3786\"], [0.5555555555555556, \"#d8576b\"], [0.6666666666666666, \"#ed7953\"], [0.7777777777777778, \"#fb9f3a\"], [0.8888888888888888, \"#fdca26\"], [1.0, \"#f0f921\"]]}, \"colorway\": [\"#636efa\", \"#EF553B\", \"#00cc96\", \"#ab63fa\", \"#FFA15A\", \"#19d3f3\", \"#FF6692\", \"#B6E880\", \"#FF97FF\", \"#FECB52\"], \"font\": {\"color\": \"#2a3f5f\"}, \"geo\": {\"bgcolor\": \"white\", \"lakecolor\": \"white\", \"landcolor\": \"#E5ECF6\", \"showlakes\": true, \"showland\": true, \"subunitcolor\": \"white\"}, \"hoverlabel\": {\"align\": \"left\"}, \"hovermode\": \"closest\", \"mapbox\": {\"style\": \"light\"}, \"paper_bgcolor\": \"white\", \"plot_bgcolor\": \"#E5ECF6\", \"polar\": {\"angularaxis\": {\"gridcolor\": \"white\", \"linecolor\": \"white\", \"ticks\": \"\"}, \"bgcolor\": \"#E5ECF6\", \"radialaxis\": {\"gridcolor\": \"white\", \"linecolor\": \"white\", \"ticks\": \"\"}}, \"scene\": {\"xaxis\": {\"backgroundcolor\": \"#E5ECF6\", \"gridcolor\": \"white\", \"gridwidth\": 2, \"linecolor\": \"white\", \"showbackground\": true, \"ticks\": \"\", \"zerolinecolor\": \"white\"}, \"yaxis\": {\"backgroundcolor\": \"#E5ECF6\", \"gridcolor\": \"white\", \"gridwidth\": 2, \"linecolor\": \"white\", \"showbackground\": true, \"ticks\": \"\", \"zerolinecolor\": \"white\"}, \"zaxis\": {\"backgroundcolor\": \"#E5ECF6\", \"gridcolor\": \"white\", \"gridwidth\": 2, \"linecolor\": \"white\", \"showbackground\": true, \"ticks\": \"\", \"zerolinecolor\": \"white\"}}, \"shapedefaults\": {\"line\": {\"color\": \"#2a3f5f\"}}, \"ternary\": {\"aaxis\": {\"gridcolor\": \"white\", \"linecolor\": \"white\", \"ticks\": \"\"}, \"baxis\": {\"gridcolor\": \"white\", \"linecolor\": \"white\", \"ticks\": \"\"}, \"bgcolor\": \"#E5ECF6\", \"caxis\": {\"gridcolor\": \"white\", \"linecolor\": \"white\", \"ticks\": \"\"}}, \"title\": {\"x\": 0.05}, \"xaxis\": {\"automargin\": true, \"gridcolor\": \"white\", \"linecolor\": \"white\", \"ticks\": \"\", \"title\": {\"standoff\": 15}, \"zerolinecolor\": \"white\", \"zerolinewidth\": 2}, \"yaxis\": {\"automargin\": true, \"gridcolor\": \"white\", \"linecolor\": \"white\", \"ticks\": \"\", \"title\": {\"standoff\": 15}, \"zerolinecolor\": \"white\", \"zerolinewidth\": 2}}}, \"xaxis\": {\"anchor\": \"y\", \"domain\": [0.0, 1.0], \"title\": {\"text\": \"RecordType\"}}, \"yaxis\": {\"anchor\": \"x\", \"domain\": [0.0, 1.0], \"title\": {\"text\": \"Number\"}}},\n",
              "                        {\"responsive\": true}\n",
              "                    ).then(function(){\n",
              "                            \n",
              "var gd = document.getElementById('db40d79a-8037-42ad-9e1d-6d8a4839ef5e');\n",
              "var x = new MutationObserver(function (mutations, observer) {{\n",
              "        var display = window.getComputedStyle(gd).display;\n",
              "        if (!display || display === 'none') {{\n",
              "            console.log([gd, 'removed!']);\n",
              "            Plotly.purge(gd);\n",
              "            observer.disconnect();\n",
              "        }}\n",
              "}});\n",
              "\n",
              "// Listen for the removal of the full notebook cells\n",
              "var notebookContainer = gd.closest('#notebook-container');\n",
              "if (notebookContainer) {{\n",
              "    x.observe(notebookContainer, {childList: true});\n",
              "}}\n",
              "\n",
              "// Listen for the clearing of the current output cell\n",
              "var outputEl = gd.closest('.output');\n",
              "if (outputEl) {{\n",
              "    x.observe(outputEl, {childList: true});\n",
              "}}\n",
              "\n",
              "                        })\n",
              "                };\n",
              "                \n",
              "            </script>\n",
              "        </div>\n",
              "</body>\n",
              "</html>"
            ]
          },
          "metadata": {
            "tags": []
          }
        }
      ]
    },
    {
      "cell_type": "code",
      "metadata": {
        "id": "ZClwFDjJjnd3",
        "colab_type": "code",
        "colab": {}
      },
      "source": [
        "import pandas as pd\n",
        "import numpy as np\n",
        "import matplotlib.pyplot as plt\n",
        "import plotly.express as px\n",
        "import seaborn as sns\n",
        "sns.set_context('talk')"
      ],
      "execution_count": null,
      "outputs": []
    },
    {
      "cell_type": "code",
      "metadata": {
        "id": "ijn5wm_ojnd5",
        "colab_type": "code",
        "colab": {
          "base_uri": "https://localhost:8080/",
          "height": 408
        },
        "outputId": "75c8a983-423e-4fbe-8e6f-2fe8707738dc"
      },
      "source": [
        "df.groupby(['RecordType', 'AgeGroup', 'Gender']).size()"
      ],
      "execution_count": null,
      "outputs": [
        {
          "output_type": "execute_result",
          "data": {
            "text/plain": [
              "RecordType  AgeGroup  Gender\n",
              "A           20s       F         263\n",
              "                      M         130\n",
              "            30s       F         546\n",
              "                      M         267\n",
              "            40s       F         411\n",
              "                      M         193\n",
              "            50s       F         177\n",
              "                      M          86\n",
              "            60s       F          32\n",
              "                      M          32\n",
              "R           20s       F          31\n",
              "                      M          14\n",
              "            30s       F          48\n",
              "                      M          21\n",
              "            40s       F          13\n",
              "                      M          12\n",
              "            50s       F           7\n",
              "                      M           4\n",
              "            60s       F           3\n",
              "                      M           3\n",
              "dtype: int64"
            ]
          },
          "metadata": {
            "tags": []
          },
          "execution_count": 62
        }
      ]
    },
    {
      "cell_type": "markdown",
      "metadata": {
        "id": "9_vXyqs4vQNA",
        "colab_type": "text"
      },
      "source": [
        "\n",
        "\n",
        "*   By grouping, we can see that majority who is active and also who has resigned is from the age group of 30s and mostly female.\n"
      ]
    },
    {
      "cell_type": "code",
      "metadata": {
        "scrolled": true,
        "id": "ds_ifD5djnd8",
        "colab_type": "code",
        "colab": {
          "base_uri": "https://localhost:8080/",
          "height": 542
        },
        "outputId": "eac5441f-7cf3-4f21-e1f4-418c0c494351"
      },
      "source": [
        "import plotly.graph_objects as go\n",
        "AgeGroup=['20s', '30s', '40s', '50s', '60s']\n",
        "\n",
        "fig = go.Figure(data=[\n",
        "    go.Bar(name='Active', x=AgeGroup, y=[393,813, 604, 263, 64]),\n",
        "    go.Bar(name='Resigned', x=AgeGroup, y=[45,69, 25, 11, 6]) ])\n",
        "\n",
        "\n",
        "fig.update_layout(barmode='group')\n",
        "fig.show()"
      ],
      "execution_count": null,
      "outputs": [
        {
          "output_type": "display_data",
          "data": {
            "text/html": [
              "<html>\n",
              "<head><meta charset=\"utf-8\" /></head>\n",
              "<body>\n",
              "    <div>\n",
              "            <script src=\"https://cdnjs.cloudflare.com/ajax/libs/mathjax/2.7.5/MathJax.js?config=TeX-AMS-MML_SVG\"></script><script type=\"text/javascript\">if (window.MathJax) {MathJax.Hub.Config({SVG: {font: \"STIX-Web\"}});}</script>\n",
              "                <script type=\"text/javascript\">window.PlotlyConfig = {MathJaxConfig: 'local'};</script>\n",
              "        <script src=\"https://cdn.plot.ly/plotly-latest.min.js\"></script>    \n",
              "            <div id=\"133d4711-38e0-4b88-a0f9-5727f63ab3c3\" class=\"plotly-graph-div\" style=\"height:525px; width:100%;\"></div>\n",
              "            <script type=\"text/javascript\">\n",
              "                \n",
              "                    window.PLOTLYENV=window.PLOTLYENV || {};\n",
              "                    \n",
              "                if (document.getElementById(\"133d4711-38e0-4b88-a0f9-5727f63ab3c3\")) {\n",
              "                    Plotly.newPlot(\n",
              "                        '133d4711-38e0-4b88-a0f9-5727f63ab3c3',\n",
              "                        [{\"name\": \"Active\", \"type\": \"bar\", \"x\": [\"20s\", \"30s\", \"40s\", \"50s\", \"60s\"], \"y\": [393, 813, 604, 263, 64]}, {\"name\": \"Resigned\", \"type\": \"bar\", \"x\": [\"20s\", \"30s\", \"40s\", \"50s\", \"60s\"], \"y\": [45, 69, 25, 11, 6]}],\n",
              "                        {\"barmode\": \"group\", \"template\": {\"data\": {\"bar\": [{\"error_x\": {\"color\": \"#2a3f5f\"}, \"error_y\": {\"color\": \"#2a3f5f\"}, \"marker\": {\"line\": {\"color\": \"#E5ECF6\", \"width\": 0.5}}, \"type\": \"bar\"}], \"barpolar\": [{\"marker\": {\"line\": {\"color\": \"#E5ECF6\", \"width\": 0.5}}, \"type\": \"barpolar\"}], \"carpet\": [{\"aaxis\": {\"endlinecolor\": \"#2a3f5f\", \"gridcolor\": \"white\", \"linecolor\": \"white\", \"minorgridcolor\": \"white\", \"startlinecolor\": \"#2a3f5f\"}, \"baxis\": {\"endlinecolor\": \"#2a3f5f\", \"gridcolor\": \"white\", \"linecolor\": \"white\", \"minorgridcolor\": \"white\", \"startlinecolor\": \"#2a3f5f\"}, \"type\": \"carpet\"}], \"choropleth\": [{\"colorbar\": {\"outlinewidth\": 0, \"ticks\": \"\"}, \"type\": \"choropleth\"}], \"contour\": [{\"colorbar\": {\"outlinewidth\": 0, \"ticks\": \"\"}, \"colorscale\": [[0.0, \"#0d0887\"], [0.1111111111111111, \"#46039f\"], [0.2222222222222222, \"#7201a8\"], [0.3333333333333333, \"#9c179e\"], [0.4444444444444444, \"#bd3786\"], [0.5555555555555556, \"#d8576b\"], [0.6666666666666666, \"#ed7953\"], [0.7777777777777778, \"#fb9f3a\"], [0.8888888888888888, \"#fdca26\"], [1.0, \"#f0f921\"]], \"type\": \"contour\"}], \"contourcarpet\": [{\"colorbar\": {\"outlinewidth\": 0, \"ticks\": \"\"}, \"type\": \"contourcarpet\"}], \"heatmap\": [{\"colorbar\": {\"outlinewidth\": 0, \"ticks\": \"\"}, \"colorscale\": [[0.0, \"#0d0887\"], [0.1111111111111111, \"#46039f\"], [0.2222222222222222, \"#7201a8\"], [0.3333333333333333, \"#9c179e\"], [0.4444444444444444, \"#bd3786\"], [0.5555555555555556, \"#d8576b\"], [0.6666666666666666, \"#ed7953\"], [0.7777777777777778, \"#fb9f3a\"], [0.8888888888888888, \"#fdca26\"], [1.0, \"#f0f921\"]], \"type\": \"heatmap\"}], \"heatmapgl\": [{\"colorbar\": {\"outlinewidth\": 0, \"ticks\": \"\"}, \"colorscale\": [[0.0, \"#0d0887\"], [0.1111111111111111, \"#46039f\"], [0.2222222222222222, \"#7201a8\"], [0.3333333333333333, \"#9c179e\"], [0.4444444444444444, \"#bd3786\"], [0.5555555555555556, \"#d8576b\"], [0.6666666666666666, \"#ed7953\"], [0.7777777777777778, \"#fb9f3a\"], [0.8888888888888888, \"#fdca26\"], [1.0, \"#f0f921\"]], \"type\": \"heatmapgl\"}], \"histogram\": [{\"marker\": {\"colorbar\": {\"outlinewidth\": 0, \"ticks\": \"\"}}, \"type\": \"histogram\"}], \"histogram2d\": [{\"colorbar\": {\"outlinewidth\": 0, \"ticks\": \"\"}, \"colorscale\": [[0.0, \"#0d0887\"], [0.1111111111111111, \"#46039f\"], [0.2222222222222222, \"#7201a8\"], [0.3333333333333333, \"#9c179e\"], [0.4444444444444444, \"#bd3786\"], [0.5555555555555556, \"#d8576b\"], [0.6666666666666666, \"#ed7953\"], [0.7777777777777778, \"#fb9f3a\"], [0.8888888888888888, \"#fdca26\"], [1.0, \"#f0f921\"]], \"type\": \"histogram2d\"}], \"histogram2dcontour\": [{\"colorbar\": {\"outlinewidth\": 0, \"ticks\": \"\"}, \"colorscale\": [[0.0, \"#0d0887\"], [0.1111111111111111, \"#46039f\"], [0.2222222222222222, \"#7201a8\"], [0.3333333333333333, \"#9c179e\"], [0.4444444444444444, \"#bd3786\"], [0.5555555555555556, \"#d8576b\"], [0.6666666666666666, \"#ed7953\"], [0.7777777777777778, \"#fb9f3a\"], [0.8888888888888888, \"#fdca26\"], [1.0, \"#f0f921\"]], \"type\": \"histogram2dcontour\"}], \"mesh3d\": [{\"colorbar\": {\"outlinewidth\": 0, \"ticks\": \"\"}, \"type\": \"mesh3d\"}], \"parcoords\": [{\"line\": {\"colorbar\": {\"outlinewidth\": 0, \"ticks\": \"\"}}, \"type\": \"parcoords\"}], \"pie\": [{\"automargin\": true, \"type\": \"pie\"}], \"scatter\": [{\"marker\": {\"colorbar\": {\"outlinewidth\": 0, \"ticks\": \"\"}}, \"type\": \"scatter\"}], \"scatter3d\": [{\"line\": {\"colorbar\": {\"outlinewidth\": 0, \"ticks\": \"\"}}, \"marker\": {\"colorbar\": {\"outlinewidth\": 0, \"ticks\": \"\"}}, \"type\": \"scatter3d\"}], \"scattercarpet\": [{\"marker\": {\"colorbar\": {\"outlinewidth\": 0, \"ticks\": \"\"}}, \"type\": \"scattercarpet\"}], \"scattergeo\": [{\"marker\": {\"colorbar\": {\"outlinewidth\": 0, \"ticks\": \"\"}}, \"type\": \"scattergeo\"}], \"scattergl\": [{\"marker\": {\"colorbar\": {\"outlinewidth\": 0, \"ticks\": \"\"}}, \"type\": \"scattergl\"}], \"scattermapbox\": [{\"marker\": {\"colorbar\": {\"outlinewidth\": 0, \"ticks\": \"\"}}, \"type\": \"scattermapbox\"}], \"scatterpolar\": [{\"marker\": {\"colorbar\": {\"outlinewidth\": 0, \"ticks\": \"\"}}, \"type\": \"scatterpolar\"}], \"scatterpolargl\": [{\"marker\": {\"colorbar\": {\"outlinewidth\": 0, \"ticks\": \"\"}}, \"type\": \"scatterpolargl\"}], \"scatterternary\": [{\"marker\": {\"colorbar\": {\"outlinewidth\": 0, \"ticks\": \"\"}}, \"type\": \"scatterternary\"}], \"surface\": [{\"colorbar\": {\"outlinewidth\": 0, \"ticks\": \"\"}, \"colorscale\": [[0.0, \"#0d0887\"], [0.1111111111111111, \"#46039f\"], [0.2222222222222222, \"#7201a8\"], [0.3333333333333333, \"#9c179e\"], [0.4444444444444444, \"#bd3786\"], [0.5555555555555556, \"#d8576b\"], [0.6666666666666666, \"#ed7953\"], [0.7777777777777778, \"#fb9f3a\"], [0.8888888888888888, \"#fdca26\"], [1.0, \"#f0f921\"]], \"type\": \"surface\"}], \"table\": [{\"cells\": {\"fill\": {\"color\": \"#EBF0F8\"}, \"line\": {\"color\": \"white\"}}, \"header\": {\"fill\": {\"color\": \"#C8D4E3\"}, \"line\": {\"color\": \"white\"}}, \"type\": \"table\"}]}, \"layout\": {\"annotationdefaults\": {\"arrowcolor\": \"#2a3f5f\", \"arrowhead\": 0, \"arrowwidth\": 1}, \"coloraxis\": {\"colorbar\": {\"outlinewidth\": 0, \"ticks\": \"\"}}, \"colorscale\": {\"diverging\": [[0, \"#8e0152\"], [0.1, \"#c51b7d\"], [0.2, \"#de77ae\"], [0.3, \"#f1b6da\"], [0.4, \"#fde0ef\"], [0.5, \"#f7f7f7\"], [0.6, \"#e6f5d0\"], [0.7, \"#b8e186\"], [0.8, \"#7fbc41\"], [0.9, \"#4d9221\"], [1, \"#276419\"]], \"sequential\": [[0.0, \"#0d0887\"], [0.1111111111111111, \"#46039f\"], [0.2222222222222222, \"#7201a8\"], [0.3333333333333333, \"#9c179e\"], [0.4444444444444444, \"#bd3786\"], [0.5555555555555556, \"#d8576b\"], [0.6666666666666666, \"#ed7953\"], [0.7777777777777778, \"#fb9f3a\"], [0.8888888888888888, \"#fdca26\"], [1.0, \"#f0f921\"]], \"sequentialminus\": [[0.0, \"#0d0887\"], [0.1111111111111111, \"#46039f\"], [0.2222222222222222, \"#7201a8\"], [0.3333333333333333, \"#9c179e\"], [0.4444444444444444, \"#bd3786\"], [0.5555555555555556, \"#d8576b\"], [0.6666666666666666, \"#ed7953\"], [0.7777777777777778, \"#fb9f3a\"], [0.8888888888888888, \"#fdca26\"], [1.0, \"#f0f921\"]]}, \"colorway\": [\"#636efa\", \"#EF553B\", \"#00cc96\", \"#ab63fa\", \"#FFA15A\", \"#19d3f3\", \"#FF6692\", \"#B6E880\", \"#FF97FF\", \"#FECB52\"], \"font\": {\"color\": \"#2a3f5f\"}, \"geo\": {\"bgcolor\": \"white\", \"lakecolor\": \"white\", \"landcolor\": \"#E5ECF6\", \"showlakes\": true, \"showland\": true, \"subunitcolor\": \"white\"}, \"hoverlabel\": {\"align\": \"left\"}, \"hovermode\": \"closest\", \"mapbox\": {\"style\": \"light\"}, \"paper_bgcolor\": \"white\", \"plot_bgcolor\": \"#E5ECF6\", \"polar\": {\"angularaxis\": {\"gridcolor\": \"white\", \"linecolor\": \"white\", \"ticks\": \"\"}, \"bgcolor\": \"#E5ECF6\", \"radialaxis\": {\"gridcolor\": \"white\", \"linecolor\": \"white\", \"ticks\": \"\"}}, \"scene\": {\"xaxis\": {\"backgroundcolor\": \"#E5ECF6\", \"gridcolor\": \"white\", \"gridwidth\": 2, \"linecolor\": \"white\", \"showbackground\": true, \"ticks\": \"\", \"zerolinecolor\": \"white\"}, \"yaxis\": {\"backgroundcolor\": \"#E5ECF6\", \"gridcolor\": \"white\", \"gridwidth\": 2, \"linecolor\": \"white\", \"showbackground\": true, \"ticks\": \"\", \"zerolinecolor\": \"white\"}, \"zaxis\": {\"backgroundcolor\": \"#E5ECF6\", \"gridcolor\": \"white\", \"gridwidth\": 2, \"linecolor\": \"white\", \"showbackground\": true, \"ticks\": \"\", \"zerolinecolor\": \"white\"}}, \"shapedefaults\": {\"line\": {\"color\": \"#2a3f5f\"}}, \"ternary\": {\"aaxis\": {\"gridcolor\": \"white\", \"linecolor\": \"white\", \"ticks\": \"\"}, \"baxis\": {\"gridcolor\": \"white\", \"linecolor\": \"white\", \"ticks\": \"\"}, \"bgcolor\": \"#E5ECF6\", \"caxis\": {\"gridcolor\": \"white\", \"linecolor\": \"white\", \"ticks\": \"\"}}, \"title\": {\"x\": 0.05}, \"xaxis\": {\"automargin\": true, \"gridcolor\": \"white\", \"linecolor\": \"white\", \"ticks\": \"\", \"title\": {\"standoff\": 15}, \"zerolinecolor\": \"white\", \"zerolinewidth\": 2}, \"yaxis\": {\"automargin\": true, \"gridcolor\": \"white\", \"linecolor\": \"white\", \"ticks\": \"\", \"title\": {\"standoff\": 15}, \"zerolinecolor\": \"white\", \"zerolinewidth\": 2}}}},\n",
              "                        {\"responsive\": true}\n",
              "                    ).then(function(){\n",
              "                            \n",
              "var gd = document.getElementById('133d4711-38e0-4b88-a0f9-5727f63ab3c3');\n",
              "var x = new MutationObserver(function (mutations, observer) {{\n",
              "        var display = window.getComputedStyle(gd).display;\n",
              "        if (!display || display === 'none') {{\n",
              "            console.log([gd, 'removed!']);\n",
              "            Plotly.purge(gd);\n",
              "            observer.disconnect();\n",
              "        }}\n",
              "}});\n",
              "\n",
              "// Listen for the removal of the full notebook cells\n",
              "var notebookContainer = gd.closest('#notebook-container');\n",
              "if (notebookContainer) {{\n",
              "    x.observe(notebookContainer, {childList: true});\n",
              "}}\n",
              "\n",
              "// Listen for the clearing of the current output cell\n",
              "var outputEl = gd.closest('.output');\n",
              "if (outputEl) {{\n",
              "    x.observe(outputEl, {childList: true});\n",
              "}}\n",
              "\n",
              "                        })\n",
              "                };\n",
              "                \n",
              "            </script>\n",
              "        </div>\n",
              "</body>\n",
              "</html>"
            ]
          },
          "metadata": {
            "tags": []
          }
        }
      ]
    },
    {
      "cell_type": "code",
      "metadata": {
        "id": "q-nFgSl3voGa",
        "colab_type": "code",
        "colab": {
          "base_uri": "https://localhost:8080/",
          "height": 586
        },
        "outputId": "bf5c0b87-5e37-4f18-a9d4-12a8631ffec9"
      },
      "source": [
        "df.groupby(['Race', 'Category', 'Gender']).size()"
      ],
      "execution_count": null,
      "outputs": [
        {
          "output_type": "execute_result",
          "data": {
            "text/plain": [
              "Race        Category        Gender\n",
              "Bumiputra   Executive       F         446\n",
              "                            M         182\n",
              "            Manager         F          83\n",
              "                            M          59\n",
              "            Non Executive   F          41\n",
              "                            M          40\n",
              "            Senior Manager  F           1\n",
              "                            M           5\n",
              "Chinese     Executive       F         468\n",
              "                            M         186\n",
              "            Manager         F         327\n",
              "                            M         176\n",
              "            Non Executive   F           6\n",
              "                            M           1\n",
              "            Senior Manager  F          26\n",
              "                            M          33\n",
              "Expatriate  Executive       F           4\n",
              "                            M           2\n",
              "            Manager         F           6\n",
              "                            M           5\n",
              "            Senior Manager  F           1\n",
              "                            M           3\n",
              "Indian      Executive       F          85\n",
              "                            M          36\n",
              "            Manager         F          34\n",
              "                            M          27\n",
              "            Non Executive   F           1\n",
              "                            M           3\n",
              "            Senior Manager  F           2\n",
              "                            M           4\n",
              "dtype: int64"
            ]
          },
          "metadata": {
            "tags": []
          },
          "execution_count": 65
        }
      ]
    },
    {
      "cell_type": "markdown",
      "metadata": {
        "id": "F5rK-O3pv-hm",
        "colab_type": "text"
      },
      "source": [
        "\n",
        "*   We know that the executive post were the majority role of employees but with this we're able to see that mostly are also females and chinese reocords the highest employee.\n",
        "\n"
      ]
    },
    {
      "cell_type": "code",
      "metadata": {
        "id": "6gZ02PT1jnd-",
        "colab_type": "code",
        "colab": {
          "base_uri": "https://localhost:8080/",
          "height": 115
        },
        "outputId": "e2f901f3-8144-42d6-9571-fe13758447ce"
      },
      "source": [
        "df.groupby(['RecordType', 'Gender']).size()"
      ],
      "execution_count": null,
      "outputs": [
        {
          "output_type": "execute_result",
          "data": {
            "text/plain": [
              "RecordType  Gender\n",
              "A           F         1436\n",
              "            M          714\n",
              "R           F          117\n",
              "            M           64\n",
              "dtype: int64"
            ]
          },
          "metadata": {
            "tags": []
          },
          "execution_count": 134
        }
      ]
    },
    {
      "cell_type": "code",
      "metadata": {
        "scrolled": true,
        "id": "AbTNZplpjneB",
        "colab_type": "code",
        "colab": {
          "base_uri": "https://localhost:8080/",
          "height": 313
        },
        "outputId": "dae86208-b1c5-4bc9-da59-dfacda98d047"
      },
      "source": [
        "feature = 'Gender'\n",
        "fig, ax = plt.subplots(1, 2, figsize=(14, 4))\n",
        "df[df.RecordType == \"A\"][feature].value_counts().plot(kind='bar', ax=ax[0], color=\"orange\").set_title('Active')\n",
        "df[df.RecordType == \"R\"][feature].value_counts().plot(kind='bar', ax=ax[1], color=\"yellow\").set_title('Resigned')\n",
        "plt.xticks(rotation=360)\n",
        "plt.xlabel('Gender')\n",
        "plt.ylabel('No.of Employee')"
      ],
      "execution_count": null,
      "outputs": [
        {
          "output_type": "execute_result",
          "data": {
            "text/plain": [
              "Text(0, 0.5, 'No.of Employee')"
            ]
          },
          "metadata": {
            "tags": []
          },
          "execution_count": 206
        },
        {
          "output_type": "display_data",
          "data": {
            "image/png": "[encoded data removed]",
            "text/plain": [
              "<Figure size 1008x288 with 2 Axes>"
            ]
          },
          "metadata": {
            "tags": [],
            "needs_background": "light"
          }
        }
      ]
    },
    {
      "cell_type": "code",
      "metadata": {
        "id": "927zOs91jneE",
        "colab_type": "code",
        "colab": {}
      },
      "source": [
        "import array as array\n",
        "from pandas import read_csv\n",
        "from pandas.plotting import scatter_matrix\n",
        "from matplotlib import pyplot\n",
        "from sklearn.model_selection import train_test_split\n",
        "from sklearn.model_selection import cross_val_score\n",
        "from sklearn.model_selection import StratifiedKFold\n",
        "from sklearn.model_selection import KFold\n",
        "from sklearn.metrics import classification_report\n",
        "from sklearn.metrics import confusion_matrix\n",
        "from sklearn.metrics import accuracy_score\n",
        "from sklearn.linear_model import LogisticRegression\n",
        "from sklearn.tree import DecisionTreeClassifier\n",
        "from sklearn.neighbors import KNeighborsClassifier\n",
        "from sklearn.discriminant_analysis import LinearDiscriminantAnalysis\n",
        "from sklearn.naive_bayes import GaussianNB\n",
        "from sklearn.svm import SVC\n",
        "from sklearn.ensemble import RandomForestClassifier"
      ],
      "execution_count": null,
      "outputs": []
    },
    {
      "cell_type": "code",
      "metadata": {
        "id": "847mVdx_jneI",
        "colab_type": "code",
        "colab": {
          "base_uri": "https://localhost:8080/",
          "height": 532
        },
        "outputId": "615c67c6-7797-4024-855d-f122bd36643d"
      },
      "source": [
        "## Active vs Resign ##\n",
        "fig2, ax2 = plt.subplots()\n",
        "count_unique=df['RecordType'].value_counts()\n",
        "plt.pie([count_unique['A'], count_unique['R']], explode=(0,0.3), labels=['Active','Resigned'],autopct='%1.1f%%', shadow=True)\n",
        "plt.figure(figsize=(100,100))\n",
        "\n",
        "## Male vs Female ##\n",
        "fig2, ax2 = plt.subplots()\n",
        "count_unique=df['Gender'].value_counts()\n",
        "plt.pie([count_unique['F'], count_unique['M']], explode=(0,0.1), labels=['Female','Male'],autopct='%1.1f%%', shadow=True)\n",
        "plt.figure(figsize=(100,100))"
      ],
      "execution_count": null,
      "outputs": [
        {
          "output_type": "execute_result",
          "data": {
            "text/plain": [
              "<Figure size 7200x7200 with 0 Axes>"
            ]
          },
          "metadata": {
            "tags": []
          },
          "execution_count": 208
        },
        {
          "output_type": "display_data",
          "data": {
            "image/png": "[encoded data removed]",
            "text/plain": [
              "<Figure size 432x288 with 1 Axes>"
            ]
          },
          "metadata": {
            "tags": []
          }
        },
        {
          "output_type": "display_data",
          "data": {
            "text/plain": [
              "<Figure size 7200x7200 with 0 Axes>"
            ]
          },
          "metadata": {
            "tags": []
          }
        },
        {
          "output_type": "display_data",
          "data": {
            "image/png": "[encoded data removed]",
            "text/plain": [
              "<Figure size 432x288 with 1 Axes>"
            ]
          },
          "metadata": {
            "tags": []
          }
        },
        {
          "output_type": "display_data",
          "data": {
            "text/plain": [
              "<Figure size 7200x7200 with 0 Axes>"
            ]
          },
          "metadata": {
            "tags": []
          }
        }
      ]
    },
    {
      "cell_type": "markdown",
      "metadata": {
        "id": "jeAU7r7mweFm",
        "colab_type": "text"
      },
      "source": [
        "\n",
        "\n",
        "*   From the pie chart it's evident that it's an imbalance dataset.\n",
        "\n"
      ]
    },
    {
      "cell_type": "code",
      "metadata": {
        "id": "dCspZ47ejneL",
        "colab_type": "code",
        "colab": {
          "base_uri": "https://localhost:8080/",
          "height": 527
        },
        "outputId": "3503701d-a8c7-47e0-e35b-3784c55f28bb"
      },
      "source": [
        "## Race ##\n",
        "fig2, ax2 = plt.subplots()\n",
        "count_unique=df['Race'].value_counts()\n",
        "plt.pie([count_unique['Bumiputra'], count_unique['Chinese'], count_unique['Indian'], count_unique['Expatriate']], \n",
        "        explode=(0.1,0.1,0.2,0.1), labels=['Bumiputra', 'Chinese', 'Indian', 'Expatriate' ],autopct='%1.1f%%', shadow=True)\n",
        "plt.figure(figsize=(100,100))\n",
        "\n",
        "## Education Attainment ##\n",
        "fig2, ax2 = plt.subplots()\n",
        "count_unique=df['Category'].value_counts()\n",
        "plt.pie([count_unique['Manager'], count_unique['Non Executive'], count_unique['Executive'], count_unique['Senior Manager']], \n",
        "        explode=(0.1,0.1,0.1,0.1), labels=['Manager', 'Non Executive', 'Executive', 'Senior Manager' ],autopct='%1.1f%%', shadow=True)\n",
        "plt.figure(figsize=(100,100))"
      ],
      "execution_count": null,
      "outputs": [
        {
          "output_type": "execute_result",
          "data": {
            "text/plain": [
              "<Figure size 7200x7200 with 0 Axes>"
            ]
          },
          "metadata": {
            "tags": []
          },
          "execution_count": 138
        },
        {
          "output_type": "display_data",
          "data": {
            "image/png": "[encoded data removed]",
            "text/plain": [
              "<Figure size 432x288 with 1 Axes>"
            ]
          },
          "metadata": {
            "tags": []
          }
        },
        {
          "output_type": "display_data",
          "data": {
            "text/plain": [
              "<Figure size 7200x7200 with 0 Axes>"
            ]
          },
          "metadata": {
            "tags": []
          }
        },
        {
          "output_type": "display_data",
          "data": {
            "image/png": "[encoded data removed]",
            "text/plain": [
              "<Figure size 432x288 with 1 Axes>"
            ]
          },
          "metadata": {
            "tags": []
          }
        },
        {
          "output_type": "display_data",
          "data": {
            "text/plain": [
              "<Figure size 7200x7200 with 0 Axes>"
            ]
          },
          "metadata": {
            "tags": []
          }
        }
      ]
    },
    {
      "cell_type": "markdown",
      "metadata": {
        "id": "7N7g52ibwtj2",
        "colab_type": "text"
      },
      "source": [
        "\n",
        "\n",
        "*   The pie chart shows it crystal clear that the data is mostly on chinese employees and employees with executive position.\n",
        "\n"
      ]
    },
    {
      "cell_type": "markdown",
      "metadata": {
        "id": "FZvGahLbyQN4",
        "colab_type": "text"
      },
      "source": [
        "### TRAIN-TEST-SPLIT"
      ]
    },
    {
      "cell_type": "code",
      "metadata": {
        "id": "sgya53X7z5wt",
        "colab_type": "code",
        "colab": {}
      },
      "source": [
        "#Train-Test split\n",
        "from sklearn.model_selection import train_test_split\n",
        "import array as array\n",
        "from pandas import read_csv\n",
        "from pandas.plotting import scatter_matrix\n",
        "from matplotlib import pyplot\n",
        "from sklearn.model_selection import train_test_split\n",
        "from sklearn.model_selection import cross_val_score\n",
        "from sklearn.model_selection import StratifiedKFold\n",
        "from sklearn.metrics import classification_report\n",
        "from sklearn.metrics import confusion_matrix\n",
        "from sklearn.metrics import accuracy_score\n",
        "from sklearn.linear_model import LogisticRegression\n",
        "from sklearn.tree import DecisionTreeClassifier\n",
        "from sklearn.neighbors import KNeighborsClassifier\n",
        "from sklearn.discriminant_analysis import LinearDiscriminantAnalysis\n",
        "from sklearn.naive_bayes import GaussianNB\n",
        "from sklearn.svm import SVC\n",
        "from sklearn.ensemble import RandomForestClassifier\n",
        "from sklearn.model_selection import KFold"
      ],
      "execution_count": null,
      "outputs": []
    },
    {
      "cell_type": "code",
      "metadata": {
        "colab_type": "code",
        "id": "60PWhiIvByGj",
        "colab": {
          "base_uri": "https://localhost:8080/",
          "height": 1000
        },
        "outputId": "5702250f-212e-479d-edeb-df6ed69a4952"
      },
      "source": [
        "# Data Preprocessing\n",
        "X = df[['YOS','Age']]\n",
        "\n",
        "# SL - 1, NSL = 0\n",
        "X['Class'] = df['Class'].apply(lambda x: 1 if x == 'SL' else 0)\n",
        "\n",
        "# M = 1, F = 0\n",
        "X['Gender'] = df['Gender'].apply(lambda x: 1 if x == 'M' else 0)\n",
        "\n",
        "# Category - SeniorManager, Manager, Executive - if all 3 are 0, that is Non-executive\n",
        "X['SeniorManager'] = df['Category'].apply(lambda x: 1 if x == 'Senior Manager' else 0)\n",
        "X['Manager'] = df['Category'].apply(lambda x: 1 if x == 'Manager' else 0)\n",
        "X['Executive'] = df['Category'].apply(lambda x: 1 if x == 'Executive' else 0)\n",
        "\n",
        "# Race - Indian, Bumiputra, Chinese - if all are 0, that is Expatriate\n",
        "X['Indian'] = df['Race'].apply(lambda x: 1 if x == 'India' else 0)\n",
        "X['Bumiputra'] = df['Race'].apply(lambda x: 1 if x == 'Bumiputra' else 0)\n",
        "X['Chinese'] = df['Race'].apply(lambda x: 1 if x == 'Chinese' else 0)\n",
        "\n",
        "# Education - Degree_Diploma, HighSchool, PostGrad - if all are 0, that is ProfessionalCertificate\n",
        "X['Degree_Diploma'] = df['Qualification'].apply(lambda x: 1 if x == 'Degree & Diploma' else 0)\n",
        "X['HighSchool'] = df['Qualification'].apply(lambda x: 1 if x == 'High School' else 0)\n",
        "X['PostGrad'] = df['Qualification'].apply(lambda x: 1 if x == 'Post Graduate' else 0)\n",
        "\n",
        "#Target Variable\n",
        "y = df['RecordType'].apply(lambda x: 1 if x == 'R' else 0)\n",
        "\n",
        "#Split data 70:30 to training and testing\n",
        "#X_train, X_test, y_train, y_test = train_test_split(X, y, train_size=0.7, random_state=101)\n",
        "X_train, X_test, y_train, y_test = train_test_split(X, y, train_size=0.7, random_state=101, stratify=y)"
      ],
      "execution_count": null,
      "outputs": [
        {
          "output_type": "stream",
          "text": [
            "/usr/local/lib/python3.6/dist-packages/ipykernel_launcher.py:5: SettingWithCopyWarning:\n",
            "\n",
            "\n",
            "A value is trying to be set on a copy of a slice from a DataFrame.\n",
            "Try using .loc[row_indexer,col_indexer] = value instead\n",
            "\n",
            "See the caveats in the documentation: https://pandas.pydata.org/pandas-docs/stable/user_guide/indexing.html#returning-a-view-versus-a-copy\n",
            "\n",
            "/usr/local/lib/python3.6/dist-packages/ipykernel_launcher.py:8: SettingWithCopyWarning:\n",
            "\n",
            "\n",
            "A value is trying to be set on a copy of a slice from a DataFrame.\n",
            "Try using .loc[row_indexer,col_indexer] = value instead\n",
            "\n",
            "See the caveats in the documentation: https://pandas.pydata.org/pandas-docs/stable/user_guide/indexing.html#returning-a-view-versus-a-copy\n",
            "\n",
            "/usr/local/lib/python3.6/dist-packages/ipykernel_launcher.py:11: SettingWithCopyWarning:\n",
            "\n",
            "\n",
            "A value is trying to be set on a copy of a slice from a DataFrame.\n",
            "Try using .loc[row_indexer,col_indexer] = value instead\n",
            "\n",
            "See the caveats in the documentation: https://pandas.pydata.org/pandas-docs/stable/user_guide/indexing.html#returning-a-view-versus-a-copy\n",
            "\n",
            "/usr/local/lib/python3.6/dist-packages/ipykernel_launcher.py:12: SettingWithCopyWarning:\n",
            "\n",
            "\n",
            "A value is trying to be set on a copy of a slice from a DataFrame.\n",
            "Try using .loc[row_indexer,col_indexer] = value instead\n",
            "\n",
            "See the caveats in the documentation: https://pandas.pydata.org/pandas-docs/stable/user_guide/indexing.html#returning-a-view-versus-a-copy\n",
            "\n",
            "/usr/local/lib/python3.6/dist-packages/ipykernel_launcher.py:13: SettingWithCopyWarning:\n",
            "\n",
            "\n",
            "A value is trying to be set on a copy of a slice from a DataFrame.\n",
            "Try using .loc[row_indexer,col_indexer] = value instead\n",
            "\n",
            "See the caveats in the documentation: https://pandas.pydata.org/pandas-docs/stable/user_guide/indexing.html#returning-a-view-versus-a-copy\n",
            "\n",
            "/usr/local/lib/python3.6/dist-packages/ipykernel_launcher.py:16: SettingWithCopyWarning:\n",
            "\n",
            "\n",
            "A value is trying to be set on a copy of a slice from a DataFrame.\n",
            "Try using .loc[row_indexer,col_indexer] = value instead\n",
            "\n",
            "See the caveats in the documentation: https://pandas.pydata.org/pandas-docs/stable/user_guide/indexing.html#returning-a-view-versus-a-copy\n",
            "\n",
            "/usr/local/lib/python3.6/dist-packages/ipykernel_launcher.py:17: SettingWithCopyWarning:\n",
            "\n",
            "\n",
            "A value is trying to be set on a copy of a slice from a DataFrame.\n",
            "Try using .loc[row_indexer,col_indexer] = value instead\n",
            "\n",
            "See the caveats in the documentation: https://pandas.pydata.org/pandas-docs/stable/user_guide/indexing.html#returning-a-view-versus-a-copy\n",
            "\n"
          ],
          "name": "stderr"
        }
      ]
    },
    {
      "cell_type": "code",
      "metadata": {
        "colab_type": "code",
        "id": "RIf0nQyVmGan",
        "colab": {
          "base_uri": "https://localhost:8080/",
          "height": 1000
        },
        "outputId": "e3a67812-9a61-4705-f93d-1a74184dcaf4"
      },
      "source": [
        "models = []\n",
        "models.append((\"Information-based learning\",\"RandomForest\",RandomForestClassifier()))\n",
        "models.append((\"Error-based learning\",\"SVM\",SVC()))\n",
        "models.append((\"Probability-based learning\",\"NaiveBayes\",GaussianNB()))\n",
        "models.append((\"Similarity-based learning\",\"KNN\",KNeighborsClassifier(n_neighbors=5)))\n",
        "\n",
        "learnings =[]\n",
        "names = []\n",
        "train_results = []\n",
        "test_results = []\n",
        "class_results = []\n",
        "confu_results = []\n",
        "\n",
        "for learning,name,model in models:\n",
        "  kfold = KFold(n_splits=10, random_state=1)\n",
        "  train_result = cross_val_score(model, X_train, y_train, cv=kfold, scoring='accuracy')\n",
        "  model.fit(X_train, y_train)\n",
        "  y_pred = model.predict(X_test)\n",
        "  test_result = accuracy_score(y_test, y_pred)\n",
        "  class_result = classification_report(y_test, y_pred)\n",
        "  confu_result = confusion_matrix(y_test, y_pred)\n",
        "  learnings.append(learning)\n",
        "  names.append(name)\n",
        "  train_results.append(train_result)\n",
        "  test_results.append(test_result)\n",
        "  class_results.append(class_result)\n",
        "  confu_results.append(confu_result)\n",
        "\n",
        "print(\"\")\n",
        "fig = plt.figure(figsize=(10,10))\n",
        "fig.suptitle('Algorithm Comparison')\n",
        "ax = fig.add_subplot(111)\n",
        "plt.boxplot(train_results)\n",
        "ax.set_xticklabels(names)\n",
        "plt.show()\n",
        "print(\"\")\n",
        "\n",
        "for i in range(len(names)):\n",
        "    print(learnings[i],\" - \",names[i])\n",
        "    print(\"Test Score : \",test_results[i])\n",
        "    #print(class_results[i])\n",
        "    print(\"Confusion Matrix\")\n",
        "    plt.figure(figsize=(5.5,4))\n",
        "    sns.heatmap(confu_results[i], annot=True, fmt=\"d\")\n",
        "    plt.ylabel('True label')\n",
        "    plt.xlabel('Predicted label')\n",
        "    plt.show()\n",
        "\n",
        "#The accuracy of all models are more than 90%\n",
        "#The confusion matrix shows all models perform well in predicting the employee without intention of resignation\n",
        "#The confusion matrix shows all models perform badly in predicting the employee's intention to resign\n",
        "#This scenario is caused by the imbalance dataset.  The dataset is having 2137 active employees and 156 resigned employees."
      ],
      "execution_count": null,
      "outputs": [
        {
          "output_type": "stream",
          "text": [
            "/usr/local/lib/python3.6/dist-packages/sklearn/model_selection/_split.py:296: FutureWarning:\n",
            "\n",
            "Setting a random_state has no effect since shuffle is False. This will raise an error in 0.24. You should leave random_state to its default (None), or set shuffle=True.\n",
            "\n",
            "/usr/local/lib/python3.6/dist-packages/sklearn/model_selection/_split.py:296: FutureWarning:\n",
            "\n",
            "Setting a random_state has no effect since shuffle is False. This will raise an error in 0.24. You should leave random_state to its default (None), or set shuffle=True.\n",
            "\n",
            "/usr/local/lib/python3.6/dist-packages/sklearn/metrics/_classification.py:1272: UndefinedMetricWarning:\n",
            "\n",
            "Precision and F-score are ill-defined and being set to 0.0 in labels with no predicted samples. Use `zero_division` parameter to control this behavior.\n",
            "\n",
            "/usr/local/lib/python3.6/dist-packages/sklearn/model_selection/_split.py:296: FutureWarning:\n",
            "\n",
            "Setting a random_state has no effect since shuffle is False. This will raise an error in 0.24. You should leave random_state to its default (None), or set shuffle=True.\n",
            "\n",
            "/usr/local/lib/python3.6/dist-packages/sklearn/model_selection/_split.py:296: FutureWarning:\n",
            "\n",
            "Setting a random_state has no effect since shuffle is False. This will raise an error in 0.24. You should leave random_state to its default (None), or set shuffle=True.\n",
            "\n"
          ],
          "name": "stderr"
        },
        {
          "output_type": "stream",
          "text": [
            "\n"
          ],
          "name": "stdout"
        },
        {
          "output_type": "display_data",
          "data": {
            "image/png": "[encoded data removed]",
            "text/plain": [
              "<Figure size 720x720 with 1 Axes>"
            ]
          },
          "metadata": {
            "tags": [],
            "needs_background": "light"
          }
        },
        {
          "output_type": "stream",
          "text": [
            "\n",
            "Information-based learning  -  RandomForest\n",
            "Test Score :  0.9287790697674418\n",
            "Confusion Matrix\n"
          ],
          "name": "stdout"
        },
        {
          "output_type": "display_data",
          "data": {
            "image/png": "[encoded data removed]",
            "text/plain": [
              "<Figure size 396x288 with 2 Axes>"
            ]
          },
          "metadata": {
            "tags": [],
            "needs_background": "light"
          }
        },
        {
          "output_type": "stream",
          "text": [
            "Error-based learning  -  SVM\n",
            "Test Score :  0.9316860465116279\n",
            "Confusion Matrix\n"
          ],
          "name": "stdout"
        },
        {
          "output_type": "display_data",
          "data": {
            "image/png": "[encoded data removed]",
            "text/plain": [
              "<Figure size 396x288 with 2 Axes>"
            ]
          },
          "metadata": {
            "tags": [],
            "needs_background": "light"
          }
        },
        {
          "output_type": "stream",
          "text": [
            "Probability-based learning  -  NaiveBayes\n",
            "Test Score :  0.9113372093023255\n",
            "Confusion Matrix\n"
          ],
          "name": "stdout"
        },
        {
          "output_type": "display_data",
          "data": {
            "image/png": "[encoded data removed]",
            "text/plain": [
              "<Figure size 396x288 with 2 Axes>"
            ]
          },
          "metadata": {
            "tags": [],
            "needs_background": "light"
          }
        },
        {
          "output_type": "stream",
          "text": [
            "Similarity-based learning  -  KNN\n",
            "Test Score :  0.9302325581395349\n",
            "Confusion Matrix\n"
          ],
          "name": "stdout"
        },
        {
          "output_type": "display_data",
          "data": {
            "image/png": "[encoded data removed]",
            "text/plain": [
              "<Figure size 396x288 with 2 Axes>"
            ]
          },
          "metadata": {
            "tags": [],
            "needs_background": "light"
          }
        }
      ]
    },
    {
      "cell_type": "markdown",
      "metadata": {
        "id": "p3NZ9E5-yxzf",
        "colab_type": "text"
      },
      "source": [
        "\n",
        "1. The accuracy of all models are more than 90%\n",
        "2. The confusion matrix shows all models perform well in predicting the employee without intention of resignation\n",
        "3. The confusion matrix shows all models perform badly in predicting the employee's intention to resign\n",
        "4. This scenario is caused by the imbalance dataset.  The dataset is having 2137 active employees and 156 resigned employees."
      ]
    },
    {
      "cell_type": "markdown",
      "metadata": {
        "id": "kJjwQxcj6esR",
        "colab_type": "text"
      },
      "source": [
        "\n",
        "> *   Different testing model using cross validation score, MSE score and Accuracy score.\n",
        "\n",
        "\n",
        "\n",
        "\n",
        "\n",
        "\n",
        "\n"
      ]
    },
    {
      "cell_type": "code",
      "metadata": {
        "id": "SrQZ0SNJ3jdR",
        "colab_type": "code",
        "colab": {
          "base_uri": "https://localhost:8080/",
          "height": 301
        },
        "outputId": "e7309934-7d96-491a-ec98-3efa5ddcd2a8"
      },
      "source": [
        "#Information-based learning - Random Forest\n",
        "from sklearn.ensemble import RandomForestClassifier\n",
        "RF = RandomForestClassifier()\n",
        "RF.fit(X_train, y_train)\n",
        "print('Cross Validation: %.4f' % np.mean(cross_val_score(RF, X_train, y_train, cv=4)))\n",
        "\n",
        "RFCy_pred = RF.predict(X_test)\n",
        "\n",
        "from sklearn.metrics import mean_squared_error\n",
        "result_mse = mean_squared_error(y_test,RFCy_pred)\n",
        "print('Test MSE: %.4f' % result_mse)\n",
        "\n",
        "\n",
        "print('Accuracy: %.4f' % accuracy_score(y_test, RFCy_pred))\n",
        "print(classification_report(y_test, RFCy_pred))\n",
        "print(confusion_matrix(y_test, RFCy_pred))\n",
        "\n",
        "rfc = RandomForestClassifier()\n",
        "rfc.fit(X_train, y_train)\n",
        "\n",
        "rfc_score_train = rfc.score(X_train, y_train)\n",
        "print(\"Training_score: \",rfc_score_train)\n",
        "rfc_score_test = rfc.score(X_test, y_test)\n",
        "print(\"Testing_score: \",rfc_score_test)"
      ],
      "execution_count": null,
      "outputs": [
        {
          "output_type": "stream",
          "text": [
            "Cross Validation: 0.9629\n",
            "Test MSE: 0.0281\n",
            "Accuracy: 0.9719\n",
            "              precision    recall  f1-score   support\n",
            "\n",
            "           0       1.00      0.94      0.97       641\n",
            "           1       0.95      1.00      0.97       642\n",
            "\n",
            "    accuracy                           0.97      1283\n",
            "   macro avg       0.97      0.97      0.97      1283\n",
            "weighted avg       0.97      0.97      0.97      1283\n",
            "\n",
            "[[605  36]\n",
            " [  0 642]]\n",
            "Training_score:  1.0\n",
            "Testing_score:  0.9727201870615745\n"
          ],
          "name": "stdout"
        }
      ]
    },
    {
      "cell_type": "code",
      "metadata": {
        "id": "MxrkAJe44MNp",
        "colab_type": "code",
        "colab": {
          "base_uri": "https://localhost:8080/",
          "height": 657
        },
        "outputId": "57d333a3-94ee-41ed-93e4-07112ce94a29"
      },
      "source": [
        "#Error-based learning - SVM\n",
        "from sklearn.svm import LinearSVC\n",
        "\n",
        "SVM = LinearSVC()\n",
        "SVM.fit(X_train, y_train)\n",
        "print('Cross Validation: %.4f' % np.mean(cross_val_score(SVM, X_train, y_train, cv=4)))\n",
        "\n",
        "SVMy_pred = SVM.predict(X_test)\n",
        "\n",
        "from sklearn.metrics import mean_squared_error\n",
        "result_mse = mean_squared_error(y_test,SVMy_pred)\n",
        "print('Test MSE: %.4f' % result_mse)\n",
        "\n",
        "print('Accuracy: %.4f' % accuracy_score(y_test, SVMy_pred))\n",
        "print(classification_report(y_test, SVMy_pred))\n",
        "print(confusion_matrix(y_test, SVMy_pred))\n",
        "\n",
        "#SVM\n",
        "from sklearn.svm import SVC\n",
        "svm = SVC()\n",
        "svm.fit(X_train, y_train)\n",
        "\n",
        "svm_score_train = svm.score(X_train, y_train)\n",
        "print(\"Training score: \",svm_score_train)\n",
        "svm_score_test = svm.score(X_test, y_test)\n",
        "print(\"Testing score: \",svm_score_test)"
      ],
      "execution_count": null,
      "outputs": [
        {
          "output_type": "stream",
          "text": [
            "/usr/local/lib/python3.6/dist-packages/sklearn/svm/_base.py:947: ConvergenceWarning:\n",
            "\n",
            "Liblinear failed to converge, increase the number of iterations.\n",
            "\n",
            "/usr/local/lib/python3.6/dist-packages/sklearn/svm/_base.py:947: ConvergenceWarning:\n",
            "\n",
            "Liblinear failed to converge, increase the number of iterations.\n",
            "\n",
            "/usr/local/lib/python3.6/dist-packages/sklearn/svm/_base.py:947: ConvergenceWarning:\n",
            "\n",
            "Liblinear failed to converge, increase the number of iterations.\n",
            "\n",
            "/usr/local/lib/python3.6/dist-packages/sklearn/svm/_base.py:947: ConvergenceWarning:\n",
            "\n",
            "Liblinear failed to converge, increase the number of iterations.\n",
            "\n",
            "/usr/local/lib/python3.6/dist-packages/sklearn/svm/_base.py:947: ConvergenceWarning:\n",
            "\n",
            "Liblinear failed to converge, increase the number of iterations.\n",
            "\n"
          ],
          "name": "stderr"
        },
        {
          "output_type": "stream",
          "text": [
            "Cross Validation: 0.5032\n",
            "Test MSE: 0.4949\n",
            "Accuracy: 0.5051\n",
            "              precision    recall  f1-score   support\n",
            "\n",
            "           0       1.00      0.01      0.02       641\n",
            "           1       0.50      1.00      0.67       642\n",
            "\n",
            "    accuracy                           0.51      1283\n",
            "   macro avg       0.75      0.50      0.34      1283\n",
            "weighted avg       0.75      0.51      0.34      1283\n",
            "\n",
            "[[  6 635]\n",
            " [  0 642]]\n",
            "Training score:  0.6188565697091274\n",
            "Testing score:  0.6305533904910366\n"
          ],
          "name": "stdout"
        }
      ]
    },
    {
      "cell_type": "code",
      "metadata": {
        "id": "q4JssMg24MBK",
        "colab_type": "code",
        "colab": {
          "base_uri": "https://localhost:8080/",
          "height": 301
        },
        "outputId": "46ee695f-775f-4b23-9385-4c762cbd824d"
      },
      "source": [
        "#Probability-based learning - Naive Bayes\n",
        "from sklearn.naive_bayes import GaussianNB\n",
        "\n",
        "NB = GaussianNB()\n",
        "NB.fit(X_train, y_train)\n",
        "print('Cross Validation: %.4f' % np.mean(cross_val_score(NB, X_train, y_train, cv=4)))\n",
        "\n",
        "NBy_pred =NB.predict(X_test)\n",
        "\n",
        "from sklearn.metrics import mean_squared_error\n",
        "result_mse = mean_squared_error(y_test,NBy_pred)\n",
        "print('Test MSE: %.4f' % result_mse)\n",
        "\n",
        "print('Accuracy: %.4f' % accuracy_score(y_test, NBy_pred))\n",
        "print(classification_report(y_test, NBy_pred))\n",
        "print(confusion_matrix(y_test, NBy_pred))\n",
        "\n",
        "NB_score_train = NB.score(X_train, y_train)\n",
        "print(\"Training_score: \",NB_score_train)\n",
        "NB_score_test = NB.score(X_test, y_test)\n",
        "print(\"Testing_score: \",NB_score_test)"
      ],
      "execution_count": null,
      "outputs": [
        {
          "output_type": "stream",
          "text": [
            "Cross Validation: 0.5660\n",
            "Test MSE: 0.4256\n",
            "Accuracy: 0.5744\n",
            "              precision    recall  f1-score   support\n",
            "\n",
            "           0       0.56      0.64      0.60       641\n",
            "           1       0.59      0.50      0.54       642\n",
            "\n",
            "    accuracy                           0.57      1283\n",
            "   macro avg       0.58      0.57      0.57      1283\n",
            "weighted avg       0.58      0.57      0.57      1283\n",
            "\n",
            "[[413 228]\n",
            " [318 324]]\n",
            "Training_score:  0.5707121364092277\n",
            "Testing_score:  0.5744349181605611\n"
          ],
          "name": "stdout"
        }
      ]
    },
    {
      "cell_type": "code",
      "metadata": {
        "id": "4jn3fSeQ5A3G",
        "colab_type": "code",
        "colab": {
          "base_uri": "https://localhost:8080/",
          "height": 301
        },
        "outputId": "dbac4efb-e6f6-4372-e6f0-377119b04ffa"
      },
      "source": [
        "#Similarity-based learning - KNN\n",
        "KNN = KNeighborsClassifier()\n",
        "KNN.fit(X_train, y_train)\n",
        "print('Cross Validation: %.4f' % np.mean(cross_val_score(RF, X_train, y_train, cv=4)))\n",
        "\n",
        "KNNy_pred = KNN.predict(X_test)\n",
        "\n",
        "from sklearn.metrics import mean_squared_error\n",
        "result_mse = mean_squared_error(y_test,KNNy_pred)\n",
        "print('Test MSE: %.4f' % result_mse)\n",
        "\n",
        "\n",
        "print('Accuracy: %.4f' % accuracy_score(y_test, KNNy_pred))\n",
        "print(classification_report(y_test, KNNy_pred))\n",
        "print(confusion_matrix(y_test, KNNy_pred))\n",
        "\n",
        "\n",
        "KNN_score_train = KNN.score(X_train, y_train)\n",
        "print(\"Training_score: \",KNN_score_train)\n",
        "KNN_score_test = KNN.score(X_test, y_test)\n",
        "print(\"Testing_score: \",KNN_score_test)"
      ],
      "execution_count": null,
      "outputs": [
        {
          "output_type": "stream",
          "text": [
            "Cross Validation: 0.9602\n",
            "Test MSE: 0.1224\n",
            "Accuracy: 0.8776\n",
            "              precision    recall  f1-score   support\n",
            "\n",
            "           0       1.00      0.76      0.86       641\n",
            "           1       0.80      1.00      0.89       642\n",
            "\n",
            "    accuracy                           0.88      1283\n",
            "   macro avg       0.90      0.88      0.88      1283\n",
            "weighted avg       0.90      0.88      0.88      1283\n",
            "\n",
            "[[484 157]\n",
            " [  0 642]]\n",
            "Training_score:  0.9154129053828152\n",
            "Testing_score:  0.877630553390491\n"
          ],
          "name": "stdout"
        }
      ]
    },
    {
      "cell_type": "code",
      "metadata": {
        "id": "bAVh_yV84y86",
        "colab_type": "code",
        "colab": {
          "base_uri": "https://localhost:8080/",
          "height": 164
        },
        "outputId": "2776d0a0-9bf6-4b7e-bda4-b72d9c74a2f1"
      },
      "source": [
        "models = pd.DataFrame({\n",
        "        'Model'          : ['Random Forest', 'SVM', 'Naive Bayes', 'KNN'],\n",
        "        'Cross_Val_Score': [0.9265, 0.5018, 0.5660, 0.9616],\n",
        "        'TEST_mse'       : [0.0265, 0.4981, 0.4256, 0.1224],\n",
        "        'Accuracy_mse'   : [0.9735, 0.5019, 0.5744, 0.8776],\n",
        "        'Training_Score' : [rfc_score_train, svm_score_train, NB_score_train, KNN_score_train],\n",
        "        'Testing_Score'  : [rfc_score_test, svm_score_test, NB_score_test, KNN_score_test]\n",
        "        })\n",
        "\n",
        "models.sort_values(by='Testing_Score', ascending=False)"
      ],
      "execution_count": null,
      "outputs": [
        {
          "output_type": "execute_result",
          "data": {
            "text/html": [
              "<div>\n",
              "<style scoped>\n",
              "    .dataframe tbody tr th:only-of-type {\n",
              "        vertical-align: middle;\n",
              "    }\n",
              "\n",
              "    .dataframe tbody tr th {\n",
              "        vertical-align: top;\n",
              "    }\n",
              "\n",
              "    .dataframe thead th {\n",
              "        text-align: right;\n",
              "    }\n",
              "</style>\n",
              "<table border=\"1\" class=\"dataframe\">\n",
              "  <thead>\n",
              "    <tr style=\"text-align: right;\">\n",
              "      <th></th>\n",
              "      <th>Model</th>\n",
              "      <th>Cross_Val_Score</th>\n",
              "      <th>TEST_mse</th>\n",
              "      <th>Accuracy_mse</th>\n",
              "      <th>Training_Score</th>\n",
              "      <th>Testing_Score</th>\n",
              "    </tr>\n",
              "  </thead>\n",
              "  <tbody>\n",
              "    <tr>\n",
              "      <th>0</th>\n",
              "      <td>Random Forest</td>\n",
              "      <td>0.9265</td>\n",
              "      <td>0.0265</td>\n",
              "      <td>0.9735</td>\n",
              "      <td>1.000000</td>\n",
              "      <td>0.973500</td>\n",
              "    </tr>\n",
              "    <tr>\n",
              "      <th>3</th>\n",
              "      <td>KNN</td>\n",
              "      <td>0.9616</td>\n",
              "      <td>0.1224</td>\n",
              "      <td>0.8776</td>\n",
              "      <td>0.915413</td>\n",
              "      <td>0.877631</td>\n",
              "    </tr>\n",
              "    <tr>\n",
              "      <th>1</th>\n",
              "      <td>SVM</td>\n",
              "      <td>0.5018</td>\n",
              "      <td>0.4981</td>\n",
              "      <td>0.5019</td>\n",
              "      <td>0.618857</td>\n",
              "      <td>0.630553</td>\n",
              "    </tr>\n",
              "    <tr>\n",
              "      <th>2</th>\n",
              "      <td>Naive Bayes</td>\n",
              "      <td>0.5660</td>\n",
              "      <td>0.4256</td>\n",
              "      <td>0.5744</td>\n",
              "      <td>0.570712</td>\n",
              "      <td>0.574435</td>\n",
              "    </tr>\n",
              "  </tbody>\n",
              "</table>\n",
              "</div>"
            ],
            "text/plain": [
              "           Model  Cross_Val_Score  ...  Training_Score  Testing_Score\n",
              "0  Random Forest           0.9265  ...        1.000000       0.973500\n",
              "3            KNN           0.9616  ...        0.915413       0.877631\n",
              "1            SVM           0.5018  ...        0.618857       0.630553\n",
              "2    Naive Bayes           0.5660  ...        0.570712       0.574435\n",
              "\n",
              "[4 rows x 6 columns]"
            ]
          },
          "metadata": {
            "tags": []
          },
          "execution_count": 135
        }
      ]
    },
    {
      "cell_type": "markdown",
      "metadata": {
        "id": "NZvVuLn07v1P",
        "colab_type": "text"
      },
      "source": [
        "From this testing method too, random forest has topped the list with the highest testing and accuracy score. However, as we know the data is imbalanced so the data will be upsampled and compared."
      ]
    },
    {
      "cell_type": "markdown",
      "metadata": {
        "id": "BYfEtijyxIKM",
        "colab_type": "text"
      },
      "source": [
        "### UP SAMPLED DATA"
      ]
    },
    {
      "cell_type": "code",
      "metadata": {
        "id": "DCmywg-YXcoa",
        "colab_type": "code",
        "colab": {
          "base_uri": "https://localhost:8080/",
          "height": 52
        },
        "outputId": "8bc02f93-a1e4-459e-d735-e1771ba5044f"
      },
      "source": [
        "#Upsample minority class\n",
        "from sklearn.utils import resample\n",
        "\n",
        "df_majority = df[df.RecordType=='A']\n",
        "df_minority = df[df.RecordType=='R']\n",
        "\n",
        "print(df_majority.shape)\n",
        "\n",
        "# Upsample minority class\n",
        "df_minority_upsampled = resample(df_minority, \n",
        "                                 replace=True,     # sample with replacement\n",
        "                                 n_samples=df_majority.shape[0],    # to match majority class\n",
        "                                 random_state=123) # reproducible results\n",
        " \n",
        "# Combine majority class with upsampled minority class\n",
        "df_upsampled = pd.concat([df_majority, df_minority_upsampled])\n",
        " \n",
        "# Display new class counts\n",
        "print(df_upsampled.shape)"
      ],
      "execution_count": null,
      "outputs": [
        {
          "output_type": "stream",
          "text": [
            "(2137, 10)\n",
            "(4274, 10)\n"
          ],
          "name": "stdout"
        }
      ]
    },
    {
      "cell_type": "code",
      "metadata": {
        "id": "bGaREpNuxX-N",
        "colab_type": "code",
        "colab": {
          "base_uri": "https://localhost:8080/",
          "height": 135
        },
        "outputId": "0ced5a7f-737b-4fc4-cc33-3408e4c07a8a"
      },
      "source": [
        "df.groupby('RecordType').count()"
      ],
      "execution_count": null,
      "outputs": [
        {
          "output_type": "execute_result",
          "data": {
            "text/html": [
              "<div>\n",
              "<style scoped>\n",
              "    .dataframe tbody tr th:only-of-type {\n",
              "        vertical-align: middle;\n",
              "    }\n",
              "\n",
              "    .dataframe tbody tr th {\n",
              "        vertical-align: top;\n",
              "    }\n",
              "\n",
              "    .dataframe thead th {\n",
              "        text-align: right;\n",
              "    }\n",
              "</style>\n",
              "<table border=\"1\" class=\"dataframe\">\n",
              "  <thead>\n",
              "    <tr style=\"text-align: right;\">\n",
              "      <th></th>\n",
              "      <th>Class</th>\n",
              "      <th>Gender</th>\n",
              "      <th>YOS</th>\n",
              "      <th>Age</th>\n",
              "      <th>AgeGroup</th>\n",
              "      <th>Category</th>\n",
              "      <th>Race</th>\n",
              "      <th>Qualification</th>\n",
              "      <th>Dept</th>\n",
              "    </tr>\n",
              "    <tr>\n",
              "      <th>RecordType</th>\n",
              "      <th></th>\n",
              "      <th></th>\n",
              "      <th></th>\n",
              "      <th></th>\n",
              "      <th></th>\n",
              "      <th></th>\n",
              "      <th></th>\n",
              "      <th></th>\n",
              "      <th></th>\n",
              "    </tr>\n",
              "  </thead>\n",
              "  <tbody>\n",
              "    <tr>\n",
              "      <th>A</th>\n",
              "      <td>2137</td>\n",
              "      <td>2137</td>\n",
              "      <td>2137</td>\n",
              "      <td>2137</td>\n",
              "      <td>2137</td>\n",
              "      <td>2137</td>\n",
              "      <td>2137</td>\n",
              "      <td>2137</td>\n",
              "      <td>2137</td>\n",
              "    </tr>\n",
              "    <tr>\n",
              "      <th>R</th>\n",
              "      <td>2137</td>\n",
              "      <td>2137</td>\n",
              "      <td>2137</td>\n",
              "      <td>2137</td>\n",
              "      <td>2137</td>\n",
              "      <td>2137</td>\n",
              "      <td>2137</td>\n",
              "      <td>2137</td>\n",
              "      <td>2137</td>\n",
              "    </tr>\n",
              "  </tbody>\n",
              "</table>\n",
              "</div>"
            ],
            "text/plain": [
              "            Class  Gender   YOS   Age  ...  Category  Race  Qualification  Dept\n",
              "RecordType                             ...                                     \n",
              "A            2137    2137  2137  2137  ...      2137  2137           2137  2137\n",
              "R            2137    2137  2137  2137  ...      2137  2137           2137  2137\n",
              "\n",
              "[2 rows x 9 columns]"
            ]
          },
          "metadata": {
            "tags": []
          },
          "execution_count": 68
        }
      ]
    },
    {
      "cell_type": "code",
      "metadata": {
        "id": "OKC6XLHByTKc",
        "colab_type": "code",
        "colab": {
          "base_uri": "https://localhost:8080/",
          "height": 408
        },
        "outputId": "13998227-3b4d-4694-e7eb-7551670477e2"
      },
      "source": [
        "df_upsampled.groupby(['RecordType', 'AgeGroup', 'Gender']).size()"
      ],
      "execution_count": null,
      "outputs": [
        {
          "output_type": "execute_result",
          "data": {
            "text/plain": [
              "RecordType  AgeGroup  Gender\n",
              "A           20s       F         263\n",
              "                      M         130\n",
              "            30s       F         546\n",
              "                      M         267\n",
              "            40s       F         411\n",
              "                      M         193\n",
              "            50s       F         177\n",
              "                      M          86\n",
              "            60s       F          32\n",
              "                      M          32\n",
              "R           20s       F         412\n",
              "                      M         158\n",
              "            30s       F         651\n",
              "                      M         289\n",
              "            40s       F         194\n",
              "                      M         170\n",
              "            50s       F          98\n",
              "                      M          56\n",
              "            60s       F          58\n",
              "                      M          51\n",
              "dtype: int64"
            ]
          },
          "metadata": {
            "tags": []
          },
          "execution_count": 70
        }
      ]
    },
    {
      "cell_type": "code",
      "metadata": {
        "id": "HtY98Kxty3_E",
        "colab_type": "code",
        "colab": {
          "base_uri": "https://localhost:8080/",
          "height": 533
        },
        "outputId": "6622e9e3-9c12-4030-b421-b32025f1381e"
      },
      "source": [
        "## Active vs Resign ##\n",
        "fig2, ax2 = plt.subplots()\n",
        "count_unique=df_upsampled['RecordType'].value_counts()\n",
        "plt.pie([count_unique['A'], count_unique['R']], explode=(0,0.1), labels=['Active','Resigned'],autopct='%1.1f%%', shadow=True)\n",
        "plt.figure(figsize=(100,100))\n",
        "\n",
        "## Male vs Female ##\n",
        "fig2, ax2 = plt.subplots()\n",
        "count_unique=df_upsampled['Gender'].value_counts()\n",
        "plt.pie([count_unique['F'], count_unique['M']], explode=(0,0.1), labels=['Female','Male'],autopct='%1.1f%%', shadow=True)\n",
        "plt.figure(figsize=(100,100))"
      ],
      "execution_count": null,
      "outputs": [
        {
          "output_type": "execute_result",
          "data": {
            "text/plain": [
              "<Figure size 7200x7200 with 0 Axes>"
            ]
          },
          "metadata": {
            "tags": []
          },
          "execution_count": 73
        },
        {
          "output_type": "display_data",
          "data": {
            "image/png": "[encoded data removed]",
            "text/plain": [
              "<Figure size 432x288 with 1 Axes>"
            ]
          },
          "metadata": {
            "tags": []
          }
        },
        {
          "output_type": "display_data",
          "data": {
            "text/plain": [
              "<Figure size 7200x7200 with 0 Axes>"
            ]
          },
          "metadata": {
            "tags": []
          }
        },
        {
          "output_type": "display_data",
          "data": {
            "image/png": "[encoded data removed]",
            "text/plain": [
              "<Figure size 432x288 with 1 Axes>"
            ]
          },
          "metadata": {
            "tags": []
          }
        },
        {
          "output_type": "display_data",
          "data": {
            "text/plain": [
              "<Figure size 7200x7200 with 0 Axes>"
            ]
          },
          "metadata": {
            "tags": []
          }
        }
      ]
    },
    {
      "cell_type": "code",
      "metadata": {
        "id": "ks0FA6zDzlMp",
        "colab_type": "code",
        "colab": {
          "base_uri": "https://localhost:8080/",
          "height": 230
        },
        "outputId": "86d0a116-1f76-43ef-8558-f8486e46ec52"
      },
      "source": [
        "df_upsampled.groupby(['RecordType', 'AgeGroup']).size()"
      ],
      "execution_count": null,
      "outputs": [
        {
          "output_type": "execute_result",
          "data": {
            "text/plain": [
              "RecordType  AgeGroup\n",
              "A           20s         393\n",
              "            30s         813\n",
              "            40s         604\n",
              "            50s         263\n",
              "            60s          64\n",
              "R           20s         570\n",
              "            30s         940\n",
              "            40s         364\n",
              "            50s         154\n",
              "            60s         109\n",
              "dtype: int64"
            ]
          },
          "metadata": {
            "tags": []
          },
          "execution_count": 74
        }
      ]
    },
    {
      "cell_type": "code",
      "metadata": {
        "id": "GMMXfgASziDl",
        "colab_type": "code",
        "colab": {
          "base_uri": "https://localhost:8080/",
          "height": 542
        },
        "outputId": "c785829f-0cb0-4a93-a870-bd638a80c956"
      },
      "source": [
        "import plotly.graph_objects as go\n",
        "AgeGroup=['20s', '30s', '40s', '50s', '60s']\n",
        "\n",
        "fig = go.Figure(data=[\n",
        "    go.Bar(name='Active', x=AgeGroup, y=[393,813, 604, 263, 64]),\n",
        "    go.Bar(name='Resigned', x=AgeGroup, y=[570,940, 364, 154, 109]) ])\n",
        "\n",
        "\n",
        "fig.update_layout(barmode='group')\n",
        "fig.show()"
      ],
      "execution_count": null,
      "outputs": [
        {
          "output_type": "display_data",
          "data": {
            "text/html": [
              "<html>\n",
              "<head><meta charset=\"utf-8\" /></head>\n",
              "<body>\n",
              "    <div>\n",
              "            <script src=\"https://cdnjs.cloudflare.com/ajax/libs/mathjax/2.7.5/MathJax.js?config=TeX-AMS-MML_SVG\"></script><script type=\"text/javascript\">if (window.MathJax) {MathJax.Hub.Config({SVG: {font: \"STIX-Web\"}});}</script>\n",
              "                <script type=\"text/javascript\">window.PlotlyConfig = {MathJaxConfig: 'local'};</script>\n",
              "        <script src=\"https://cdn.plot.ly/plotly-latest.min.js\"></script>    \n",
              "            <div id=\"51ee7cc8-c5ad-4fa3-ac47-288c83e6785e\" class=\"plotly-graph-div\" style=\"height:525px; width:100%;\"></div>\n",
              "            <script type=\"text/javascript\">\n",
              "                \n",
              "                    window.PLOTLYENV=window.PLOTLYENV || {};\n",
              "                    \n",
              "                if (document.getElementById(\"51ee7cc8-c5ad-4fa3-ac47-288c83e6785e\")) {\n",
              "                    Plotly.newPlot(\n",
              "                        '51ee7cc8-c5ad-4fa3-ac47-288c83e6785e',\n",
              "                        [{\"name\": \"Active\", \"type\": \"bar\", \"x\": [\"20s\", \"30s\", \"40s\", \"50s\", \"60s\"], \"y\": [393, 813, 604, 263, 64]}, {\"name\": \"Resigned\", \"type\": \"bar\", \"x\": [\"20s\", \"30s\", \"40s\", \"50s\", \"60s\"], \"y\": [570, 940, 364, 154, 109]}],\n",
              "                        {\"barmode\": \"group\", \"template\": {\"data\": {\"bar\": [{\"error_x\": {\"color\": \"#2a3f5f\"}, \"error_y\": {\"color\": \"#2a3f5f\"}, \"marker\": {\"line\": {\"color\": \"#E5ECF6\", \"width\": 0.5}}, \"type\": \"bar\"}], \"barpolar\": [{\"marker\": {\"line\": {\"color\": \"#E5ECF6\", \"width\": 0.5}}, \"type\": \"barpolar\"}], \"carpet\": [{\"aaxis\": {\"endlinecolor\": \"#2a3f5f\", \"gridcolor\": \"white\", \"linecolor\": \"white\", \"minorgridcolor\": \"white\", \"startlinecolor\": \"#2a3f5f\"}, \"baxis\": {\"endlinecolor\": \"#2a3f5f\", \"gridcolor\": \"white\", \"linecolor\": \"white\", \"minorgridcolor\": \"white\", \"startlinecolor\": \"#2a3f5f\"}, \"type\": \"carpet\"}], \"choropleth\": [{\"colorbar\": {\"outlinewidth\": 0, \"ticks\": \"\"}, \"type\": \"choropleth\"}], \"contour\": [{\"colorbar\": {\"outlinewidth\": 0, \"ticks\": \"\"}, \"colorscale\": [[0.0, \"#0d0887\"], [0.1111111111111111, \"#46039f\"], [0.2222222222222222, \"#7201a8\"], [0.3333333333333333, \"#9c179e\"], [0.4444444444444444, \"#bd3786\"], [0.5555555555555556, \"#d8576b\"], [0.6666666666666666, \"#ed7953\"], [0.7777777777777778, \"#fb9f3a\"], [0.8888888888888888, \"#fdca26\"], [1.0, \"#f0f921\"]], \"type\": \"contour\"}], \"contourcarpet\": [{\"colorbar\": {\"outlinewidth\": 0, \"ticks\": \"\"}, \"type\": \"contourcarpet\"}], \"heatmap\": [{\"colorbar\": {\"outlinewidth\": 0, \"ticks\": \"\"}, \"colorscale\": [[0.0, \"#0d0887\"], [0.1111111111111111, \"#46039f\"], [0.2222222222222222, \"#7201a8\"], [0.3333333333333333, \"#9c179e\"], [0.4444444444444444, \"#bd3786\"], [0.5555555555555556, \"#d8576b\"], [0.6666666666666666, \"#ed7953\"], [0.7777777777777778, \"#fb9f3a\"], [0.8888888888888888, \"#fdca26\"], [1.0, \"#f0f921\"]], \"type\": \"heatmap\"}], \"heatmapgl\": [{\"colorbar\": {\"outlinewidth\": 0, \"ticks\": \"\"}, \"colorscale\": [[0.0, \"#0d0887\"], [0.1111111111111111, \"#46039f\"], [0.2222222222222222, \"#7201a8\"], [0.3333333333333333, \"#9c179e\"], [0.4444444444444444, \"#bd3786\"], [0.5555555555555556, \"#d8576b\"], [0.6666666666666666, \"#ed7953\"], [0.7777777777777778, \"#fb9f3a\"], [0.8888888888888888, \"#fdca26\"], [1.0, \"#f0f921\"]], \"type\": \"heatmapgl\"}], \"histogram\": [{\"marker\": {\"colorbar\": {\"outlinewidth\": 0, \"ticks\": \"\"}}, \"type\": \"histogram\"}], \"histogram2d\": [{\"colorbar\": {\"outlinewidth\": 0, \"ticks\": \"\"}, \"colorscale\": [[0.0, \"#0d0887\"], [0.1111111111111111, \"#46039f\"], [0.2222222222222222, \"#7201a8\"], [0.3333333333333333, \"#9c179e\"], [0.4444444444444444, \"#bd3786\"], [0.5555555555555556, \"#d8576b\"], [0.6666666666666666, \"#ed7953\"], [0.7777777777777778, \"#fb9f3a\"], [0.8888888888888888, \"#fdca26\"], [1.0, \"#f0f921\"]], \"type\": \"histogram2d\"}], \"histogram2dcontour\": [{\"colorbar\": {\"outlinewidth\": 0, \"ticks\": \"\"}, \"colorscale\": [[0.0, \"#0d0887\"], [0.1111111111111111, \"#46039f\"], [0.2222222222222222, \"#7201a8\"], [0.3333333333333333, \"#9c179e\"], [0.4444444444444444, \"#bd3786\"], [0.5555555555555556, \"#d8576b\"], [0.6666666666666666, \"#ed7953\"], [0.7777777777777778, \"#fb9f3a\"], [0.8888888888888888, \"#fdca26\"], [1.0, \"#f0f921\"]], \"type\": \"histogram2dcontour\"}], \"mesh3d\": [{\"colorbar\": {\"outlinewidth\": 0, \"ticks\": \"\"}, \"type\": \"mesh3d\"}], \"parcoords\": [{\"line\": {\"colorbar\": {\"outlinewidth\": 0, \"ticks\": \"\"}}, \"type\": \"parcoords\"}], \"pie\": [{\"automargin\": true, \"type\": \"pie\"}], \"scatter\": [{\"marker\": {\"colorbar\": {\"outlinewidth\": 0, \"ticks\": \"\"}}, \"type\": \"scatter\"}], \"scatter3d\": [{\"line\": {\"colorbar\": {\"outlinewidth\": 0, \"ticks\": \"\"}}, \"marker\": {\"colorbar\": {\"outlinewidth\": 0, \"ticks\": \"\"}}, \"type\": \"scatter3d\"}], \"scattercarpet\": [{\"marker\": {\"colorbar\": {\"outlinewidth\": 0, \"ticks\": \"\"}}, \"type\": \"scattercarpet\"}], \"scattergeo\": [{\"marker\": {\"colorbar\": {\"outlinewidth\": 0, \"ticks\": \"\"}}, \"type\": \"scattergeo\"}], \"scattergl\": [{\"marker\": {\"colorbar\": {\"outlinewidth\": 0, \"ticks\": \"\"}}, \"type\": \"scattergl\"}], \"scattermapbox\": [{\"marker\": {\"colorbar\": {\"outlinewidth\": 0, \"ticks\": \"\"}}, \"type\": \"scattermapbox\"}], \"scatterpolar\": [{\"marker\": {\"colorbar\": {\"outlinewidth\": 0, \"ticks\": \"\"}}, \"type\": \"scatterpolar\"}], \"scatterpolargl\": [{\"marker\": {\"colorbar\": {\"outlinewidth\": 0, \"ticks\": \"\"}}, \"type\": \"scatterpolargl\"}], \"scatterternary\": [{\"marker\": {\"colorbar\": {\"outlinewidth\": 0, \"ticks\": \"\"}}, \"type\": \"scatterternary\"}], \"surface\": [{\"colorbar\": {\"outlinewidth\": 0, \"ticks\": \"\"}, \"colorscale\": [[0.0, \"#0d0887\"], [0.1111111111111111, \"#46039f\"], [0.2222222222222222, \"#7201a8\"], [0.3333333333333333, \"#9c179e\"], [0.4444444444444444, \"#bd3786\"], [0.5555555555555556, \"#d8576b\"], [0.6666666666666666, \"#ed7953\"], [0.7777777777777778, \"#fb9f3a\"], [0.8888888888888888, \"#fdca26\"], [1.0, \"#f0f921\"]], \"type\": \"surface\"}], \"table\": [{\"cells\": {\"fill\": {\"color\": \"#EBF0F8\"}, \"line\": {\"color\": \"white\"}}, \"header\": {\"fill\": {\"color\": \"#C8D4E3\"}, \"line\": {\"color\": \"white\"}}, \"type\": \"table\"}]}, \"layout\": {\"annotationdefaults\": {\"arrowcolor\": \"#2a3f5f\", \"arrowhead\": 0, \"arrowwidth\": 1}, \"coloraxis\": {\"colorbar\": {\"outlinewidth\": 0, \"ticks\": \"\"}}, \"colorscale\": {\"diverging\": [[0, \"#8e0152\"], [0.1, \"#c51b7d\"], [0.2, \"#de77ae\"], [0.3, \"#f1b6da\"], [0.4, \"#fde0ef\"], [0.5, \"#f7f7f7\"], [0.6, \"#e6f5d0\"], [0.7, \"#b8e186\"], [0.8, \"#7fbc41\"], [0.9, \"#4d9221\"], [1, \"#276419\"]], \"sequential\": [[0.0, \"#0d0887\"], [0.1111111111111111, \"#46039f\"], [0.2222222222222222, \"#7201a8\"], [0.3333333333333333, \"#9c179e\"], [0.4444444444444444, \"#bd3786\"], [0.5555555555555556, \"#d8576b\"], [0.6666666666666666, \"#ed7953\"], [0.7777777777777778, \"#fb9f3a\"], [0.8888888888888888, \"#fdca26\"], [1.0, \"#f0f921\"]], \"sequentialminus\": [[0.0, \"#0d0887\"], [0.1111111111111111, \"#46039f\"], [0.2222222222222222, \"#7201a8\"], [0.3333333333333333, \"#9c179e\"], [0.4444444444444444, \"#bd3786\"], [0.5555555555555556, \"#d8576b\"], [0.6666666666666666, \"#ed7953\"], [0.7777777777777778, \"#fb9f3a\"], [0.8888888888888888, \"#fdca26\"], [1.0, \"#f0f921\"]]}, \"colorway\": [\"#636efa\", \"#EF553B\", \"#00cc96\", \"#ab63fa\", \"#FFA15A\", \"#19d3f3\", \"#FF6692\", \"#B6E880\", \"#FF97FF\", \"#FECB52\"], \"font\": {\"color\": \"#2a3f5f\"}, \"geo\": {\"bgcolor\": \"white\", \"lakecolor\": \"white\", \"landcolor\": \"#E5ECF6\", \"showlakes\": true, \"showland\": true, \"subunitcolor\": \"white\"}, \"hoverlabel\": {\"align\": \"left\"}, \"hovermode\": \"closest\", \"mapbox\": {\"style\": \"light\"}, \"paper_bgcolor\": \"white\", \"plot_bgcolor\": \"#E5ECF6\", \"polar\": {\"angularaxis\": {\"gridcolor\": \"white\", \"linecolor\": \"white\", \"ticks\": \"\"}, \"bgcolor\": \"#E5ECF6\", \"radialaxis\": {\"gridcolor\": \"white\", \"linecolor\": \"white\", \"ticks\": \"\"}}, \"scene\": {\"xaxis\": {\"backgroundcolor\": \"#E5ECF6\", \"gridcolor\": \"white\", \"gridwidth\": 2, \"linecolor\": \"white\", \"showbackground\": true, \"ticks\": \"\", \"zerolinecolor\": \"white\"}, \"yaxis\": {\"backgroundcolor\": \"#E5ECF6\", \"gridcolor\": \"white\", \"gridwidth\": 2, \"linecolor\": \"white\", \"showbackground\": true, \"ticks\": \"\", \"zerolinecolor\": \"white\"}, \"zaxis\": {\"backgroundcolor\": \"#E5ECF6\", \"gridcolor\": \"white\", \"gridwidth\": 2, \"linecolor\": \"white\", \"showbackground\": true, \"ticks\": \"\", \"zerolinecolor\": \"white\"}}, \"shapedefaults\": {\"line\": {\"color\": \"#2a3f5f\"}}, \"ternary\": {\"aaxis\": {\"gridcolor\": \"white\", \"linecolor\": \"white\", \"ticks\": \"\"}, \"baxis\": {\"gridcolor\": \"white\", \"linecolor\": \"white\", \"ticks\": \"\"}, \"bgcolor\": \"#E5ECF6\", \"caxis\": {\"gridcolor\": \"white\", \"linecolor\": \"white\", \"ticks\": \"\"}}, \"title\": {\"x\": 0.05}, \"xaxis\": {\"automargin\": true, \"gridcolor\": \"white\", \"linecolor\": \"white\", \"ticks\": \"\", \"title\": {\"standoff\": 15}, \"zerolinecolor\": \"white\", \"zerolinewidth\": 2}, \"yaxis\": {\"automargin\": true, \"gridcolor\": \"white\", \"linecolor\": \"white\", \"ticks\": \"\", \"title\": {\"standoff\": 15}, \"zerolinecolor\": \"white\", \"zerolinewidth\": 2}}}},\n",
              "                        {\"responsive\": true}\n",
              "                    ).then(function(){\n",
              "                            \n",
              "var gd = document.getElementById('51ee7cc8-c5ad-4fa3-ac47-288c83e6785e');\n",
              "var x = new MutationObserver(function (mutations, observer) {{\n",
              "        var display = window.getComputedStyle(gd).display;\n",
              "        if (!display || display === 'none') {{\n",
              "            console.log([gd, 'removed!']);\n",
              "            Plotly.purge(gd);\n",
              "            observer.disconnect();\n",
              "        }}\n",
              "}});\n",
              "\n",
              "// Listen for the removal of the full notebook cells\n",
              "var notebookContainer = gd.closest('#notebook-container');\n",
              "if (notebookContainer) {{\n",
              "    x.observe(notebookContainer, {childList: true});\n",
              "}}\n",
              "\n",
              "// Listen for the clearing of the current output cell\n",
              "var outputEl = gd.closest('.output');\n",
              "if (outputEl) {{\n",
              "    x.observe(outputEl, {childList: true});\n",
              "}}\n",
              "\n",
              "                        })\n",
              "                };\n",
              "                \n",
              "            </script>\n",
              "        </div>\n",
              "</body>\n",
              "</html>"
            ]
          },
          "metadata": {
            "tags": []
          }
        }
      ]
    },
    {
      "cell_type": "markdown",
      "metadata": {
        "id": "G4OkCroZygHd",
        "colab_type": "text"
      },
      "source": [
        "\n",
        "\n",
        "*   After upsampling we can now see a equal distribution of \"active\" and \"resigned\" status of employee. Nevertheless, the highest age group who are active and resigned is still the 30s group.\n",
        "\n",
        "\n",
        "\n",
        "*   However now we the gender is not equally distributed. It's not an issue due to our target variable being status of employee and their age group.\n",
        "\n",
        "\n",
        "\n"
      ]
    },
    {
      "cell_type": "code",
      "metadata": {
        "colab_type": "code",
        "id": "c026xsfGtZ_M",
        "colab": {
          "base_uri": "https://localhost:8080/",
          "height": 1000
        },
        "outputId": "f1dcff42-9bac-46d8-9662-84c4f5c9c1c6"
      },
      "source": [
        "# Data Preprocessing\n",
        "df = df_upsampled\n",
        "X = df[['YOS','Age']]\n",
        "\n",
        "# SL - 1, NSL = 0\n",
        "X['Class'] = df['Class'].apply(lambda x: 1 if x == 'SL' else 0)\n",
        "\n",
        "# M = 1, F = 0\n",
        "X['Gender'] = df['Gender'].apply(lambda x: 1 if x == 'M' else 0)\n",
        "\n",
        "# Category - SeniorManager, Manager, Executive - if all 3 are 0, that is Non-executive\n",
        "X['SeniorManager'] = df['Category'].apply(lambda x: 1 if x == 'Senior Manager' else 0)\n",
        "X['Manager'] = df['Category'].apply(lambda x: 1 if x == 'Manager' else 0)\n",
        "X['Executive'] = df['Category'].apply(lambda x: 1 if x == 'Executive' else 0)\n",
        "\n",
        "# Race - Indian, Bumiputra, Chinese - if all are 0, that is Expatriate\n",
        "X['Indian'] = df['Race'].apply(lambda x: 1 if x == 'India' else 0)\n",
        "X['Bumiputra'] = df['Race'].apply(lambda x: 1 if x == 'Bumiputra' else 0)\n",
        "X['Chinese'] = df['Race'].apply(lambda x: 1 if x == 'Chinese' else 0)\n",
        "\n",
        "# Education - Degree_Diploma, HighSchool, PostGrad - if all are 0, that is ProfessionalCertificate\n",
        "X['Degree_Diploma'] = df['Qualification'].apply(lambda x: 1 if x == 'Degree & Diploma' else 0)\n",
        "X['HighSchool'] = df['Qualification'].apply(lambda x: 1 if x == 'High School' else 0)\n",
        "X['PostGrad'] = df['Qualification'].apply(lambda x: 1 if x == 'Post Graduate' else 0)\n",
        "\n",
        "#Target Variable\n",
        "y = df['RecordType'].apply(lambda x: 1 if x == 'R' else 0)\n",
        "\n",
        "#Split data 70:30 to training and testing\n",
        "#X_train, X_test, y_train, y_test = train_test_split(X, y, train_size=0.7, random_state=101)\n",
        "X_train, X_test, y_train, y_test = train_test_split(X, y, train_size=0.7, random_state=101, stratify=y)"
      ],
      "execution_count": null,
      "outputs": [
        {
          "output_type": "stream",
          "text": [
            "/usr/local/lib/python3.6/dist-packages/ipykernel_launcher.py:6: SettingWithCopyWarning:\n",
            "\n",
            "\n",
            "A value is trying to be set on a copy of a slice from a DataFrame.\n",
            "Try using .loc[row_indexer,col_indexer] = value instead\n",
            "\n",
            "See the caveats in the documentation: https://pandas.pydata.org/pandas-docs/stable/user_guide/indexing.html#returning-a-view-versus-a-copy\n",
            "\n",
            "/usr/local/lib/python3.6/dist-packages/ipykernel_launcher.py:9: SettingWithCopyWarning:\n",
            "\n",
            "\n",
            "A value is trying to be set on a copy of a slice from a DataFrame.\n",
            "Try using .loc[row_indexer,col_indexer] = value instead\n",
            "\n",
            "See the caveats in the documentation: https://pandas.pydata.org/pandas-docs/stable/user_guide/indexing.html#returning-a-view-versus-a-copy\n",
            "\n",
            "/usr/local/lib/python3.6/dist-packages/ipykernel_launcher.py:12: SettingWithCopyWarning:\n",
            "\n",
            "\n",
            "A value is trying to be set on a copy of a slice from a DataFrame.\n",
            "Try using .loc[row_indexer,col_indexer] = value instead\n",
            "\n",
            "See the caveats in the documentation: https://pandas.pydata.org/pandas-docs/stable/user_guide/indexing.html#returning-a-view-versus-a-copy\n",
            "\n",
            "/usr/local/lib/python3.6/dist-packages/ipykernel_launcher.py:13: SettingWithCopyWarning:\n",
            "\n",
            "\n",
            "A value is trying to be set on a copy of a slice from a DataFrame.\n",
            "Try using .loc[row_indexer,col_indexer] = value instead\n",
            "\n",
            "See the caveats in the documentation: https://pandas.pydata.org/pandas-docs/stable/user_guide/indexing.html#returning-a-view-versus-a-copy\n",
            "\n",
            "/usr/local/lib/python3.6/dist-packages/ipykernel_launcher.py:14: SettingWithCopyWarning:\n",
            "\n",
            "\n",
            "A value is trying to be set on a copy of a slice from a DataFrame.\n",
            "Try using .loc[row_indexer,col_indexer] = value instead\n",
            "\n",
            "See the caveats in the documentation: https://pandas.pydata.org/pandas-docs/stable/user_guide/indexing.html#returning-a-view-versus-a-copy\n",
            "\n",
            "/usr/local/lib/python3.6/dist-packages/ipykernel_launcher.py:17: SettingWithCopyWarning:\n",
            "\n",
            "\n",
            "A value is trying to be set on a copy of a slice from a DataFrame.\n",
            "Try using .loc[row_indexer,col_indexer] = value instead\n",
            "\n",
            "See the caveats in the documentation: https://pandas.pydata.org/pandas-docs/stable/user_guide/indexing.html#returning-a-view-versus-a-copy\n",
            "\n",
            "/usr/local/lib/python3.6/dist-packages/ipykernel_launcher.py:18: SettingWithCopyWarning:\n",
            "\n",
            "\n",
            "A value is trying to be set on a copy of a slice from a DataFrame.\n",
            "Try using .loc[row_indexer,col_indexer] = value instead\n",
            "\n",
            "See the caveats in the documentation: https://pandas.pydata.org/pandas-docs/stable/user_guide/indexing.html#returning-a-view-versus-a-copy\n",
            "\n"
          ],
          "name": "stderr"
        }
      ]
    },
    {
      "cell_type": "code",
      "metadata": {
        "colab_type": "code",
        "id": "DfFKUnX2ouPQ",
        "colab": {
          "base_uri": "https://localhost:8080/",
          "height": 1000
        },
        "outputId": "84fe4b29-4e1d-4818-a326-d1281a3f0422"
      },
      "source": [
        "models = []\n",
        "models.append((\"Information-based learning\",\"RandomForest\",RandomForestClassifier()))\n",
        "models.append((\"Error-based learning\",\"SVM\",SVC()))\n",
        "models.append((\"Probability-based learning\",\"NaiveBayes\",GaussianNB()))\n",
        "models.append((\"Similarity-based learning\",\"KNN\",KNeighborsClassifier(n_neighbors=5)))\n",
        "\n",
        "learnings =[]\n",
        "names = []\n",
        "train_results = []\n",
        "test_results = []\n",
        "class_results = []\n",
        "confu_results = []\n",
        "\n",
        "for learning,name,model in models:\n",
        "  kfold = KFold(n_splits=10, random_state=1)\n",
        "  train_result = cross_val_score(model, X_train, y_train, cv=kfold, scoring='accuracy')\n",
        "  model.fit(X_train, y_train)\n",
        "  y_pred = model.predict(X_test)\n",
        "  test_result = accuracy_score(y_test, y_pred)\n",
        "  class_result = classification_report(y_test, y_pred)\n",
        "  confu_result = confusion_matrix(y_test, y_pred)\n",
        "  learnings.append(learning)\n",
        "  names.append(name)\n",
        "  train_results.append(train_result)\n",
        "  test_results.append(test_result)\n",
        "  class_results.append(class_result)\n",
        "  confu_results.append(confu_result)\n",
        "\n",
        "print(\"\")\n",
        "fig = plt.figure(figsize=(10,10))\n",
        "fig.suptitle('Algorithm Comparison After Upsampled')\n",
        "ax = fig.add_subplot(111)\n",
        "plt.boxplot(train_results)\n",
        "ax.set_xticklabels(names)\n",
        "plt.show()\n",
        "print(\"\")\n",
        "\n",
        "for i in range(len(names)):\n",
        "    print(learnings[i],\" - \",names[i])\n",
        "    print(\"Test Score : \",test_results[i])\n",
        "    #print(class_results[i])\n",
        "    print(\"Confusion Matrix\")\n",
        "    plt.figure(figsize=(5.5,4))\n",
        "    sns.heatmap(confu_results[i], annot=True, fmt=\"d\")\n",
        "    plt.ylabel('True label')\n",
        "    plt.xlabel('Predicted label')\n",
        "    plt.show()\n",
        "\n",
        "#After upsampled, the accuracy of models vary a lot.  Random Forest has the highest accuracy of 97% and Naive Bayes has the lowest at 57%\n",
        "#The confusion matrix shows that Random Forest perform best in predicting the employee without intention of resignation\n",
        "#The confusion matrix shows that Random Forest and KNN correctly predicted the employee's intention to resign\n",
        "#Random Forest of information-based learning has shown the best accuracy and prediction performance among 4 algorithms."
      ],
      "execution_count": null,
      "outputs": [
        {
          "output_type": "stream",
          "text": [
            "/usr/local/lib/python3.6/dist-packages/sklearn/model_selection/_split.py:296: FutureWarning:\n",
            "\n",
            "Setting a random_state has no effect since shuffle is False. This will raise an error in 0.24. You should leave random_state to its default (None), or set shuffle=True.\n",
            "\n",
            "/usr/local/lib/python3.6/dist-packages/sklearn/model_selection/_split.py:296: FutureWarning:\n",
            "\n",
            "Setting a random_state has no effect since shuffle is False. This will raise an error in 0.24. You should leave random_state to its default (None), or set shuffle=True.\n",
            "\n",
            "/usr/local/lib/python3.6/dist-packages/sklearn/model_selection/_split.py:296: FutureWarning:\n",
            "\n",
            "Setting a random_state has no effect since shuffle is False. This will raise an error in 0.24. You should leave random_state to its default (None), or set shuffle=True.\n",
            "\n",
            "/usr/local/lib/python3.6/dist-packages/sklearn/model_selection/_split.py:296: FutureWarning:\n",
            "\n",
            "Setting a random_state has no effect since shuffle is False. This will raise an error in 0.24. You should leave random_state to its default (None), or set shuffle=True.\n",
            "\n"
          ],
          "name": "stderr"
        },
        {
          "output_type": "stream",
          "text": [
            "\n"
          ],
          "name": "stdout"
        },
        {
          "output_type": "display_data",
          "data": {
            "image/png": "[encoded data removed]",
            "text/plain": [
              "<Figure size 720x720 with 1 Axes>"
            ]
          },
          "metadata": {
            "tags": [],
            "needs_background": "light"
          }
        },
        {
          "output_type": "stream",
          "text": [
            "\n",
            "Information-based learning  -  RandomForest\n",
            "Test Score :  0.9727201870615745\n",
            "Confusion Matrix\n"
          ],
          "name": "stdout"
        },
        {
          "output_type": "display_data",
          "data": {
            "image/png": "[encoded data removed]",
            "text/plain": [
              "<Figure size 396x288 with 2 Axes>"
            ]
          },
          "metadata": {
            "tags": [],
            "needs_background": "light"
          }
        },
        {
          "output_type": "stream",
          "text": [
            "Error-based learning  -  SVM\n",
            "Test Score :  0.6305533904910366\n",
            "Confusion Matrix\n"
          ],
          "name": "stdout"
        },
        {
          "output_type": "display_data",
          "data": {
            "image/png": "[encoded data removed]",
            "text/plain": [
              "<Figure size 396x288 with 2 Axes>"
            ]
          },
          "metadata": {
            "tags": [],
            "needs_background": "light"
          }
        },
        {
          "output_type": "stream",
          "text": [
            "Probability-based learning  -  NaiveBayes\n",
            "Test Score :  0.5744349181605611\n",
            "Confusion Matrix\n"
          ],
          "name": "stdout"
        },
        {
          "output_type": "display_data",
          "data": {
            "image/png": "[encoded data removed]",
            "text/plain": [
              "<Figure size 396x288 with 2 Axes>"
            ]
          },
          "metadata": {
            "tags": [],
            "needs_background": "light"
          }
        },
        {
          "output_type": "stream",
          "text": [
            "Similarity-based learning  -  KNN\n",
            "Test Score :  0.877630553390491\n",
            "Confusion Matrix\n"
          ],
          "name": "stdout"
        },
        {
          "output_type": "display_data",
          "data": {
            "image/png": "[encoded data removed]",
            "text/plain": [
              "<Figure size 396x288 with 2 Axes>"
            ]
          },
          "metadata": {
            "tags": [],
            "needs_background": "light"
          }
        }
      ]
    },
    {
      "cell_type": "markdown",
      "metadata": {
        "id": "Grl_IEmnydec",
        "colab_type": "text"
      },
      "source": [
        "1. After upsampled, the accuracy of models vary a lot.  Random Forest has the highest accuracy of 97% and Naive Bayes has the lowest at 57%\n",
        "2. The confusion matrix shows that Random Forest perform best in predicting the employee without intention of resignation\n",
        "3. The confusion matrix shows that Random Forest and KNN correctly predicted the employee's intention to resign\n",
        "4. Random Forest of information-based learning has shown the best accuracy and prediction performance among 4 algorithms."
      ]
    },
    {
      "cell_type": "markdown",
      "metadata": {
        "colab_type": "text",
        "id": "Q49_mEZ6-IVl"
      },
      "source": [
        "\n",
        "> *   Different testing model using cross validation score, MSE score and Accuracy score.\n",
        "\n",
        "\n",
        "\n",
        "\n",
        "\n",
        "\n",
        "\n"
      ]
    },
    {
      "cell_type": "code",
      "metadata": {
        "colab_type": "code",
        "id": "q0rR1tQY8ZT_",
        "colab": {
          "base_uri": "https://localhost:8080/",
          "height": 301
        },
        "outputId": "2770aa1b-cb0d-4f8d-9a66-65ccce174652"
      },
      "source": [
        "#Information-based learning - Random Forest\n",
        "from sklearn.ensemble import RandomForestClassifier\n",
        "RF = RandomForestClassifier()\n",
        "RF.fit(X_train, y_train)\n",
        "print('Cross Validation: %.4f' % np.mean(cross_val_score(RF, X_train, y_train, cv=4)))\n",
        "\n",
        "RFCy_pred = RF.predict(X_test)\n",
        "\n",
        "from sklearn.metrics import mean_squared_error\n",
        "result_mse = mean_squared_error(y_test,RFCy_pred)\n",
        "print('Test MSE: %.4f' % result_mse)\n",
        "\n",
        "\n",
        "print('Accuracy: %.4f' % accuracy_score(y_test, RFCy_pred))\n",
        "print(classification_report(y_test, RFCy_pred))\n",
        "print(confusion_matrix(y_test, RFCy_pred))\n",
        "\n",
        "rfc = RandomForestClassifier()\n",
        "rfc.fit(X_train, y_train)\n",
        "\n",
        "rfc_score_train = rfc.score(X_train, y_train)\n",
        "print(\"Training_score: \",rfc_score_train)\n",
        "rfc_score_test = rfc.score(X_test, y_test)\n",
        "print(\"Testing_score: \",rfc_score_test)"
      ],
      "execution_count": null,
      "outputs": [
        {
          "output_type": "stream",
          "text": [
            "Cross Validation: 0.9626\n",
            "Test MSE: 0.0288\n",
            "Accuracy: 0.9712\n",
            "              precision    recall  f1-score   support\n",
            "\n",
            "           0       1.00      0.94      0.97       641\n",
            "           1       0.95      1.00      0.97       642\n",
            "\n",
            "    accuracy                           0.97      1283\n",
            "   macro avg       0.97      0.97      0.97      1283\n",
            "weighted avg       0.97      0.97      0.97      1283\n",
            "\n",
            "[[604  37]\n",
            " [  0 642]]\n",
            "Training_score:  1.0\n",
            "Testing_score:  0.9727201870615745\n"
          ],
          "name": "stdout"
        }
      ]
    },
    {
      "cell_type": "code",
      "metadata": {
        "id": "rrbKgWFm3Q1t",
        "colab_type": "code",
        "colab": {
          "base_uri": "https://localhost:8080/",
          "height": 657
        },
        "outputId": "b9bf693f-0bee-437b-a7f8-1d7e53285882"
      },
      "source": [
        "#Error-based learning - SVM\n",
        "from sklearn.svm import LinearSVC\n",
        "\n",
        "SVM = LinearSVC()\n",
        "SVM.fit(X_train, y_train)\n",
        "print('Cross Validation: %.4f' % np.mean(cross_val_score(SVM, X_train, y_train, cv=4)))\n",
        "\n",
        "SVMy_pred = SVM.predict(X_test)\n",
        "\n",
        "from sklearn.metrics import mean_squared_error\n",
        "result_mse = mean_squared_error(y_test,SVMy_pred)\n",
        "print('Test MSE: %.4f' % result_mse)\n",
        "\n",
        "print('Accuracy: %.4f' % accuracy_score(y_test, SVMy_pred))\n",
        "print(classification_report(y_test, SVMy_pred))\n",
        "print(confusion_matrix(y_test, SVMy_pred))\n",
        "\n",
        "#SVM\n",
        "from sklearn.svm import SVC\n",
        "svm = SVC()\n",
        "svm.fit(X_train, y_train)\n",
        "\n",
        "svm_score_train = svm.score(X_train, y_train)\n",
        "print(\"Training score: \",svm_score_train)\n",
        "svm_score_test = svm.score(X_test, y_test)\n",
        "print(\"Testing score: \",svm_score_test)"
      ],
      "execution_count": null,
      "outputs": [
        {
          "output_type": "stream",
          "text": [
            "/usr/local/lib/python3.6/dist-packages/sklearn/svm/_base.py:947: ConvergenceWarning:\n",
            "\n",
            "Liblinear failed to converge, increase the number of iterations.\n",
            "\n",
            "/usr/local/lib/python3.6/dist-packages/sklearn/svm/_base.py:947: ConvergenceWarning:\n",
            "\n",
            "Liblinear failed to converge, increase the number of iterations.\n",
            "\n",
            "/usr/local/lib/python3.6/dist-packages/sklearn/svm/_base.py:947: ConvergenceWarning:\n",
            "\n",
            "Liblinear failed to converge, increase the number of iterations.\n",
            "\n",
            "/usr/local/lib/python3.6/dist-packages/sklearn/svm/_base.py:947: ConvergenceWarning:\n",
            "\n",
            "Liblinear failed to converge, increase the number of iterations.\n",
            "\n",
            "/usr/local/lib/python3.6/dist-packages/sklearn/svm/_base.py:947: ConvergenceWarning:\n",
            "\n",
            "Liblinear failed to converge, increase the number of iterations.\n",
            "\n"
          ],
          "name": "stderr"
        },
        {
          "output_type": "stream",
          "text": [
            "Cross Validation: 0.5102\n",
            "Test MSE: 0.4614\n",
            "Accuracy: 0.5386\n",
            "              precision    recall  f1-score   support\n",
            "\n",
            "           0       0.71      0.13      0.22       641\n",
            "           1       0.52      0.95      0.67       642\n",
            "\n",
            "    accuracy                           0.54      1283\n",
            "   macro avg       0.61      0.54      0.45      1283\n",
            "weighted avg       0.61      0.54      0.45      1283\n",
            "\n",
            "[[ 84 557]\n",
            " [ 35 607]]\n",
            "Training score:  0.6188565697091274\n",
            "Testing score:  0.6305533904910366\n"
          ],
          "name": "stdout"
        }
      ]
    },
    {
      "cell_type": "code",
      "metadata": {
        "id": "JmY38PNn9I3-",
        "colab_type": "code",
        "colab": {
          "base_uri": "https://localhost:8080/",
          "height": 301
        },
        "outputId": "1f502361-e8bf-4352-bf82-6da34e67484f"
      },
      "source": [
        "#Probability-based learning - Naive Bayes\n",
        "from sklearn.naive_bayes import GaussianNB\n",
        "\n",
        "NB = GaussianNB()\n",
        "NB.fit(X_train, y_train)\n",
        "print('Cross Validation: %.4f' % np.mean(cross_val_score(NB, X_train, y_train, cv=4)))\n",
        "\n",
        "NBy_pred =NB.predict(X_test)\n",
        "\n",
        "from sklearn.metrics import mean_squared_error\n",
        "result_mse = mean_squared_error(y_test,NBy_pred)\n",
        "print('Test MSE: %.4f' % result_mse)\n",
        "\n",
        "print('Accuracy: %.4f' % accuracy_score(y_test, NBy_pred))\n",
        "print(classification_report(y_test, NBy_pred))\n",
        "print(confusion_matrix(y_test, NBy_pred))\n",
        "\n",
        "NB_score_train = NB.score(X_train, y_train)\n",
        "print(\"Training_score: \",NB_score_train)\n",
        "NB_score_test = NB.score(X_test, y_test)\n",
        "print(\"Testing_score: \",NB_score_test)"
      ],
      "execution_count": null,
      "outputs": [
        {
          "output_type": "stream",
          "text": [
            "Cross Validation: 0.5660\n",
            "Test MSE: 0.4256\n",
            "Accuracy: 0.5744\n",
            "              precision    recall  f1-score   support\n",
            "\n",
            "           0       0.56      0.64      0.60       641\n",
            "           1       0.59      0.50      0.54       642\n",
            "\n",
            "    accuracy                           0.57      1283\n",
            "   macro avg       0.58      0.57      0.57      1283\n",
            "weighted avg       0.58      0.57      0.57      1283\n",
            "\n",
            "[[413 228]\n",
            " [318 324]]\n",
            "Training_score:  0.5707121364092277\n",
            "Testing_score:  0.5744349181605611\n"
          ],
          "name": "stdout"
        }
      ]
    },
    {
      "cell_type": "code",
      "metadata": {
        "id": "qr0mDtsY9IqW",
        "colab_type": "code",
        "colab": {
          "base_uri": "https://localhost:8080/",
          "height": 301
        },
        "outputId": "0824a9fc-e4bd-4414-cb03-fed59531e532"
      },
      "source": [
        "#Similarity-based learning - KNN\n",
        "KNN = KNeighborsClassifier()\n",
        "KNN.fit(X_train, y_train)\n",
        "print('Cross Validation: %.4f' % np.mean(cross_val_score(RF, X_train, y_train, cv=4)))\n",
        "\n",
        "KNNy_pred = KNN.predict(X_test)\n",
        "\n",
        "from sklearn.metrics import mean_squared_error\n",
        "result_mse = mean_squared_error(y_test,KNNy_pred)\n",
        "print('Test MSE: %.4f' % result_mse)\n",
        "\n",
        "\n",
        "print('Accuracy: %.4f' % accuracy_score(y_test, KNNy_pred))\n",
        "print(classification_report(y_test, KNNy_pred))\n",
        "print(confusion_matrix(y_test, KNNy_pred))\n",
        "\n",
        "\n",
        "KNN_score_train = KNN.score(X_train, y_train)\n",
        "print(\"Training_score: \",KNN_score_train)\n",
        "KNN_score_test = KNN.score(X_test, y_test)\n",
        "print(\"Testing_score: \",KNN_score_test)"
      ],
      "execution_count": null,
      "outputs": [
        {
          "output_type": "stream",
          "text": [
            "Cross Validation: 0.9622\n",
            "Test MSE: 0.1224\n",
            "Accuracy: 0.8776\n",
            "              precision    recall  f1-score   support\n",
            "\n",
            "           0       1.00      0.76      0.86       641\n",
            "           1       0.80      1.00      0.89       642\n",
            "\n",
            "    accuracy                           0.88      1283\n",
            "   macro avg       0.90      0.88      0.88      1283\n",
            "weighted avg       0.90      0.88      0.88      1283\n",
            "\n",
            "[[484 157]\n",
            " [  0 642]]\n",
            "Training_score:  0.9154129053828152\n",
            "Testing_score:  0.877630553390491\n"
          ],
          "name": "stdout"
        }
      ]
    },
    {
      "cell_type": "code",
      "metadata": {
        "id": "uhTYyKLI9S0O",
        "colab_type": "code",
        "colab": {
          "base_uri": "https://localhost:8080/",
          "height": 164
        },
        "outputId": "d3f012ab-73d4-47bb-ee29-3d094c31c88e"
      },
      "source": [
        "models_upsampled = pd.DataFrame({\n",
        "        'Model'          : ['Random Forest', 'SVM', 'Naive Bayes', 'KNN'],\n",
        "        'Cross_Val_Score': [0.9626, 0.5102, 0.5660, 0.9622],\n",
        "        'TEST_mse'       : [0.0288, 0.4614, 0.4256, 0.1224],\n",
        "        'Accuracy_mse'   : [0.9712, 0.5386, 0.5744, 0.8776],\n",
        "        'Training_Score' : [rfc_score_train, svm_score_train, NB_score_train, KNN_score_train],\n",
        "        'Testing_Score'  : [rfc_score_test, svm_score_test, NB_score_test, KNN_score_test]\n",
        "        })\n",
        "\n",
        "models_upsampled.sort_values(by='Testing_Score', ascending=False)"
      ],
      "execution_count": null,
      "outputs": [
        {
          "output_type": "execute_result",
          "data": {
            "text/html": [
              "<div>\n",
              "<style scoped>\n",
              "    .dataframe tbody tr th:only-of-type {\n",
              "        vertical-align: middle;\n",
              "    }\n",
              "\n",
              "    .dataframe tbody tr th {\n",
              "        vertical-align: top;\n",
              "    }\n",
              "\n",
              "    .dataframe thead th {\n",
              "        text-align: right;\n",
              "    }\n",
              "</style>\n",
              "<table border=\"1\" class=\"dataframe\">\n",
              "  <thead>\n",
              "    <tr style=\"text-align: right;\">\n",
              "      <th></th>\n",
              "      <th>Model</th>\n",
              "      <th>Cross_Val_Score</th>\n",
              "      <th>TEST_mse</th>\n",
              "      <th>Accuracy_mse</th>\n",
              "      <th>Training_Score</th>\n",
              "      <th>Testing_Score</th>\n",
              "    </tr>\n",
              "  </thead>\n",
              "  <tbody>\n",
              "    <tr>\n",
              "      <th>0</th>\n",
              "      <td>Random Forest</td>\n",
              "      <td>0.9626</td>\n",
              "      <td>0.0288</td>\n",
              "      <td>0.9712</td>\n",
              "      <td>1.000000</td>\n",
              "      <td>0.972720</td>\n",
              "    </tr>\n",
              "    <tr>\n",
              "      <th>3</th>\n",
              "      <td>KNN</td>\n",
              "      <td>0.9622</td>\n",
              "      <td>0.1224</td>\n",
              "      <td>0.8776</td>\n",
              "      <td>0.915413</td>\n",
              "      <td>0.877631</td>\n",
              "    </tr>\n",
              "    <tr>\n",
              "      <th>1</th>\n",
              "      <td>SVM</td>\n",
              "      <td>0.5102</td>\n",
              "      <td>0.4614</td>\n",
              "      <td>0.5386</td>\n",
              "      <td>0.618857</td>\n",
              "      <td>0.630553</td>\n",
              "    </tr>\n",
              "    <tr>\n",
              "      <th>2</th>\n",
              "      <td>Naive Bayes</td>\n",
              "      <td>0.5660</td>\n",
              "      <td>0.4256</td>\n",
              "      <td>0.5744</td>\n",
              "      <td>0.570712</td>\n",
              "      <td>0.574435</td>\n",
              "    </tr>\n",
              "  </tbody>\n",
              "</table>\n",
              "</div>"
            ],
            "text/plain": [
              "           Model  Cross_Val_Score  ...  Training_Score  Testing_Score\n",
              "0  Random Forest           0.9626  ...        1.000000       0.972720\n",
              "3            KNN           0.9622  ...        0.915413       0.877631\n",
              "1            SVM           0.5102  ...        0.618857       0.630553\n",
              "2    Naive Bayes           0.5660  ...        0.570712       0.574435\n",
              "\n",
              "[4 rows x 6 columns]"
            ]
          },
          "metadata": {
            "tags": []
          },
          "execution_count": 144
        }
      ]
    },
    {
      "cell_type": "markdown",
      "metadata": {
        "id": "s5RxTzos9-Jf",
        "colab_type": "text"
      },
      "source": [
        "\n",
        "\n",
        "*   Comparitively to the previous method, this does not show much of a change on the scores compared to the original data.\n"
      ]
    },
    {
      "cell_type": "markdown",
      "metadata": {
        "id": "PtVZlAFuyYNT",
        "colab_type": "text"
      },
      "source": [
        "### PREDICTION"
      ]
    },
    {
      "cell_type": "code",
      "metadata": {
        "id": "7UtDOaoCxfc1",
        "colab_type": "code",
        "colab": {}
      },
      "source": [
        "# define X and y\n",
        "from sklearn import preprocessing\n",
        "le = preprocessing.LabelEncoder()\n",
        "df['AgeGroup']=le.fit_transform(df['AgeGroup'])\n",
        "df['RecordType']=le.fit_transform(df['RecordType'])"
      ],
      "execution_count": null,
      "outputs": []
    },
    {
      "cell_type": "code",
      "metadata": {
        "id": "LW7J53r1F_sw",
        "colab_type": "code",
        "colab": {
          "base_uri": "https://localhost:8080/",
          "height": 52
        },
        "outputId": "b95a8343-b95a-43cc-9ddb-83bcb6d5bc21"
      },
      "source": [
        "# IMPORTANT: first argument is true values, second argument is predicted values\n",
        "# this produces a 2x2 numpy array (matrix)\n",
        "from sklearn import metrics\n",
        "print(metrics.confusion_matrix(y_test, RFCy_pred))"
      ],
      "execution_count": null,
      "outputs": [
        {
          "output_type": "stream",
          "text": [
            "[[604  37]\n",
            " [  0 642]]\n"
          ],
          "name": "stdout"
        }
      ]
    },
    {
      "cell_type": "code",
      "metadata": {
        "id": "Uwn_yJuDL_Vx",
        "colab_type": "code",
        "colab": {
          "base_uri": "https://localhost:8080/",
          "height": 70
        },
        "outputId": "553459f2-05b9-4fed-ba07-479a118c53f9"
      },
      "source": [
        "# examine the class distribution of the testing set (using a Pandas Series method)\n",
        "y_test.value_counts()"
      ],
      "execution_count": null,
      "outputs": [
        {
          "output_type": "execute_result",
          "data": {
            "text/plain": [
              "1    642\n",
              "0    641\n",
              "Name: RecordType, dtype: int64"
            ]
          },
          "metadata": {
            "tags": []
          },
          "execution_count": 256
        }
      ]
    },
    {
      "cell_type": "code",
      "metadata": {
        "id": "fqPwL2IVJu4U",
        "colab_type": "code",
        "colab": {
          "base_uri": "https://localhost:8080/",
          "height": 52
        },
        "outputId": "41f494e2-cd67-4afb-af2f-074357362c70"
      },
      "source": [
        "# save confusion matrix and slice into four pieces\n",
        "confusion = metrics.confusion_matrix(y_test, RFCy_pred)\n",
        "print('Confusion Matrix' , confusion)\n",
        "#[row, column]\n",
        "TP = confusion[1, 1]\n",
        "TN = confusion[0, 0]\n",
        "FP = confusion[0, 1]\n",
        "FN = confusion[1, 0]"
      ],
      "execution_count": null,
      "outputs": [
        {
          "output_type": "stream",
          "text": [
            "Confusion Matrix [[604  37]\n",
            " [  0 642]]\n"
          ],
          "name": "stdout"
        }
      ]
    },
    {
      "cell_type": "code",
      "metadata": {
        "id": "4-oZq3X0J2p-",
        "colab_type": "code",
        "colab": {
          "base_uri": "https://localhost:8080/",
          "height": 106
        },
        "outputId": "a67da663-be51-472a-a2cc-b9e01b807240"
      },
      "source": [
        "print('Accuracy Score' , metrics.accuracy_score(y_test, RFCy_pred))\n",
        "\n",
        "classification_error = (FP + FN) / float(TP + TN + FP + FN)\n",
        "\n",
        "print('Classification Error' , 1 - metrics.accuracy_score(y_test, RFCy_pred))\n",
        "\n",
        "sensitivity = TP / float(FN + TP)\n",
        "\n",
        "print('Sensitivity', metrics.recall_score(y_test, RFCy_pred))\n",
        "\n",
        "specificity = TN / (TN + FP)\n",
        "\n",
        "print('Specificity' , specificity)\n",
        "\n",
        "precision = TP / float(TP + FP)\n",
        "\n",
        "print('Precision' , metrics.precision_score(y_test, RFCy_pred))"
      ],
      "execution_count": null,
      "outputs": [
        {
          "output_type": "stream",
          "text": [
            "Accuracy Score 0.9711613406079501\n",
            "Classification Error 0.02883865939204988\n",
            "Sensitivity 1.0\n",
            "Specificity 0.9422776911076443\n",
            "Precision 0.9455081001472754\n"
          ],
          "name": "stdout"
        }
      ]
    },
    {
      "cell_type": "code",
      "metadata": {
        "id": "tNL8y8n7J2Y3",
        "colab_type": "code",
        "colab": {
          "base_uri": "https://localhost:8080/",
          "height": 159
        },
        "outputId": "38b6a4a7-d3bb-4b02-c32b-e0640e1eecee"
      },
      "source": [
        "# 1D array (vector) of binary values (0, 1)\n",
        "RF.predict(X_test)[0:40]\n",
        "RF.predict"
      ],
      "execution_count": null,
      "outputs": [
        {
          "output_type": "execute_result",
          "data": {
            "text/plain": [
              "<bound method ForestClassifier.predict of RandomForestClassifier(bootstrap=True, ccp_alpha=0.0, class_weight=None,\n",
              "                       criterion='gini', max_depth=None, max_features='auto',\n",
              "                       max_leaf_nodes=None, max_samples=None,\n",
              "                       min_impurity_decrease=0.0, min_impurity_split=None,\n",
              "                       min_samples_leaf=1, min_samples_split=2,\n",
              "                       min_weight_fraction_leaf=0.0, n_estimators=100,\n",
              "                       n_jobs=None, oob_score=False, random_state=None,\n",
              "                       verbose=0, warm_start=False)>"
            ]
          },
          "metadata": {
            "tags": []
          },
          "execution_count": 245
        }
      ]
    },
    {
      "cell_type": "code",
      "metadata": {
        "id": "2W8RE0tKKvCL",
        "colab_type": "code",
        "colab": {
          "base_uri": "https://localhost:8080/",
          "height": 728
        },
        "outputId": "f21dfb0a-b17f-44c2-d3cc-8c68e21516b7"
      },
      "source": [
        "# print first 40 of the predicted probabilities of both RecordType\n",
        "RF.predict_proba(X_test)[0:40]"
      ],
      "execution_count": null,
      "outputs": [
        {
          "output_type": "execute_result",
          "data": {
            "text/plain": [
              "array([[0.85, 0.15],\n",
              "       [0.01, 0.99],\n",
              "       [0.  , 1.  ],\n",
              "       [0.92, 0.08],\n",
              "       [0.93, 0.07],\n",
              "       [1.  , 0.  ],\n",
              "       [0.69, 0.31],\n",
              "       [0.  , 1.  ],\n",
              "       [0.  , 1.  ],\n",
              "       [1.  , 0.  ],\n",
              "       [1.  , 0.  ],\n",
              "       [0.  , 1.  ],\n",
              "       [0.  , 1.  ],\n",
              "       [1.  , 0.  ],\n",
              "       [0.  , 1.  ],\n",
              "       [0.  , 1.  ],\n",
              "       [0.  , 1.  ],\n",
              "       [0.01, 0.99],\n",
              "       [0.  , 1.  ],\n",
              "       [0.  , 1.  ],\n",
              "       [0.  , 1.  ],\n",
              "       [0.97, 0.03],\n",
              "       [0.82, 0.18],\n",
              "       [0.  , 1.  ],\n",
              "       [0.81, 0.19],\n",
              "       [0.7 , 0.3 ],\n",
              "       [0.95, 0.05],\n",
              "       [0.14, 0.86],\n",
              "       [0.  , 1.  ],\n",
              "       [0.  , 1.  ],\n",
              "       [0.01, 0.99],\n",
              "       [0.  , 1.  ],\n",
              "       [0.  , 1.  ],\n",
              "       [0.  , 1.  ],\n",
              "       [0.  , 1.  ],\n",
              "       [0.9 , 0.1 ],\n",
              "       [0.89, 0.11],\n",
              "       [1.  , 0.  ],\n",
              "       [0.  , 1.  ],\n",
              "       [0.  , 1.  ]])"
            ]
          },
          "metadata": {
            "tags": []
          },
          "execution_count": 246
        }
      ]
    },
    {
      "cell_type": "code",
      "metadata": {
        "id": "Akh8lfdhKvAc",
        "colab_type": "code",
        "colab": {
          "base_uri": "https://localhost:8080/",
          "height": 88
        },
        "outputId": "77e6e854-a906-4b58-b445-06a681b90048"
      },
      "source": [
        "# print the first 10 predicted probabilities for 1 RecordType\n",
        "RF.predict_proba(X_test)[0:40, 1]"
      ],
      "execution_count": null,
      "outputs": [
        {
          "output_type": "execute_result",
          "data": {
            "text/plain": [
              "array([0.15, 0.99, 1.  , 0.08, 0.07, 0.  , 0.31, 1.  , 1.  , 0.  , 0.  ,\n",
              "       1.  , 1.  , 0.  , 1.  , 1.  , 1.  , 0.99, 1.  , 1.  , 1.  , 0.03,\n",
              "       0.18, 1.  , 0.19, 0.3 , 0.05, 0.86, 1.  , 1.  , 0.99, 1.  , 1.  ,\n",
              "       1.  , 1.  , 0.1 , 0.11, 0.  , 1.  , 1.  ])"
            ]
          },
          "metadata": {
            "tags": []
          },
          "execution_count": 248
        }
      ]
    },
    {
      "cell_type": "code",
      "metadata": {
        "id": "iKXBF5R_Ku9J",
        "colab_type": "code",
        "colab": {}
      },
      "source": [
        "# store the predicted probabilities for class 1\n",
        "y_pred_prob = RF.predict_proba(X_test)[:, 1]"
      ],
      "execution_count": null,
      "outputs": []
    },
    {
      "cell_type": "code",
      "metadata": {
        "id": "HAQbpNq2Ku7Q",
        "colab_type": "code",
        "colab": {
          "base_uri": "https://localhost:8080/",
          "height": 320
        },
        "outputId": "4a4d60b2-1bb8-4422-bd2f-10955eeff529"
      },
      "source": [
        "# allow plots to appear in the notebook\n",
        "%matplotlib inline\n",
        "import matplotlib.pyplot as plt\n",
        "\n",
        "# adjust the font size \n",
        "plt.rcParams['font.size'] = 12\n",
        "# histogram of predicted probabilities\n",
        "\n",
        "# 8 bins\n",
        "plt.hist(y_pred_prob, bins=8)\n",
        "\n",
        "# x-axis limit from 0 to 1\n",
        "plt.xlim(0,1)\n",
        "plt.title('Histogram of predicted probabilities')\n",
        "plt.xlabel('Predicted probability of Turnover')\n",
        "plt.ylabel('Employees')"
      ],
      "execution_count": null,
      "outputs": [
        {
          "output_type": "execute_result",
          "data": {
            "text/plain": [
              "Text(0, 0.5, 'Employees')"
            ]
          },
          "metadata": {
            "tags": []
          },
          "execution_count": 251
        },
        {
          "output_type": "display_data",
          "data": {
            "image/png": "[encoded data removed]",
            "text/plain": [
              "<Figure size 432x288 with 1 Axes>"
            ]
          },
          "metadata": {
            "tags": [],
            "needs_background": "light"
          }
        }
      ]
    },
    {
      "cell_type": "code",
      "metadata": {
        "id": "de1Bf7hTKu5p",
        "colab_type": "code",
        "colab": {
          "base_uri": "https://localhost:8080/",
          "height": 35
        },
        "outputId": "9080eb17-6308-4979-9899-815eed27406a"
      },
      "source": [
        "# IMPORTANT: first argument is true values, second argument is predicted probabilities\n",
        "print('ROC_AUC_score' , metrics.roc_auc_score(y_test, y_pred_prob))"
      ],
      "execution_count": null,
      "outputs": [
        {
          "output_type": "stream",
          "text": [
            "ROC_AUC_score 1.0\n"
          ],
          "name": "stdout"
        }
      ]
    },
    {
      "cell_type": "code",
      "metadata": {
        "id": "Rx58hHIjKu1p",
        "colab_type": "code",
        "colab": {
          "base_uri": "https://localhost:8080/",
          "height": 35
        },
        "outputId": "3a4a62a1-091c-4ce3-9f9c-2bcebb725af8"
      },
      "source": [
        "# calculate cross-validated AUC\n",
        "from sklearn.model_selection import cross_val_score\n",
        "cross_val_score(RF, X, y, cv=10, scoring='roc_auc').mean()"
      ],
      "execution_count": null,
      "outputs": [
        {
          "output_type": "execute_result",
          "data": {
            "text/plain": [
              "0.9999923215304287"
            ]
          },
          "metadata": {
            "tags": []
          },
          "execution_count": 255
        }
      ]
    },
    {
      "cell_type": "code",
      "metadata": {
        "id": "f1rBpvFXKuzG",
        "colab_type": "code",
        "colab": {
          "base_uri": "https://localhost:8080/",
          "height": 124
        },
        "outputId": "b53644e2-7ede-4bdc-9ef0-fa048567db80"
      },
      "source": [
        "# print the first 100 true and predicted responses\n",
        "print('True:', y_test.values[0:100])\n",
        "\n",
        "print('False:', RFCy_pred[0:100])"
      ],
      "execution_count": null,
      "outputs": [
        {
          "output_type": "stream",
          "text": [
            "True: [0 1 1 0 0 0 0 1 1 0 0 1 1 0 1 1 1 1 1 1 1 0 0 1 0 0 0 0 1 1 1 1 1 1 1 0 0\n",
            " 0 1 1 0 0 0 0 1 0 0 1 0 0 0 0 0 0 1 0 0 0 0 1 1 0 0 1 1 0 1 0 1 0 1 0 0 0\n",
            " 1 0 1 1 1 1 0 1 0 1 0 0 1 0 1 1 0 0 1 0 0 0 0 1 1 1]\n",
            "False: [0 1 1 0 0 0 0 1 1 0 0 1 1 0 1 1 1 1 1 1 1 0 0 1 0 0 0 1 1 1 1 1 1 1 1 0 0\n",
            " 0 1 1 0 0 0 0 1 0 0 1 0 0 0 0 0 1 1 0 0 0 0 1 1 0 0 1 1 0 1 0 1 0 1 0 0 0\n",
            " 1 0 1 1 1 1 0 1 0 1 0 0 1 1 1 1 0 0 1 0 0 0 0 1 1 1]\n"
          ],
          "name": "stdout"
        }
      ]
    },
    {
      "cell_type": "code",
      "metadata": {
        "id": "DUf_2VZ0Kuvc",
        "colab_type": "code",
        "colab": {
          "base_uri": "https://localhost:8080/",
          "height": 230
        },
        "outputId": "fc2b7c82-4ca3-4b7d-e15d-45b43f24b9d0"
      },
      "source": [
        "y_true = [0, 1, 1, 0, 0, 0, 0, 1, 1, 0, 0, 1, 1, 0, 1, 1, 1, 1, 1, 1, 1, 0, 0, 1, 0, 0, 0, 0, 1, 1, 1, 1, 1, 1, 1, 0, 0,\n",
        " 0, 1, 1, 0, 0, 0, 0, 1, 0, 0, 1, 0, 0, 0, 0, 0, 0, 1, 0, 0, 0, 0, 1, 1, 0, 0, 1, 1, 0, 1, 0, 1, 0, 1, 0, 0, 0,\n",
        " 1, 0, 1, 1, 1, 1, 0, 1, 0, 1, 0, 0, 1, 0, 1, 1, 0, 0, 1, 0, 0, 0, 0, 1, 1, 1]\n",
        "\n",
        "y_pred = [0, 1, 1, 0, 0, 0, 0, 1, 1, 0, 0, 1, 1, 0, 1, 1, 1, 1, 1, 1, 1, 0, 0, 1, 0, 0, 0, 1, 1, 1, 1, 1, 1, 1, 1, 0, 0,\n",
        " 0, 1, 1, 0, 0, 0, 0, 1, 0, 0, 1, 0, 0, 0, 0, 0, 1, 1, 0, 0, 0, 0, 1, 1, 0, 0, 1, 1, 0, 1, 0, 1, 0, 1, 0, 0, 0,\n",
        " 1, 0, 1, 1, 1, 1, 0, 1, 0, 1, 0, 0, 1, 1, 1, 1, 0, 0, 1, 0, 0, 0, 0, 1, 1, 1]\n",
        "\n",
        "tn, fp, fn, tp = confusion_matrix(y_true, y_pred).ravel()\n",
        "\n",
        "target_names = ['0-Active', '1-Resigned'] \n",
        "\n",
        "results = confusion\n",
        "\n",
        "print ('Confusion Matrix :',results) \n",
        "print ('Accuracy Score :', accuracy_score(y_true, y_pred)) \n",
        "print ('Report :', classification_report(y_true, y_pred)) "
      ],
      "execution_count": null,
      "outputs": [
        {
          "output_type": "stream",
          "text": [
            "Confusion Matrix : [[604  37]\n",
            " [  0 642]]\n",
            "Accuracy Score : 0.97\n",
            "Report :               precision    recall  f1-score   support\n",
            "\n",
            "           0       1.00      0.94      0.97        53\n",
            "           1       0.94      1.00      0.97        47\n",
            "\n",
            "    accuracy                           0.97       100\n",
            "   macro avg       0.97      0.97      0.97       100\n",
            "weighted avg       0.97      0.97      0.97       100\n",
            "\n"
          ],
          "name": "stdout"
        }
      ]
    },
    {
      "cell_type": "markdown",
      "metadata": {
        "id": "hRyUIAqTP8s8",
        "colab_type": "text"
      },
      "source": [
        "\n",
        "\n",
        "*  We have got a classification rate of 97%, considered as good accuracy.\n",
        "*  Precision is about being precise like how precise our Random Forest model is. In other words we can say, when a model makes a prediction, how often it is correct. In our prediction case, when our Random Forest model predicted an employee is going to resign, that employee actually left 94% of the time.\n",
        "\n",
        " \n",
        "\n",
        "*  Recall is if there is an employee who resign present in the test set and our Random Forest model can identify it 100% of the time. \n",
        "\n"
      ]
    },
    {
      "cell_type": "code",
      "metadata": {
        "id": "7w1gDdgHIrva",
        "colab_type": "code",
        "colab": {
          "base_uri": "https://localhost:8080/",
          "height": 1000
        },
        "outputId": "9c13c498-e069-4083-fc4f-deb0b80941ff"
      },
      "source": [
        "#Based on the 100 data above since 642 is too much\n",
        "resultdf = pd.DataFrame()\n",
        "resultdf['actual'] = y_true\n",
        "resultdf['predict'] = y_pred\n",
        "pd.set_option('display.max_rows', None)\n",
        "resultdf"
      ],
      "execution_count": null,
      "outputs": [
        {
          "output_type": "execute_result",
          "data": {
            "text/html": [
              "<div>\n",
              "<style scoped>\n",
              "    .dataframe tbody tr th:only-of-type {\n",
              "        vertical-align: middle;\n",
              "    }\n",
              "\n",
              "    .dataframe tbody tr th {\n",
              "        vertical-align: top;\n",
              "    }\n",
              "\n",
              "    .dataframe thead th {\n",
              "        text-align: right;\n",
              "    }\n",
              "</style>\n",
              "<table border=\"1\" class=\"dataframe\">\n",
              "  <thead>\n",
              "    <tr style=\"text-align: right;\">\n",
              "      <th></th>\n",
              "      <th>actual</th>\n",
              "      <th>predict</th>\n",
              "    </tr>\n",
              "  </thead>\n",
              "  <tbody>\n",
              "    <tr>\n",
              "      <th>0</th>\n",
              "      <td>0</td>\n",
              "      <td>0</td>\n",
              "    </tr>\n",
              "    <tr>\n",
              "      <th>1</th>\n",
              "      <td>1</td>\n",
              "      <td>1</td>\n",
              "    </tr>\n",
              "    <tr>\n",
              "      <th>2</th>\n",
              "      <td>1</td>\n",
              "      <td>1</td>\n",
              "    </tr>\n",
              "    <tr>\n",
              "      <th>3</th>\n",
              "      <td>0</td>\n",
              "      <td>0</td>\n",
              "    </tr>\n",
              "    <tr>\n",
              "      <th>4</th>\n",
              "      <td>0</td>\n",
              "      <td>0</td>\n",
              "    </tr>\n",
              "    <tr>\n",
              "      <th>5</th>\n",
              "      <td>0</td>\n",
              "      <td>0</td>\n",
              "    </tr>\n",
              "    <tr>\n",
              "      <th>6</th>\n",
              "      <td>0</td>\n",
              "      <td>0</td>\n",
              "    </tr>\n",
              "    <tr>\n",
              "      <th>7</th>\n",
              "      <td>1</td>\n",
              "      <td>1</td>\n",
              "    </tr>\n",
              "    <tr>\n",
              "      <th>8</th>\n",
              "      <td>1</td>\n",
              "      <td>1</td>\n",
              "    </tr>\n",
              "    <tr>\n",
              "      <th>9</th>\n",
              "      <td>0</td>\n",
              "      <td>0</td>\n",
              "    </tr>\n",
              "    <tr>\n",
              "      <th>10</th>\n",
              "      <td>0</td>\n",
              "      <td>0</td>\n",
              "    </tr>\n",
              "    <tr>\n",
              "      <th>11</th>\n",
              "      <td>1</td>\n",
              "      <td>1</td>\n",
              "    </tr>\n",
              "    <tr>\n",
              "      <th>12</th>\n",
              "      <td>1</td>\n",
              "      <td>1</td>\n",
              "    </tr>\n",
              "    <tr>\n",
              "      <th>13</th>\n",
              "      <td>0</td>\n",
              "      <td>0</td>\n",
              "    </tr>\n",
              "    <tr>\n",
              "      <th>14</th>\n",
              "      <td>1</td>\n",
              "      <td>1</td>\n",
              "    </tr>\n",
              "    <tr>\n",
              "      <th>15</th>\n",
              "      <td>1</td>\n",
              "      <td>1</td>\n",
              "    </tr>\n",
              "    <tr>\n",
              "      <th>16</th>\n",
              "      <td>1</td>\n",
              "      <td>1</td>\n",
              "    </tr>\n",
              "    <tr>\n",
              "      <th>17</th>\n",
              "      <td>1</td>\n",
              "      <td>1</td>\n",
              "    </tr>\n",
              "    <tr>\n",
              "      <th>18</th>\n",
              "      <td>1</td>\n",
              "      <td>1</td>\n",
              "    </tr>\n",
              "    <tr>\n",
              "      <th>19</th>\n",
              "      <td>1</td>\n",
              "      <td>1</td>\n",
              "    </tr>\n",
              "    <tr>\n",
              "      <th>20</th>\n",
              "      <td>1</td>\n",
              "      <td>1</td>\n",
              "    </tr>\n",
              "    <tr>\n",
              "      <th>21</th>\n",
              "      <td>0</td>\n",
              "      <td>0</td>\n",
              "    </tr>\n",
              "    <tr>\n",
              "      <th>22</th>\n",
              "      <td>0</td>\n",
              "      <td>0</td>\n",
              "    </tr>\n",
              "    <tr>\n",
              "      <th>23</th>\n",
              "      <td>1</td>\n",
              "      <td>1</td>\n",
              "    </tr>\n",
              "    <tr>\n",
              "      <th>24</th>\n",
              "      <td>0</td>\n",
              "      <td>0</td>\n",
              "    </tr>\n",
              "    <tr>\n",
              "      <th>25</th>\n",
              "      <td>0</td>\n",
              "      <td>0</td>\n",
              "    </tr>\n",
              "    <tr>\n",
              "      <th>26</th>\n",
              "      <td>0</td>\n",
              "      <td>0</td>\n",
              "    </tr>\n",
              "    <tr>\n",
              "      <th>27</th>\n",
              "      <td>0</td>\n",
              "      <td>1</td>\n",
              "    </tr>\n",
              "    <tr>\n",
              "      <th>28</th>\n",
              "      <td>1</td>\n",
              "      <td>1</td>\n",
              "    </tr>\n",
              "    <tr>\n",
              "      <th>29</th>\n",
              "      <td>1</td>\n",
              "      <td>1</td>\n",
              "    </tr>\n",
              "    <tr>\n",
              "      <th>30</th>\n",
              "      <td>1</td>\n",
              "      <td>1</td>\n",
              "    </tr>\n",
              "    <tr>\n",
              "      <th>31</th>\n",
              "      <td>1</td>\n",
              "      <td>1</td>\n",
              "    </tr>\n",
              "    <tr>\n",
              "      <th>32</th>\n",
              "      <td>1</td>\n",
              "      <td>1</td>\n",
              "    </tr>\n",
              "    <tr>\n",
              "      <th>33</th>\n",
              "      <td>1</td>\n",
              "      <td>1</td>\n",
              "    </tr>\n",
              "    <tr>\n",
              "      <th>34</th>\n",
              "      <td>1</td>\n",
              "      <td>1</td>\n",
              "    </tr>\n",
              "    <tr>\n",
              "      <th>35</th>\n",
              "      <td>0</td>\n",
              "      <td>0</td>\n",
              "    </tr>\n",
              "    <tr>\n",
              "      <th>36</th>\n",
              "      <td>0</td>\n",
              "      <td>0</td>\n",
              "    </tr>\n",
              "    <tr>\n",
              "      <th>37</th>\n",
              "      <td>0</td>\n",
              "      <td>0</td>\n",
              "    </tr>\n",
              "    <tr>\n",
              "      <th>38</th>\n",
              "      <td>1</td>\n",
              "      <td>1</td>\n",
              "    </tr>\n",
              "    <tr>\n",
              "      <th>39</th>\n",
              "      <td>1</td>\n",
              "      <td>1</td>\n",
              "    </tr>\n",
              "    <tr>\n",
              "      <th>40</th>\n",
              "      <td>0</td>\n",
              "      <td>0</td>\n",
              "    </tr>\n",
              "    <tr>\n",
              "      <th>41</th>\n",
              "      <td>0</td>\n",
              "      <td>0</td>\n",
              "    </tr>\n",
              "    <tr>\n",
              "      <th>42</th>\n",
              "      <td>0</td>\n",
              "      <td>0</td>\n",
              "    </tr>\n",
              "    <tr>\n",
              "      <th>43</th>\n",
              "      <td>0</td>\n",
              "      <td>0</td>\n",
              "    </tr>\n",
              "    <tr>\n",
              "      <th>44</th>\n",
              "      <td>1</td>\n",
              "      <td>1</td>\n",
              "    </tr>\n",
              "    <tr>\n",
              "      <th>45</th>\n",
              "      <td>0</td>\n",
              "      <td>0</td>\n",
              "    </tr>\n",
              "    <tr>\n",
              "      <th>46</th>\n",
              "      <td>0</td>\n",
              "      <td>0</td>\n",
              "    </tr>\n",
              "    <tr>\n",
              "      <th>47</th>\n",
              "      <td>1</td>\n",
              "      <td>1</td>\n",
              "    </tr>\n",
              "    <tr>\n",
              "      <th>48</th>\n",
              "      <td>0</td>\n",
              "      <td>0</td>\n",
              "    </tr>\n",
              "    <tr>\n",
              "      <th>49</th>\n",
              "      <td>0</td>\n",
              "      <td>0</td>\n",
              "    </tr>\n",
              "    <tr>\n",
              "      <th>50</th>\n",
              "      <td>0</td>\n",
              "      <td>0</td>\n",
              "    </tr>\n",
              "    <tr>\n",
              "      <th>51</th>\n",
              "      <td>0</td>\n",
              "      <td>0</td>\n",
              "    </tr>\n",
              "    <tr>\n",
              "      <th>52</th>\n",
              "      <td>0</td>\n",
              "      <td>0</td>\n",
              "    </tr>\n",
              "    <tr>\n",
              "      <th>53</th>\n",
              "      <td>0</td>\n",
              "      <td>1</td>\n",
              "    </tr>\n",
              "    <tr>\n",
              "      <th>54</th>\n",
              "      <td>1</td>\n",
              "      <td>1</td>\n",
              "    </tr>\n",
              "    <tr>\n",
              "      <th>55</th>\n",
              "      <td>0</td>\n",
              "      <td>0</td>\n",
              "    </tr>\n",
              "    <tr>\n",
              "      <th>56</th>\n",
              "      <td>0</td>\n",
              "      <td>0</td>\n",
              "    </tr>\n",
              "    <tr>\n",
              "      <th>57</th>\n",
              "      <td>0</td>\n",
              "      <td>0</td>\n",
              "    </tr>\n",
              "    <tr>\n",
              "      <th>58</th>\n",
              "      <td>0</td>\n",
              "      <td>0</td>\n",
              "    </tr>\n",
              "    <tr>\n",
              "      <th>59</th>\n",
              "      <td>1</td>\n",
              "      <td>1</td>\n",
              "    </tr>\n",
              "    <tr>\n",
              "      <th>60</th>\n",
              "      <td>1</td>\n",
              "      <td>1</td>\n",
              "    </tr>\n",
              "    <tr>\n",
              "      <th>61</th>\n",
              "      <td>0</td>\n",
              "      <td>0</td>\n",
              "    </tr>\n",
              "    <tr>\n",
              "      <th>62</th>\n",
              "      <td>0</td>\n",
              "      <td>0</td>\n",
              "    </tr>\n",
              "    <tr>\n",
              "      <th>63</th>\n",
              "      <td>1</td>\n",
              "      <td>1</td>\n",
              "    </tr>\n",
              "    <tr>\n",
              "      <th>64</th>\n",
              "      <td>1</td>\n",
              "      <td>1</td>\n",
              "    </tr>\n",
              "    <tr>\n",
              "      <th>65</th>\n",
              "      <td>0</td>\n",
              "      <td>0</td>\n",
              "    </tr>\n",
              "    <tr>\n",
              "      <th>66</th>\n",
              "      <td>1</td>\n",
              "      <td>1</td>\n",
              "    </tr>\n",
              "    <tr>\n",
              "      <th>67</th>\n",
              "      <td>0</td>\n",
              "      <td>0</td>\n",
              "    </tr>\n",
              "    <tr>\n",
              "      <th>68</th>\n",
              "      <td>1</td>\n",
              "      <td>1</td>\n",
              "    </tr>\n",
              "    <tr>\n",
              "      <th>69</th>\n",
              "      <td>0</td>\n",
              "      <td>0</td>\n",
              "    </tr>\n",
              "    <tr>\n",
              "      <th>70</th>\n",
              "      <td>1</td>\n",
              "      <td>1</td>\n",
              "    </tr>\n",
              "    <tr>\n",
              "      <th>71</th>\n",
              "      <td>0</td>\n",
              "      <td>0</td>\n",
              "    </tr>\n",
              "    <tr>\n",
              "      <th>72</th>\n",
              "      <td>0</td>\n",
              "      <td>0</td>\n",
              "    </tr>\n",
              "    <tr>\n",
              "      <th>73</th>\n",
              "      <td>0</td>\n",
              "      <td>0</td>\n",
              "    </tr>\n",
              "    <tr>\n",
              "      <th>74</th>\n",
              "      <td>1</td>\n",
              "      <td>1</td>\n",
              "    </tr>\n",
              "    <tr>\n",
              "      <th>75</th>\n",
              "      <td>0</td>\n",
              "      <td>0</td>\n",
              "    </tr>\n",
              "    <tr>\n",
              "      <th>76</th>\n",
              "      <td>1</td>\n",
              "      <td>1</td>\n",
              "    </tr>\n",
              "    <tr>\n",
              "      <th>77</th>\n",
              "      <td>1</td>\n",
              "      <td>1</td>\n",
              "    </tr>\n",
              "    <tr>\n",
              "      <th>78</th>\n",
              "      <td>1</td>\n",
              "      <td>1</td>\n",
              "    </tr>\n",
              "    <tr>\n",
              "      <th>79</th>\n",
              "      <td>1</td>\n",
              "      <td>1</td>\n",
              "    </tr>\n",
              "    <tr>\n",
              "      <th>80</th>\n",
              "      <td>0</td>\n",
              "      <td>0</td>\n",
              "    </tr>\n",
              "    <tr>\n",
              "      <th>81</th>\n",
              "      <td>1</td>\n",
              "      <td>1</td>\n",
              "    </tr>\n",
              "    <tr>\n",
              "      <th>82</th>\n",
              "      <td>0</td>\n",
              "      <td>0</td>\n",
              "    </tr>\n",
              "    <tr>\n",
              "      <th>83</th>\n",
              "      <td>1</td>\n",
              "      <td>1</td>\n",
              "    </tr>\n",
              "    <tr>\n",
              "      <th>84</th>\n",
              "      <td>0</td>\n",
              "      <td>0</td>\n",
              "    </tr>\n",
              "    <tr>\n",
              "      <th>85</th>\n",
              "      <td>0</td>\n",
              "      <td>0</td>\n",
              "    </tr>\n",
              "    <tr>\n",
              "      <th>86</th>\n",
              "      <td>1</td>\n",
              "      <td>1</td>\n",
              "    </tr>\n",
              "    <tr>\n",
              "      <th>87</th>\n",
              "      <td>0</td>\n",
              "      <td>1</td>\n",
              "    </tr>\n",
              "    <tr>\n",
              "      <th>88</th>\n",
              "      <td>1</td>\n",
              "      <td>1</td>\n",
              "    </tr>\n",
              "    <tr>\n",
              "      <th>89</th>\n",
              "      <td>1</td>\n",
              "      <td>1</td>\n",
              "    </tr>\n",
              "    <tr>\n",
              "      <th>90</th>\n",
              "      <td>0</td>\n",
              "      <td>0</td>\n",
              "    </tr>\n",
              "    <tr>\n",
              "      <th>91</th>\n",
              "      <td>0</td>\n",
              "      <td>0</td>\n",
              "    </tr>\n",
              "    <tr>\n",
              "      <th>92</th>\n",
              "      <td>1</td>\n",
              "      <td>1</td>\n",
              "    </tr>\n",
              "    <tr>\n",
              "      <th>93</th>\n",
              "      <td>0</td>\n",
              "      <td>0</td>\n",
              "    </tr>\n",
              "    <tr>\n",
              "      <th>94</th>\n",
              "      <td>0</td>\n",
              "      <td>0</td>\n",
              "    </tr>\n",
              "    <tr>\n",
              "      <th>95</th>\n",
              "      <td>0</td>\n",
              "      <td>0</td>\n",
              "    </tr>\n",
              "    <tr>\n",
              "      <th>96</th>\n",
              "      <td>0</td>\n",
              "      <td>0</td>\n",
              "    </tr>\n",
              "    <tr>\n",
              "      <th>97</th>\n",
              "      <td>1</td>\n",
              "      <td>1</td>\n",
              "    </tr>\n",
              "    <tr>\n",
              "      <th>98</th>\n",
              "      <td>1</td>\n",
              "      <td>1</td>\n",
              "    </tr>\n",
              "    <tr>\n",
              "      <th>99</th>\n",
              "      <td>1</td>\n",
              "      <td>1</td>\n",
              "    </tr>\n",
              "  </tbody>\n",
              "</table>\n",
              "</div>"
            ],
            "text/plain": [
              "    actual  predict\n",
              "0        0        0\n",
              "1        1        1\n",
              "2        1        1\n",
              "3        0        0\n",
              "4        0        0\n",
              "5        0        0\n",
              "6        0        0\n",
              "7        1        1\n",
              "8        1        1\n",
              "9        0        0\n",
              "10       0        0\n",
              "11       1        1\n",
              "12       1        1\n",
              "13       0        0\n",
              "14       1        1\n",
              "15       1        1\n",
              "16       1        1\n",
              "17       1        1\n",
              "18       1        1\n",
              "19       1        1\n",
              "20       1        1\n",
              "21       0        0\n",
              "22       0        0\n",
              "23       1        1\n",
              "24       0        0\n",
              "25       0        0\n",
              "26       0        0\n",
              "27       0        1\n",
              "28       1        1\n",
              "29       1        1\n",
              "30       1        1\n",
              "31       1        1\n",
              "32       1        1\n",
              "33       1        1\n",
              "34       1        1\n",
              "35       0        0\n",
              "36       0        0\n",
              "37       0        0\n",
              "38       1        1\n",
              "39       1        1\n",
              "40       0        0\n",
              "41       0        0\n",
              "42       0        0\n",
              "43       0        0\n",
              "44       1        1\n",
              "45       0        0\n",
              "46       0        0\n",
              "47       1        1\n",
              "48       0        0\n",
              "49       0        0\n",
              "50       0        0\n",
              "51       0        0\n",
              "52       0        0\n",
              "53       0        1\n",
              "54       1        1\n",
              "55       0        0\n",
              "56       0        0\n",
              "57       0        0\n",
              "58       0        0\n",
              "59       1        1\n",
              "60       1        1\n",
              "61       0        0\n",
              "62       0        0\n",
              "63       1        1\n",
              "64       1        1\n",
              "65       0        0\n",
              "66       1        1\n",
              "67       0        0\n",
              "68       1        1\n",
              "69       0        0\n",
              "70       1        1\n",
              "71       0        0\n",
              "72       0        0\n",
              "73       0        0\n",
              "74       1        1\n",
              "75       0        0\n",
              "76       1        1\n",
              "77       1        1\n",
              "78       1        1\n",
              "79       1        1\n",
              "80       0        0\n",
              "81       1        1\n",
              "82       0        0\n",
              "83       1        1\n",
              "84       0        0\n",
              "85       0        0\n",
              "86       1        1\n",
              "87       0        1\n",
              "88       1        1\n",
              "89       1        1\n",
              "90       0        0\n",
              "91       0        0\n",
              "92       1        1\n",
              "93       0        0\n",
              "94       0        0\n",
              "95       0        0\n",
              "96       0        0\n",
              "97       1        1\n",
              "98       1        1\n",
              "99       1        1"
            ]
          },
          "metadata": {
            "tags": []
          },
          "execution_count": 281
        }
      ]
    },
    {
      "cell_type": "code",
      "metadata": {
        "id": "fTz2zU8_JYzP",
        "colab_type": "code",
        "colab": {
          "base_uri": "https://localhost:8080/",
          "height": 339
        },
        "outputId": "34f6b473-d332-4c0e-aab6-7f3ad2a9fb90"
      },
      "source": [
        "resultdf.hist()"
      ],
      "execution_count": null,
      "outputs": [
        {
          "output_type": "execute_result",
          "data": {
            "text/plain": [
              "array([[<matplotlib.axes._subplots.AxesSubplot object at 0x7ff7137e4e80>,\n",
              "        <matplotlib.axes._subplots.AxesSubplot object at 0x7ff71b7ea9e8>]],\n",
              "      dtype=object)"
            ]
          },
          "metadata": {
            "tags": []
          },
          "execution_count": 268
        },
        {
          "output_type": "display_data",
          "data": {
            "image/png": "[encoded data removed]",
            "text/plain": [
              "<Figure size 432x288 with 2 Axes>"
            ]
          },
          "metadata": {
            "tags": [],
            "needs_background": "light"
          }
        }
      ]
    },
    {
      "cell_type": "code",
      "metadata": {
        "id": "UwkoJh9GOcxz",
        "colab_type": "code",
        "colab": {
          "base_uri": "https://localhost:8080/",
          "height": 360
        },
        "outputId": "5d8d4569-2cb0-4bd2-bbcf-9dd70806782d"
      },
      "source": [
        "resultdf.plot.bar(figsize=(20, 5))\n",
        "plt.title('Predicted vs Actual')"
      ],
      "execution_count": null,
      "outputs": [
        {
          "output_type": "execute_result",
          "data": {
            "text/plain": [
              "Text(0.5, 1.0, 'Predicted vs Actual')"
            ]
          },
          "metadata": {
            "tags": []
          },
          "execution_count": 283
        },
        {
          "output_type": "display_data",
          "data": {
            "image/png": "[encoded data removed]",
            "text/plain": [
              "<Figure size 1440x360 with 1 Axes>"
            ]
          },
          "metadata": {
            "tags": [],
            "needs_background": "light"
          }
        }
      ]
    },
    {
      "cell_type": "markdown",
      "metadata": {
        "id": "DpeF5fLqQy0b",
        "colab_type": "text"
      },
      "source": [
        "\n",
        "\n",
        "###   **---THE END---**\n",
        "\n",
        "\n",
        "\n",
        "\n"
      ]
    }
  ]
}